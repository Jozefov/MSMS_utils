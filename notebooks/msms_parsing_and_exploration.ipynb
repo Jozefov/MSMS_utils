{
 "cells": [
  {
   "metadata": {},
   "cell_type": "markdown",
   "source": "# MS/MS parser",
   "id": "93746697be150a61"
  },
  {
   "metadata": {},
   "cell_type": "markdown",
   "source": [
    "This notebook was created for purpose of parsing MS/MS data. It was needed for creation of canonical smiles from CAS number or InChiKey or names.\n",
    "All these information were downloaded from PubChem with help of PubChempy package. And SMILES were chosen from logic in function determine_general_smiles.\n",
    "\n",
    "\n",
    "Also original nist_msms contains unidentifiable attributes with name $Synon: two_numbers, which were then translated into this mapping:\n",
    "\n",
    "    '00': 'fragmentation_level',\n",
    "    '03': 'adduct',\n",
    "    '04': 'mass',  # Unclear, keep name as 'mass'\n",
    "    '05': 'collision_energy',\n",
    "    '06': 'instrument_type',\n",
    "    '07': 'instrument_model',\n",
    "    '08': 'ion_acquisition_mode',\n",
    "    '09': 'chromatography_setup',\n",
    "    '10': 'ionization_mode',\n",
    "    '11': 'polarity',\n",
    "    '12': 'collision_gas',\n",
    "    '13': 'collision_cell_pressure',\n",
    "    '16': 'unknown_16',\n",
    "    '17': 'additional_info',\n",
    "    '18': 'unknown_18',\n",
    "    '24': 'unknown_24',\n",
    "    '28': 'inchikey',\n",
    "    '30': 'transition_monitoring'\n",
    "    \n",
    "Result is then spectrum file .msp which contain parsed spectrum metadata (such as smiles, adducts, etd.) and spectrum\n",
    "    \n"
   ],
   "id": "df513a50e5566dbf"
  },
  {
   "metadata": {
    "ExecuteTime": {
     "end_time": "2024-09-12T15:19:43.188996Z",
     "start_time": "2024-09-12T15:19:43.186576Z"
    }
   },
   "cell_type": "code",
   "source": [
    "from matchms.importing import load_from_msp\n",
    "import numpy as np\n",
    "import os\n",
    "import random"
   ],
   "id": "2dba99bae57d3176",
   "outputs": [],
   "execution_count": 134
  },
  {
   "metadata": {
    "ExecuteTime": {
     "end_time": "2024-09-12T06:30:12.051553Z",
     "start_time": "2024-09-12T06:30:12.048551Z"
    }
   },
   "cell_type": "code",
   "source": [
    "from matchms.importing import load_from_msp\n",
    "from matchms.exporting import save_as_msp\n",
    "from matchms import Spectrum\n",
    "from pubchempy import get_compounds\n",
    "import json\n",
    "import matchms\n",
    "\n",
    "import pandas as pd\n",
    "from rdkit import Chem\n",
    "from rdkit.Chem import inchi\n",
    "\n",
    "\n",
    "import math\n",
    "import numpy as np\n",
    "import os\n",
    "import random\n",
    "import pandas as pd\n",
    "import time\n",
    "\n",
    "import matplotlib.pyplot as plt\n",
    "import re\n",
    "from collections import defaultdict"
   ],
   "id": "960706a1a9983515",
   "outputs": [],
   "execution_count": 2
  },
  {
   "metadata": {
    "ExecuteTime": {
     "end_time": "2024-09-12T06:30:59.930264Z",
     "start_time": "2024-09-12T06:30:59.927692Z"
    }
   },
   "cell_type": "code",
   "source": [
    "FILE_PATH_MS = '../data/NIST/nist_msms.MSP'\n",
    "FILE_PATH_MS2 = '../data/NIST/nist_msms2.MSP'\n",
    "\n",
    "NUM_OF_MS_SPEC = 574826\n",
    "NUM_OF_MS2_SPEC = 90244"
   ],
   "id": "248061502c6c15c5",
   "outputs": [],
   "execution_count": 4
  },
  {
   "metadata": {},
   "cell_type": "markdown",
   "source": "## Custom parser",
   "id": "95105f3c11e2f450"
  },
  {
   "metadata": {
    "ExecuteTime": {
     "end_time": "2024-09-12T06:31:12.284116Z",
     "start_time": "2024-09-12T06:31:12.277601Z"
    }
   },
   "cell_type": "code",
   "source": [
    "def parse_msp_synon(file_path):\n",
    "    \"\"\"\n",
    "    Parses an MSP file to extract spectra information, specifically focusing on 'Synon' fields\n",
    "    prefixed with '$:' entries. Each spectrum is identified by a unique NISTNO (NIST number).\n",
    "    \n",
    "    The function reads the MSP file line-by-line, identifies each spectrum based on the \"Name:\" \n",
    "    line, and associates 'Synon' entries with two-digit codes from the '$:' prefix with their\n",
    "    respective NISTNO. The extracted data is organized in a dictionary where keys are NISTNOs and\n",
    "    values are dictionaries containing 'Synon' attributes, CASNO, and Name.\n",
    "\n",
    "    Parameters:\n",
    "    file_path (str): The path to the MSP file to be parsed.\n",
    "\n",
    "    Returns:\n",
    "    dict: A dictionary where each key is a NISTNO (unique identifier for each spectrum) and each\n",
    "          value is another dictionary containing 'Synon' attributes (with two-digit codes as keys\n",
    "          and their corresponding values), CASNO, and Name.\n",
    "\n",
    "    Example:\n",
    "    If the input file contains:\n",
    "    Name: Example Compound\n",
    "    NISTNO: 123456\n",
    "    CASNO: 123456789\n",
    "    Synon: $:03[M+H]+\n",
    "    Synon: $:06IT/ion trap\n",
    "    \n",
    "    The output will be:\n",
    "    {\n",
    "        '123456': {\n",
    "            'name': 'Example Compound',\n",
    "            'casno': '123456789',\n",
    "            'synon': {\n",
    "                '03': '[M+H]+',\n",
    "                '06': 'IT/ion trap'\n",
    "            }\n",
    "        }\n",
    "    }\n",
    "\n",
    "    \"\"\"\n",
    "    spectra_data = {}\n",
    "    current_spectrum = None\n",
    "    synon_dict = {}\n",
    "\n",
    "    with open(file_path, 'r') as file:\n",
    "        for line in file:\n",
    "            line = line.strip()\n",
    "            \n",
    "            # Start a new spectrum entry when encountering a Name line\n",
    "            if line.startswith(\"Name:\"):\n",
    "                # Save the current spectrum's data if it exists\n",
    "                if current_spectrum:\n",
    "                    nistno = current_spectrum.get('nistno')\n",
    "                    if nistno:\n",
    "                        spectra_data[nistno] = {\n",
    "                            'name': current_spectrum.get('compound_name', 'N/A'),\n",
    "                            'casno': current_spectrum.get('casno', 'N/A'),\n",
    "                            'synon': synon_dict\n",
    "                        }\n",
    "                # Initialize a new spectrum\n",
    "                current_spectrum = {\"compound_name\": line.split(\": \", 1)[1]}\n",
    "                synon_dict = {}  # Reset Synon attributes for the new spectrum\n",
    "\n",
    "            elif line.startswith(\"NISTNO:\"):\n",
    "                # Ensure current_spectrum is not None\n",
    "                if current_spectrum is not None:\n",
    "                    # Capture NISTNO for unique identification\n",
    "                    current_spectrum['nistno'] = line.split(\": \", 1)[1]\n",
    "\n",
    "            elif line.startswith(\"CASNO:\"):\n",
    "                # Ensure current_spectrum is not None and capture CASNO\n",
    "                if current_spectrum is not None:\n",
    "                    current_spectrum['casno'] = line.split(\": \", 1)[1] \n",
    "\n",
    "            elif line.startswith(\"Synon: $:\"):\n",
    "                # Extract the two-digit code and the corresponding value\n",
    "                match = re.match(r\"Synon: \\$:(\\d{2})(.*)\", line)\n",
    "                if match and current_spectrum is not None:\n",
    "                    code = match.group(1)\n",
    "                    value = match.group(2).strip()\n",
    "                    synon_dict[code] = value  # Store the code and value in the dictionary\n",
    "\n",
    "        # Save the last spectrum if the file does not end with a new 'Name:' line\n",
    "        if current_spectrum and 'nistno' in current_spectrum:\n",
    "            nistno = current_spectrum['nistno']\n",
    "            spectra_data[nistno] = {\n",
    "                'name': current_spectrum.get('compound_name', 'N/A'),\n",
    "                'casno': current_spectrum.get('casno', 'N/A'),\n",
    "                'synon': synon_dict\n",
    "            }\n",
    "\n",
    "    return spectra_data"
   ],
   "id": "36bf7503493ef692",
   "outputs": [],
   "execution_count": 6
  },
  {
   "metadata": {
    "ExecuteTime": {
     "end_time": "2024-09-12T06:32:21.679905Z",
     "start_time": "2024-09-12T06:31:59.899492Z"
    }
   },
   "cell_type": "code",
   "source": [
    "# Parse the file\n",
    "parsed_spectra = parse_msp_synon(FILE_PATH_MS)"
   ],
   "id": "5424574da1f0780f",
   "outputs": [],
   "execution_count": 7
  },
  {
   "metadata": {
    "ExecuteTime": {
     "end_time": "2024-09-12T06:32:27.661407Z",
     "start_time": "2024-09-12T06:32:27.657190Z"
    }
   },
   "cell_type": "code",
   "source": [
    "# Check if num of instances in original file and parsed dictionary differs\n",
    "len(parsed_spectra) == NUM_OF_MS_SPEC"
   ],
   "id": "b72d640e673e1ce8",
   "outputs": [
    {
     "data": {
      "text/plain": [
       "True"
      ]
     },
     "execution_count": 9,
     "metadata": {},
     "output_type": "execute_result"
    }
   ],
   "execution_count": 9
  },
  {
   "metadata": {
    "ExecuteTime": {
     "end_time": "2024-09-12T06:32:29.043230Z",
     "start_time": "2024-09-12T06:32:29.040592Z"
    }
   },
   "cell_type": "code",
   "source": "len(parsed_spectra)",
   "id": "5d4a9e924aa5f6cd",
   "outputs": [
    {
     "data": {
      "text/plain": [
       "574826"
      ]
     },
     "execution_count": 10,
     "metadata": {},
     "output_type": "execute_result"
    }
   ],
   "execution_count": 10
  },
  {
   "metadata": {
    "ExecuteTime": {
     "end_time": "2024-09-12T06:33:20.147447Z",
     "start_time": "2024-09-12T06:33:20.143668Z"
    }
   },
   "cell_type": "code",
   "source": [
    "def validate_and_count_attr(parsed_spectra): \n",
    "    \"\"\"\n",
    "    Function to print base statistics of parsed Synon attributes from the parsed_spectra dictionary.\n",
    "    \n",
    "    :param parsed_spectra: dictionary from parse_msp_synon function with structure:\n",
    "                           {\n",
    "                               'NISTNO': {\n",
    "                                   'name': 'Compound Name',\n",
    "                                   'casno': 'CAS Number',\n",
    "                                   'synon': {\n",
    "                                       'Attribute Code': 'Value',\n",
    "                                       ...\n",
    "                                   }\n",
    "                               },\n",
    "                               ...\n",
    "                           }\n",
    "    :return: None\n",
    "    \"\"\"\n",
    "\n",
    "    min_synon_count = float('inf')\n",
    "    max_synon_count = 0\n",
    "    attribute_counts = defaultdict(int)\n",
    "    unique_attributes = set()\n",
    "    \n",
    "    for nistno, spectrum in parsed_spectra.items():\n",
    "        synon_dict = spectrum.get('synon', {})\n",
    "        synon_count = len(synon_dict)\n",
    "\n",
    "        min_synon_count = min(min_synon_count, synon_count)\n",
    "        max_synon_count = max(max_synon_count, synon_count)\n",
    "\n",
    "        for attribute in synon_dict.keys():\n",
    "            unique_attributes.add(attribute)\n",
    "            attribute_counts[attribute] += 1\n",
    "\n",
    "    print(f\"Minimum number of Synon attributes per spectrum: {min_synon_count}\")\n",
    "    print(f\"Maximum number of Synon attributes per spectrum: {max_synon_count}\")\n",
    "\n",
    "    print(\"\\nUnique attribute names and their occurrences:\")\n",
    "    for attribute, count in sorted(attribute_counts.items()):\n",
    "        print(f\"Attribute {attribute}: {count} occurrences\")"
   ],
   "id": "ff809cec92812cc5",
   "outputs": [],
   "execution_count": 13
  },
  {
   "metadata": {
    "ExecuteTime": {
     "end_time": "2024-09-12T14:28:32.463248Z",
     "start_time": "2024-09-12T14:28:31.469236Z"
    }
   },
   "cell_type": "code",
   "source": [
    "# Validate of many instances are not N/A, total number is 574826\n",
    "validate_and_count_attr(parsed_spectra)"
   ],
   "id": "a70d3ee8258c37a3",
   "outputs": [
    {
     "name": "stdout",
     "output_type": "stream",
     "text": [
      "Minimum number of Synon attributes per spectrum: 8\n",
      "Maximum number of Synon attributes per spectrum: 15\n",
      "\n",
      "Unique attribute names and their occurrences:\n",
      "Attribute 00: 574826 occurrences\n",
      "Attribute 03: 574826 occurrences\n",
      "Attribute 04: 574826 occurrences\n",
      "Attribute 05: 572161 occurrences\n",
      "Attribute 06: 574699 occurrences\n",
      "Attribute 07: 574696 occurrences\n",
      "Attribute 08: 1064 occurrences\n",
      "Attribute 09: 574345 occurrences\n",
      "Attribute 10: 574809 occurrences\n",
      "Attribute 11: 574826 occurrences\n",
      "Attribute 12: 565595 occurrences\n",
      "Attribute 13: 27079 occurrences\n",
      "Attribute 16: 75755 occurrences\n",
      "Attribute 17: 574826 occurrences\n",
      "Attribute 18: 95978 occurrences\n",
      "Attribute 24: 71150 occurrences\n",
      "Attribute 28: 565400 occurrences\n",
      "Attribute 30: 95747 occurrences\n"
     ]
    }
   ],
   "execution_count": 124
  },
  {
   "metadata": {
    "ExecuteTime": {
     "end_time": "2024-09-12T06:33:30.779578Z",
     "start_time": "2024-09-12T06:33:30.775779Z"
    }
   },
   "cell_type": "code",
   "source": [
    "def create_dataframe_from_parsed_spectra(parsed_spectra):\n",
    "    \"\"\"\n",
    "    Creates a pandas DataFrame from the parsed spectra dictionary.\n",
    "    \n",
    "    Each row in the DataFrame is indexed by NISTNO, and each column corresponds to a unique Synon\n",
    "    attribute identified by its two-digit code, as well as CASNO and Name. Missing values are filled with 'N/A'.\n",
    "    \n",
    "    Parameters:\n",
    "    parsed_spectra (dict): A dictionary where keys are NISTNOs and values are dictionaries with the structure:\n",
    "                           {\n",
    "                               'name': 'Compound Name',\n",
    "                               'casno': 'CAS Number',\n",
    "                               'synon': {\n",
    "                                   'Attribute Code': 'Value',\n",
    "                                   ...\n",
    "                               }\n",
    "                           }\n",
    "                           \n",
    "    Returns:\n",
    "    pd.DataFrame: A pandas DataFrame indexed by NISTNO with CASNO, Name, and Synon attributes as columns.\n",
    "    \"\"\"\n",
    "    data = []\n",
    "\n",
    "    unique_attributes = set()\n",
    "    for spectrum in parsed_spectra.values():\n",
    "        unique_attributes.update(spectrum.get('synon', {}).keys())\n",
    "\n",
    "    sorted_attributes = sorted(unique_attributes)\n",
    "\n",
    "    for nistno, spectrum in parsed_spectra.items():\n",
    "        row = {\n",
    "            'NISTNO': nistno,\n",
    "            'CASNO': spectrum.get('casno', 'N/A'),\n",
    "            'Name': spectrum.get('name', 'N/A')\n",
    "        }\n",
    "        \n",
    "        synon_dict = spectrum.get('synon', {})\n",
    "        for attr in sorted_attributes:\n",
    "            row[attr] = synon_dict.get(attr, 'N/A')\n",
    "        \n",
    "        data.append(row)\n",
    "\n",
    "    df = pd.DataFrame(data)\n",
    "    df.set_index('NISTNO', inplace=True)\n",
    "    \n",
    "    return df"
   ],
   "id": "7541810000fe834b",
   "outputs": [],
   "execution_count": 15
  },
  {
   "metadata": {
    "ExecuteTime": {
     "end_time": "2024-09-12T07:48:49.580679Z",
     "start_time": "2024-09-12T07:48:47.602318Z"
    }
   },
   "cell_type": "code",
   "source": [
    "# Create dataframe for Synon attributes\n",
    "df = create_dataframe_from_parsed_spectra(parsed_spectra)"
   ],
   "id": "8ca9ef366d025188",
   "outputs": [],
   "execution_count": 42
  },
  {
   "metadata": {
    "ExecuteTime": {
     "end_time": "2024-09-12T06:36:28.115209Z",
     "start_time": "2024-09-12T06:36:28.110312Z"
    }
   },
   "cell_type": "code",
   "source": "print(df.head())",
   "id": "2aefd3bdaddf8f64",
   "outputs": [
    {
     "name": "stdout",
     "output_type": "stream",
     "text": [
      "             CASNO                                               Name   00  \\\n",
      "NISTNO                                                                       \n",
      "1000001   85778456  3-Hydroxy-3-(2-(2-hydroxyphenyl)-2-oxoethyl)-1...  MS2   \n",
      "1000002  298217455  5-(4-Ethoxybenzylidene)-2-(4-morpholinyl)-1,3-...  MS2   \n",
      "1000003  298217466  1-(4-Nitro)-3-((2-(3-methylphenoxy)ethyl)amino...  MS2   \n",
      "1000004  298217488  1-(3-((2-(3,4-Dimethylphenoxy)ethyl)amino)-4-(...  MS2   \n",
      "1000005  298217499  2-(1-Methylhydrazino)-4,6-di(1-pyrrolidinyl)-1...  MS2   \n",
      "\n",
      "             03        04                                 05           06  \\\n",
      "NISTNO                                                                      \n",
      "1000001  [M+H]+  284.0917  resonant relative/normalized 35 %  IT/ion trap   \n",
      "1000002  [M+H]+  319.1111  resonant relative/normalized 35 %  IT/ion trap   \n",
      "1000003  [M+H]+  342.1812  resonant relative/normalized 35 %  IT/ion trap   \n",
      "1000004  [M+H]+  356.1969  resonant relative/normalized 35 %  IT/ion trap   \n",
      "1000005  [M+H]+  264.1931  resonant relative/normalized 50 %  IT/ion trap   \n",
      "\n",
      "                               07        08    09   10 11   12   13   16  \\\n",
      "NISTNO                                                                     \n",
      "1000001  Thermo Finnigan LCQ Deca  wideband  HPLC  ESI  P  N/A  N/A  N/A   \n",
      "1000002  Thermo Finnigan LCQ Deca  wideband  HPLC  ESI  P  N/A  N/A  N/A   \n",
      "1000003  Thermo Finnigan LCQ Deca  wideband  HPLC  ESI  P  N/A  N/A  N/A   \n",
      "1000004  Thermo Finnigan LCQ Deca  wideband  HPLC  ESI  P  N/A  N/A  N/A   \n",
      "1000005  Thermo Finnigan LCQ Deca  wideband  HPLC  ESI  P  N/A  N/A  N/A   \n",
      "\n",
      "                          17   18   24                           28   30  \n",
      "NISTNO                                                                    \n",
      "1000001  mol_Vial_ID=1000001  N/A  N/A  UAEJHGCEFAFLIJ-UHFFFAOYSA-N  N/A  \n",
      "1000002  mol_Vial_ID=1000002  N/A  N/A  SYKSUKDZLCWNCF-KAMYIIQDSA-N  N/A  \n",
      "1000003  mol_Vial_ID=1000003  N/A  N/A  IYECCJLABJLPSS-UHFFFAOYSA-N  N/A  \n",
      "1000004  mol_Vial_ID=1000004  N/A  N/A  MHNGOEOPQMIYKD-UHFFFAOYSA-N  N/A  \n",
      "1000005  mol_Vial_ID=1000005  N/A  N/A  NAQUCIWMEKCLAU-UHFFFAOYSA-N  N/A  \n"
     ]
    }
   ],
   "execution_count": 17
  },
  {
   "metadata": {
    "ExecuteTime": {
     "end_time": "2024-09-12T06:36:41.246148Z",
     "start_time": "2024-09-12T06:36:41.243315Z"
    }
   },
   "cell_type": "code",
   "source": [
    "def find_top_values_per_attribute(df, top_n=10):\n",
    "    \"\"\"\n",
    "    Finds the most common values for each attribute in the DataFrame, excluding 'N/A'.\n",
    "    \n",
    "    Parameters:\n",
    "    df (pd.DataFrame): A pandas DataFrame indexed by NISTNO with Synon attributes as columns.\n",
    "    top_n (int): The number of top values to find for each attribute (default is 10).\n",
    "    \n",
    "    Returns:\n",
    "    dict: A dictionary where each key is an attribute and each value is a list of the most common values.\n",
    "    \"\"\"\n",
    "    top_values = {}\n",
    "\n",
    "    for column in df.columns:\n",
    "        value_counts = df[column].value_counts()\n",
    "        most_common_values = value_counts.head(top_n).to_dict()\n",
    "        top_values[column] = most_common_values\n",
    "\n",
    "    return top_values"
   ],
   "id": "aa893cd7d95b0ef0",
   "outputs": [],
   "execution_count": 18
  },
  {
   "metadata": {
    "ExecuteTime": {
     "end_time": "2024-09-12T06:36:46.257407Z",
     "start_time": "2024-09-12T06:36:44.976515Z"
    }
   },
   "cell_type": "code",
   "source": [
    "# Top common values for attributes\n",
    "top_values = find_top_values_per_attribute(df)"
   ],
   "id": "613d4cc85f65ba4f",
   "outputs": [],
   "execution_count": 19
  },
  {
   "metadata": {
    "ExecuteTime": {
     "end_time": "2024-09-12T06:36:47.319465Z",
     "start_time": "2024-09-12T06:36:47.316310Z"
    }
   },
   "cell_type": "code",
   "source": [
    "# Display the top 10 values for each attribute\n",
    "for attr, values in top_values.items():\n",
    "    print(f\"Attribute {attr}:\")\n",
    "    for value, count in values.items():\n",
    "        print(f\"  {value}: {count} occurrences\")\n",
    "    print()"
   ],
   "id": "ef1c5db0f5c1f45c",
   "outputs": [
    {
     "name": "stdout",
     "output_type": "stream",
     "text": [
      "Attribute CASNO:\n",
      "  0: 51330 occurrences\n",
      "  70458967: 318 occurrences\n",
      "  81254: 275 occurrences\n",
      "  3116765: 268 occurrences\n",
      "  53350: 248 occurrences\n",
      "  115550351: 241 occurrences\n",
      "  40180049: 241 occurrences\n",
      "  73477539: 240 occurrences\n",
      "  81693223: 235 occurrences\n",
      "  93106606: 233 occurrences\n",
      "\n",
      "Attribute Name:\n",
      "  Norfloxacin: 318 occurrences\n",
      "  Cholic acid: 275 occurrences\n",
      "  Dicloxacillin: 268 occurrences\n",
      "  4-Pregnen-6.beta.,11.beta.,17,21-tetrol-3,20-dione: 248 occurrences\n",
      "  Marbofloxacin: 241 occurrences\n",
      "  Tienilic acid: 241 occurrences\n",
      "  .alpha.-Guanidinoglutaric acid: 240 occurrences\n",
      "  3'-.alpha.-Sialyl-N-acetyllactosamine: 235 occurrences\n",
      "  Enrofloxacin: 233 occurrences\n",
      "  L-Glutathione, reduced: 232 occurrences\n",
      "\n",
      "Attribute 00:\n",
      "  MS2: 478848 occurrences\n",
      "  MS3: 57975 occurrences\n",
      "  MS4: 38000 occurrences\n",
      "  MS5: 3 occurrences\n",
      "\n",
      "Attribute 03:\n",
      "  [M+H]+: 173308 occurrences\n",
      "  [M-H]-: 47465 occurrences\n",
      "  [M+H-H2O]+: 45809 occurrences\n",
      "  [M+Na]+: 24943 occurrences\n",
      "  [M+2H]2+: 12326 occurrences\n",
      "  [2M+H]+: 12023 occurrences\n",
      "  [2M-H]-: 8606 occurrences\n",
      "  [M+H-2H2O]+: 8156 occurrences\n",
      "  [M+H-NH3]+: 7274 occurrences\n",
      "  [M-H-H2O]-: 6973 occurrences\n",
      "\n",
      "Attribute 04:\n",
      "  155.0491: 989 occurrences\n",
      "  163.0754: 648 occurrences\n",
      "  135.1168: 634 occurrences\n",
      "  153.0546: 606 occurrences\n",
      "  319.2268: 603 occurrences\n",
      "  121.0648: 596 occurrences\n",
      "  137.1325: 590 occurrences\n",
      "  177.0546: 522 occurrences\n",
      "  102.055: 521 occurrences\n",
      "  135.0441: 514 occurrences\n",
      "\n",
      "Attribute 05:\n",
      "  35%: 160656 occurrences\n",
      "  20: 12574 occurrences\n",
      "  15: 11656 occurrences\n",
      "  10: 11320 occurrences\n",
      "  30: 10191 occurrences\n",
      "  17: 9765 occurrences\n",
      "  18: 9329 occurrences\n",
      "  16: 9198 occurrences\n",
      "  12: 8874 occurrences\n",
      "  14: 8610 occurrences\n",
      "\n",
      "Attribute 06:\n",
      "  HCD: 335001 occurrences\n",
      "  IT/ion trap: 133179 occurrences\n",
      "  Q-TOF: 42269 occurrences\n",
      "  QqQ: 31325 occurrences\n",
      "  IT-FT/ion trap with FTMS: 29786 occurrences\n",
      "  QqQ/triple quadrupole: 2699 occurrences\n",
      "  QqIT: 339 occurrences\n",
      "  N/A: 127 occurrences\n",
      "  QqLIT: 18 occurrences\n",
      "  FT-ICR/Fourier transform ion cyclotron resonance: 14 occurrences\n",
      "\n",
      "Attribute 07:\n",
      "  Thermo Finnigan Elite Orbitrap: 470495 occurrences\n",
      "  Agilent QTOF 6530: 42209 occurrences\n",
      "  Micromass Quattro Micro: 28369 occurrences\n",
      "  Thermo Finnigan Velos Orbitrap: 19819 occurrences\n",
      "  Thermo Finnigan LTQ: 5353 occurrences\n",
      "  Micromass quattro: 2795 occurrences\n",
      "  Waters TQD: 2019 occurrences\n",
      "  Thermo Finnigan LCQ Deca: 1213 occurrences\n",
      "  Bruker Esquire LC-MS: 384 occurrences\n",
      "  ABI 4000 QTRAP: 339 occurrences\n",
      "\n",
      "Attribute 08:\n",
      "  N/A: 573762 occurrences\n",
      "  wideband: 1056 occurrences\n",
      "  wide range: 7 occurrences\n",
      "  Adjustable framentation width: 1 occurrences\n",
      "\n",
      "Attribute 09:\n",
      "  direct flow injection: 560912 occurrences\n",
      "  HPLC: 12520 occurrences\n",
      "  LC: 493 occurrences\n",
      "  N/A: 481 occurrences\n",
      "  direct probe: 238 occurrences\n",
      "  GC: 92 occurrences\n",
      "  FAB/LSIMS probe: 55 occurrences\n",
      "  CE: 12 occurrences\n",
      "  ionized gas flow: 9 occurrences\n",
      "  direct flow injection or HPLC: 5 occurrences\n",
      "\n",
      "Attribute 10:\n",
      "  ESI: 571937 occurrences\n",
      "  in source ESI: 2019 occurrences\n",
      "  APCI: 371 occurrences\n",
      "  CI (MeOH): 237 occurrences\n",
      "  EI: 82 occurrences\n",
      "  CI: 34 occurrences\n",
      "  LSIMS: 30 occurrences\n",
      "  ESI or APCI: 26 occurrences\n",
      "  FAB: 19 occurrences\n",
      "  N/A: 17 occurrences\n",
      "\n",
      "Attribute 11:\n",
      "  P: 466881 occurrences\n",
      "  N: 107945 occurrences\n",
      "\n",
      "Attribute 12:\n",
      "  N2: 407273 occurrences\n",
      "  He: 127215 occurrences\n",
      "  Ar: 31079 occurrences\n",
      "  N/A: 9231 occurrences\n",
      "  Xe: 11 occurrences\n",
      "  CH4: 7 occurrences\n",
      "  Ar or N2: 5 occurrences\n",
      "  CO2: 4 occurrences\n",
      "  N2 (10 %) + Ar (90 %): 1 occurrences\n",
      "\n",
      "Attribute 13:\n",
      "  N/A: 547747 occurrences\n",
      "  1.6mTorr: 20244 occurrences\n",
      "  0.008mTorr: 5322 occurrences\n",
      "  1.6 mTorr: 374 occurrences\n",
      "  1.8 mTorr: 227 occurrences\n",
      "  4x10-3 mbar: 131 occurrences\n",
      "  2.3 mTorr: 86 occurrences\n",
      "  2.5 mTorr: 44 occurrences\n",
      "  1x10-3 mbar: 38 occurrences\n",
      "  3 au: 33 occurrences\n",
      "\n",
      "Attribute 16:\n",
      "  N/A: 499071 occurrences\n",
      "  150: 19922 occurrences\n",
      "  175: 17303 occurrences\n",
      "  20: 7246 occurrences\n",
      "  40: 7028 occurrences\n",
      "  30: 5923 occurrences\n",
      "  15: 2853 occurrences\n",
      "  200: 2567 occurrences\n",
      "  50: 2417 occurrences\n",
      "  60: 1982 occurrences\n",
      "\n",
      "Attribute 17:\n",
      "  Consensus spectrum; MeOH/Water/Formic acid; added_Vial_ID=2112: 147 occurrences\n",
      "  Consensus spectrum; MeOH/Water/Formic acid; added_Vial_ID=2109: 118 occurrences\n",
      "  Consensus spectrum; MeOH/Water/Formic acid; added_Vial_ID=2111: 116 occurrences\n",
      "  Consensus spectrum; MeOH/Water/Formic acid; added_Vial_ID=1742: 111 occurrences\n",
      "  Consensus spectrum; MeOH/Water/Formic acid; added_Vial_ID=2110: 102 occurrences\n",
      "  Consensus spectrum; MeOH/Water/Formic acid; added_Vial_ID=1050740: 101 occurrences\n",
      "  Consensus spectrum; Acetonitrile/Water/Formic acid; Vial_ID=4111; mz_diff=0: 90 occurrences\n",
      "  Consensus spectrum; MeOH/Water/Ammonia; added_Vial_ID=1742: 88 occurrences\n",
      "  Consensus spectrum; Acetonitrile/Water/Formic acid; added_Vial_ID=2159: 84 occurrences\n",
      "  Consensus spectrum; MeOH/Water/Ammonia; mz_diff=0.1; added_Vial_ID=942: 80 occurrences\n",
      "\n",
      "Attribute 18:\n",
      "  N/A: 478848 occurrences\n",
      "  1138382: 7 occurrences\n",
      "  1235220: 7 occurrences\n",
      "  1234831: 7 occurrences\n",
      "  1133723: 7 occurrences\n",
      "  1237455,1237456: 7 occurrences\n",
      "  1118167,1376214: 7 occurrences\n",
      "  1297467,1297468: 7 occurrences\n",
      "  1263882,1263883: 7 occurrences\n",
      "  1282576,1282577: 7 occurrences\n",
      "\n",
      "Attribute 24:\n",
      "  N/A: 503676 occurrences\n",
      "  13412641: 268 occurrences\n",
      "  101152947: 211 occurrences\n",
      "  68414186: 201 occurrences\n",
      "  76939463: 198 occurrences\n",
      "  66592878: 197 occurrences\n",
      "  109293983: 195 occurrences\n",
      "  15307796: 188 occurrences\n",
      "  91296865: 187 occurrences\n",
      "  17026834: 185 occurrences\n",
      "\n",
      "Attribute 28:\n",
      "  N/A: 9426 occurrences\n",
      "  OGJPXUAPXNRGGI-UHFFFAOYSA-N: 318 occurrences\n",
      "  BHQCQFFYRZLCQQ-OELDTZBJSA-N: 275 occurrences\n",
      "  YFAGHNZHGGCZAX-JKIFEVAISA-N: 268 occurrences\n",
      "  LSHVYAFMTMFKBA-TZIWHRDSSA-N: 249 occurrences\n",
      "  GNFTWPCIRXSCQF-UJXAPRPESA-N: 248 occurrences\n",
      "  BPFYOAJNDMUVBL-UHFFFAOYSA-N: 241 occurrences\n",
      "  AGHANLSBXUWXTB-UHFFFAOYSA-N: 241 occurrences\n",
      "  RHVVRMJOHATSPD-VKHMYHEASA-N: 240 occurrences\n",
      "  RGZDLTASXRMKKF-RXEVBYPSSA-N: 235 occurrences\n",
      "\n",
      "Attribute 30:\n",
      "  N/A: 479079 occurrences\n",
      "  [M+H]+=>155.0: 150 occurrences\n",
      "  [M+H]+=>121.0: 138 occurrences\n",
      "  [M+H]+=>135.0: 135 occurrences\n",
      "  [M+H]+=>151.0: 104 occurrences\n",
      "  [M+H]+=>163.0: 96 occurrences\n",
      "  [M+H]+=>137.0: 94 occurrences\n",
      "  [M+H]+=>127.0: 92 occurrences\n",
      "  [M+H]+=>147.0: 88 occurrences\n",
      "  [M+H]+=>149.0: 87 occurrences\n",
      "\n"
     ]
    }
   ],
   "execution_count": 21
  },
  {
   "metadata": {
    "ExecuteTime": {
     "end_time": "2024-09-12T06:36:54.716737Z",
     "start_time": "2024-09-12T06:36:54.584707Z"
    }
   },
   "cell_type": "code",
   "source": [
    "# Extract unique CASNO values, excluding 'N/A'\n",
    "unique_casnos = df['CASNO'].unique()\n",
    "unique_casnos = [casno for casno in unique_casnos if casno != 'N/A']\n",
    "\n",
    "# Extract unique InChIKeys from attribute 28, excluding 'N/A'\n",
    "unique_inchikeys = df['28'].unique()\n",
    "unique_inchikeys = [inchikey for inchikey in unique_inchikeys if inchikey != 'N/A']\n",
    "\n",
    "print(f\"Unique CASNOs ({len(unique_casnos)}):\")\n",
    "\n",
    "print(f\"\\nUnique InChIKeys from attribute 28 ({len(unique_inchikeys)}):\")"
   ],
   "id": "38485abcfbb8faa7",
   "outputs": [
    {
     "name": "stdout",
     "output_type": "stream",
     "text": [
      "Unique CASNOs (12037):\n",
      "\n",
      "Unique InChIKeys from attribute 28 (13635):\n"
     ]
    }
   ],
   "execution_count": 22
  },
  {
   "metadata": {},
   "cell_type": "markdown",
   "source": "",
   "id": "3b31cdcdc646fb7f"
  },
  {
   "metadata": {
    "ExecuteTime": {
     "end_time": "2024-09-04T10:27:32.687610Z",
     "start_time": "2024-09-04T10:27:32.674432Z"
    }
   },
   "cell_type": "code",
   "source": [
    "def format_cas_number(cas_number):\n",
    "    \"\"\"\n",
    "    Format a CAS number by inserting hyphens in the correct positions based on its length.\n",
    "    \n",
    "    :param cas_number: CAS number in string or integer format without hyphens.\n",
    "    :return: Formatted CAS number as a string with hyphens or original if unable to format.\n",
    "    \"\"\"\n",
    "    cas_number = str(cas_number)  # Ensure the CAS number is a string\n",
    "    length = len(cas_number)\n",
    "    \n",
    "    # Match CAS numbers and format based on their length\n",
    "    if length == 5:  # Format like X-XX-X\n",
    "        return f\"{cas_number[:-3]}-{cas_number[-3:-1]}-{cas_number[-1]}\"\n",
    "    elif length == 6:  # Format like XX-XX-X\n",
    "        return f\"{cas_number[:-3]}-{cas_number[-3:-1]}-{cas_number[-1]}\"\n",
    "    elif length == 7:  # Format like XXXX-XX-X\n",
    "        return f\"{cas_number[:-3]}-{cas_number[-3:-1]}-{cas_number[-1]}\"\n",
    "    elif length == 8:  # Format like XXXXX-XX-X\n",
    "        return f\"{cas_number[:-3]}-{cas_number[-3:-1]}-{cas_number[-1]}\"\n",
    "    elif length == 9:  # Format like XXXXXX-XX-X\n",
    "        return f\"{cas_number[:-3]}-{cas_number[-3:-1]}-{cas_number[-1]}\"\n",
    "    else:\n",
    "        # Return as is if it's already formatted or unrecognized format\n",
    "        return cas_number"
   ],
   "id": "f614817f329f0555",
   "outputs": [],
   "execution_count": 87
  },
  {
   "metadata": {
    "ExecuteTime": {
     "end_time": "2024-09-12T06:37:11.640565Z",
     "start_time": "2024-09-12T06:37:11.628045Z"
    }
   },
   "cell_type": "code",
   "source": [
    "def load_progress(file_path):\n",
    "    \"\"\"Loads the current progress from the specified JSON file.\"\"\"\n",
    "    if os.path.exists(file_path):\n",
    "        with open(file_path, 'r') as f:\n",
    "            return json.load(f)\n",
    "    return {}\n",
    "\n",
    "def save_progress(data, file_path):\n",
    "    \"\"\"Appends the current data to the specified JSON file.\"\"\"\n",
    "    if os.path.exists(file_path):\n",
    "        with open(file_path, 'r') as f:\n",
    "            existing_data = json.load(f)\n",
    "    else:\n",
    "        existing_data = {}\n",
    "\n",
    "    existing_data.update(data)\n",
    "\n",
    "    with open(file_path, 'w') as f:\n",
    "        json.dump(existing_data, f, indent=4)\n",
    "\n",
    "def get_smiles_from_inchikey(inchikeys, output_path_inchikey):\n",
    "    \"\"\"\n",
    "    Retrieve canonical SMILES from InChIKeys using PubChemPy, saving progress every 100 cases\n",
    "    and retrying in case of server errors.\n",
    "    \n",
    "    :param inchikeys: List of InChIKeys.\n",
    "    :param output_path_inchikey: File path to save the results incrementally.\n",
    "    \"\"\"\n",
    "    inchikey_to_smiles = load_progress(output_path_inchikey)\n",
    "    retry_delay = 300  # 5 minutes in seconds delay when server is overloaded\n",
    "    i = 0  # To track progress\n",
    "\n",
    "    # Filter out already processed InChIKeys\n",
    "    inchikeys_to_process = [key for key in inchikeys if key not in inchikey_to_smiles]\n",
    "\n",
    "    total_processed = len(inchikey_to_smiles)  # Track how many have been processed overall\n",
    "\n",
    "    while i < len(inchikeys_to_process):\n",
    "        inchikey = inchikeys_to_process[i]\n",
    "        try:\n",
    "            compounds = get_compounds(inchikey, 'inchikey')\n",
    "            smiles = compounds[0].canonical_smiles if compounds else 'N/A'\n",
    "            inchikey_to_smiles[inchikey] = smiles\n",
    "        except Exception as e:\n",
    "            if 'ServerBusy' in str(e) or 'Operation timed out' in str(e):\n",
    "                print(f\"Server busy or timeout for InChIKey {inchikey}. Waiting for {retry_delay // 60} minutes before retrying.\")\n",
    "                time.sleep(retry_delay)\n",
    "                continue  # Retry the current InChIKey\n",
    "            else:\n",
    "                inchikey_to_smiles[inchikey] = 'N/A'\n",
    "                print(f\"Error retrieving SMILES for InChIKey {inchikey}: {e}\")\n",
    "\n",
    "        # Save progress and print status every 100 entries\n",
    "        if (i + 1) % 100 == 0:\n",
    "            save_progress(inchikey_to_smiles, output_path_inchikey)\n",
    "            total_processed += 100\n",
    "            print(f\"Processed batch: {i + 1}, Total processed: {total_processed}, First in batch: {list(inchikey_to_smiles.items())[0]}\")\n",
    "            inchikey_to_smiles.clear()  # Clear to avoid duplicate saves of the same batch\n",
    "\n",
    "        i += 1  # Move to the next InChIKey\n",
    "\n",
    "    # Save any remaining entries after the loop completes\n",
    "    if inchikey_to_smiles:\n",
    "        save_progress(inchikey_to_smiles, output_path_inchikey)\n",
    "        print(f\"Final batch processed, First in batch: {list(inchikey_to_smiles.items())[0]}\")\n",
    "\n",
    "def get_smiles_from_cas(cas_numbers, output_path_cas):\n",
    "    \"\"\"\n",
    "    Retrieve canonical SMILES from CAS numbers using PubChemPy, saving progress every 100 cases\n",
    "    and retrying in case of server errors.\n",
    "    \n",
    "    :param cas_numbers: List of CAS numbers.\n",
    "    :param output_path_cas: File path to save the results incrementally.\n",
    "    \"\"\"\n",
    "    cas_to_smiles = load_progress(output_path_cas)\n",
    "    retry_delay = 300  # 5 minutes in seconds delay when server is overloaded\n",
    "    i = 0  # To track progress\n",
    "\n",
    "    # Format CAS numbers correctly\n",
    "    formatted_cas_numbers = [format_cas_number(cas) for cas in cas_numbers]\n",
    "\n",
    "    # Filter out already processed CAS numbers\n",
    "    cas_numbers_to_process = [cas for cas in formatted_cas_numbers if cas not in cas_to_smiles]\n",
    "\n",
    "    total_processed = len(cas_to_smiles)  # Track how many have been processed overall\n",
    "\n",
    "    while i < len(cas_numbers_to_process):\n",
    "        cas = cas_numbers_to_process[i]\n",
    "        try:\n",
    "            compounds = get_compounds(cas, 'name')  # 'name' works for formatted CAS numbers in PubChemPy\n",
    "            smiles = compounds[0].canonical_smiles if compounds else 'N/A'\n",
    "            cas_to_smiles[cas] = smiles\n",
    "        except Exception as e:\n",
    "            if 'ServerBusy' in str(e) or 'Operation timed out' in str(e):\n",
    "                print(f\"Server busy or timeout for CAS number {cas}. Waiting for {retry_delay // 60} minutes before retrying.\")\n",
    "                time.sleep(retry_delay)\n",
    "                continue  # Retry the current CAS number\n",
    "            else:\n",
    "                cas_to_smiles[cas] = 'N/A'\n",
    "                print(f\"Error retrieving SMILES for CAS number {cas}: {e}\")\n",
    "\n",
    "        # Save progress and print status every 100 entries\n",
    "        if (i + 1) % 100 == 0:\n",
    "            save_progress(cas_to_smiles, output_path_cas)\n",
    "            total_processed += 100\n",
    "            print(f\"Processed batch: {i + 1}, Total processed: {total_processed}, First in batch: {list(cas_to_smiles.items())[0]}\")\n",
    "            cas_to_smiles.clear()  # Clear to avoid duplicate saves of the same batch\n",
    "\n",
    "        i += 1  # Move to the next CAS number\n",
    "\n",
    "    # Save any remaining entries after the loop completes\n",
    "    if cas_to_smiles:\n",
    "        save_progress(cas_to_smiles, output_path_cas)\n",
    "        print(f\"Final batch processed, First in batch: {list(cas_to_smiles.items())[0]}\")\n",
    "        \n",
    "def get_smiles_from_names(names, output_path_names):\n",
    "    \"\"\"\n",
    "    Retrieve canonical SMILES from compound names using PubChemPy, saving progress every 100 cases\n",
    "    and retrying in case of server errors.\n",
    "    \n",
    "    :param names: List of compound names.\n",
    "    :param output_path_names: File path to save the results incrementally.\n",
    "    \"\"\"\n",
    "    names_to_smiles = load_progress(output_path_names)\n",
    "    retry_delay = 300  # 5 minutes in seconds delay when server is overloaded\n",
    "    i = 0  # To track progress\n",
    "\n",
    "    # Filter out already processed names\n",
    "    names_to_process = [name for name in names if name not in names_to_smiles]\n",
    "\n",
    "    total_processed = len(names_to_smiles)  # Track how many have been processed overall\n",
    "\n",
    "    while i < len(names_to_process):\n",
    "        name = names_to_process[i]\n",
    "        try:\n",
    "            compounds = get_compounds(name, 'name')\n",
    "            smiles = compounds[0].canonical_smiles if compounds else 'N/A'\n",
    "            names_to_smiles[name] = smiles\n",
    "        except Exception as e:\n",
    "            if 'ServerBusy' in str(e) or 'Operation timed out' in str(e):\n",
    "                print(f\"Server busy or timeout for Name {name}. Waiting for {retry_delay // 60} minutes before retrying.\")\n",
    "                time.sleep(retry_delay)\n",
    "                continue  # Retry the current name\n",
    "            else:\n",
    "                names_to_smiles[name] = 'N/A'\n",
    "                print(f\"Error retrieving SMILES for Name {name}: {e}\")\n",
    "\n",
    "        # Save progress and print status every 100 entries\n",
    "        if (i + 1) % 100 == 0:\n",
    "            save_progress(names_to_smiles, output_path_names)\n",
    "            total_processed += 100\n",
    "            print(f\"Processed batch: {i + 1}, Total processed: {total_processed}, First in batch: {list(names_to_smiles.items())[0]}\")\n",
    "            names_to_smiles.clear()  # Clear to avoid duplicate saves of the same batch\n",
    "\n",
    "        i += 1  # Move to the next name\n",
    "\n",
    "    # Save any remaining entries after the loop completes\n",
    "    if names_to_smiles:\n",
    "        save_progress(names_to_smiles, output_path_names)\n",
    "        print(f\"Final batch processed, First in batch: {list(names_to_smiles.items())[0]}\")\n",
    "\n"
   ],
   "id": "cabcf45bd5865c00",
   "outputs": [],
   "execution_count": 23
  },
  {
   "metadata": {
    "ExecuteTime": {
     "end_time": "2024-09-12T06:38:17.826346Z",
     "start_time": "2024-09-12T06:38:17.824018Z"
    }
   },
   "cell_type": "code",
   "source": [
    "# Paths to save the results\n",
    "output_path_inchikey = '../data/NIST/inchikey_to_smiles.json'\n",
    "output_path_cas = '../data/NIST/cas_to_smiles.json'\n",
    "output_path_names = '../data/NIST/names_to_smiles.json'"
   ],
   "id": "827959d763e39673",
   "outputs": [],
   "execution_count": 24
  },
  {
   "metadata": {
    "ExecuteTime": {
     "end_time": "2024-09-07T15:37:22.246094Z",
     "start_time": "2024-09-07T14:13:57.221817Z"
    }
   },
   "cell_type": "code",
   "source": [
    "# Retrieve SMILES for names\n",
    "unique_names = df['Name'].unique()\n",
    "# get_smiles_from_names(unique_names, output_path_names)"
   ],
   "id": "b4c85efc3760d7d",
   "outputs": [
    {
     "name": "stdout",
     "output_type": "stream",
     "text": [
      "Processed batch: 100, Total processed: 6700, First in batch: ('3-Hydroxy-3-(2-(2-hydroxyphenyl)-2-oxoethyl)-1,3-dihydro-2H-indol-2-one', 'C1=CC=C(C(=C1)C(=O)CC2(C3=CC=CC=C3NC2=O)O)O')\n",
      "Processed batch: 200, Total processed: 6800, First in batch: ('Mesoporphyrin IX', 'CCC1=C(C2=CC3=C(C(=C(N3)C=C4C(=C(C(=N4)C=C5C(=C(C(=N5)C=C1N2)C)CCC(=O)O)CCC(=O)O)C)C)CC)C')\n",
      "Processed batch: 300, Total processed: 6900, First in batch: ('Epirubicin', 'CC1C(C(CC(O1)OC2CC(CC3=C2C(=C4C(=C3O)C(=O)C5=C(C4=O)C(=CC=C5)OC)O)(C(=O)CO)O)N)O')\n",
      "Processed batch: 400, Total processed: 7000, First in batch: ('Fenfuram', 'CC1=C(C=CO1)C(=O)NC2=CC=CC=C2')\n",
      "Processed batch: 500, Total processed: 7100, First in batch: ('Hexaethylene glycol', 'C(COCCOCCOCCOCCOCCO)O')\n",
      "Processed batch: 600, Total processed: 7200, First in batch: ('Ethidimuron', 'CCS(=O)(=O)C1=NN=C(S1)N(C)C(=O)NC')\n",
      "Processed batch: 700, Total processed: 7300, First in batch: (\"2'-Hydroxy-2,4',6'-trimethoxychalcone\", 'COC1=CC=CC=C1C=CC(=O)C2=C(C=C(C=C2OC)OC)O')\n",
      "Processed batch: 800, Total processed: 7400, First in batch: (\"3-Hydroxy-7,8,2',3'-tetramethoxyflavone\", 'COC1=C(C2=C(C=C1)C(=O)C(=C(O2)C3=C(C(=CC=C3)OC)OC)O)OC')\n",
      "Processed batch: 900, Total processed: 7500, First in batch: ('1,2-Dilinoleoyl-sn-glycero-3-phosphoethanolamine', 'CCCCCC=CCC=CCCCCCCCC(=O)OCC(COP(=O)(O)OCCN)OC(=O)CCCCCCCC=CCC=CCCCCC')\n",
      "Processed batch: 1000, Total processed: 7600, First in batch: ('Amprolium cation', 'CCCC1=NC=C(C(=N1)N)C[N+]2=CC=CC=C2C')\n",
      "Processed batch: 1100, Total processed: 7700, First in batch: ('15-Cyclohexylpentanorprostaglandin F2.alpha.', 'N/A')\n",
      "Processed batch: 1200, Total processed: 7800, First in batch: (\"3,6,2',4',5'-Pentahydroxyflavone\", 'C1=CC2=C(C=C1O)C(=O)C(=C(O2)C3=CC(=C(C=C3O)O)O)O')\n",
      "Processed batch: 1300, Total processed: 7900, First in batch: ('5-Amino-1-.beta.-D-ribofuranosyl-1H-imidazole-4-carboxamide', 'C1=NC(=C(N1C2C(C(C(O2)CO)O)O)N)C(=O)N')\n",
      "Server busy or timeout for Name Oleic acid ethyl ester. Waiting for 5 minutes before retrying.\n",
      "Processed batch: 1400, Total processed: 8000, First in batch: ('N-Oleoyltaurine', 'CCCCCCCCC=CCCCCCCCC(=O)NCCS(=O)(=O)O')\n",
      "Processed batch: 1500, Total processed: 8100, First in batch: ('7-Methoxyisoflavone', 'COC1=CC2=C(C=C1)C(=O)C(=CO2)C3=CC=CC=C3')\n",
      "Processed batch: 1600, Total processed: 8200, First in batch: ('p-tert-Octylphenol dodecaglycol ether', 'N/A')\n",
      "Processed batch: 1700, Total processed: 8300, First in batch: ('Sialylated tetraose type 1', 'N/A')\n",
      "Processed batch: 1800, Total processed: 8400, First in batch: ('D-myo-Inositol-1,5,6-triphosphate', 'N/A')\n",
      "Processed batch: 1900, Total processed: 8500, First in batch: ('N-Methyl-L-serine', 'CNC(CO)C(=O)O')\n",
      "Processed batch: 2000, Total processed: 8600, First in batch: ('L-Isoleucine, methyl ester', 'CCC(C)C(C(=O)OC)N')\n",
      "Processed batch: 2100, Total processed: 8700, First in batch: ('2-Acetamido-2-deoxy-3-O-(.alpha.-L-fucopyranosyl)-D-glucopyranose', 'N/A')\n",
      "Processed batch: 2200, Total processed: 8800, First in batch: (\"4'-Hydroxysalicylanilide\", 'C1=CC=C(C(=C1)C(=O)NC2=CC=C(C=C2)O)O')\n",
      "Processed batch: 2300, Total processed: 8900, First in batch: ('Pipenzolate cation', 'CC[N+]1(CCCC(C1)OC(=O)C(C2=CC=CC=C2)(C3=CC=CC=C3)O)C')\n",
      "Processed batch: 2400, Total processed: 9000, First in batch: ('Sedanolide', 'CCCCC1C2CCCC=C2C(=O)O1')\n",
      "Processed batch: 2500, Total processed: 9100, First in batch: ('Benzenesulfonic acid', 'C1=CC=C(C=C1)S(=O)(=O)O')\n",
      "Processed batch: 2600, Total processed: 9200, First in batch: ('Cardamomin', 'COC1=CC(=CC(=C1C(=O)C=CC2=CC=CC=C2)O)O')\n",
      "Processed batch: 2700, Total processed: 9300, First in batch: ('Dimethyl pimelate', 'COC(=O)CCCCCC(=O)OC')\n",
      "Processed batch: 2800, Total processed: 9400, First in batch: ('Methanone, [1-(4-hydroxypentyl)-1H-indol-3-yl]-1-naphthalenyl-', 'N/A')\n",
      "Processed batch: 2900, Total processed: 9500, First in batch: ('Prostaglandin E2-PEG11-biotin', 'N/A')\n",
      "Processed batch: 3000, Total processed: 9600, First in batch: (\"1'-Acetoxychavicol acetate\", 'CC(=O)OC1=CC=C(C=C1)C(C=C)OC(=O)C')\n",
      "Processed batch: 3100, Total processed: 9700, First in batch: ('Benzenesulfonamide, N-[2-[[[3-(4-chlorophenyl)-2-propen-1-yl]methylamino]methyl]phenyl]-N-(2-hydroxyethyl)-4-methoxy-', 'CN(CC=CC1=CC=C(C=C1)Cl)CC2=CC=CC=C2N(CCO)S(=O)(=O)C3=CC=C(C=C3)OC')\n",
      "Processed batch: 3200, Total processed: 9800, First in batch: ('1H-Benzimidazol-2-amine, 1-[(4-methylphenyl)sulfonyl]-', 'N/A')\n",
      "Processed batch: 3300, Total processed: 9900, First in batch: ('5-Methoxy-N,N-dimethyltryptamine', 'CN(C)CCC1=CNC2=C1C=C(C=C2)OC')\n",
      "Processed batch: 3400, Total processed: 10000, First in batch: ('4-Chloro-2-nitrobenzyl alcohol', 'C1=CC(=C(C=C1Cl)[N+](=O)[O-])CO')\n",
      "Processed batch: 3500, Total processed: 10100, First in batch: ('3,4,5-Trifluorobenzyl alcohol', 'C1=C(C=C(C(=C1F)F)F)CO')\n",
      "Processed batch: 3600, Total processed: 10200, First in batch: ('Dehydroaripiprazole', 'C1CN(CCN1CCCCOC2=CC3=C(C=C2)C=CC(=O)N3)C4=C(C(=CC=C4)Cl)Cl')\n",
      "Processed batch: 3700, Total processed: 10300, First in batch: ('Vardenafil', 'CCCC1=NC(=C2N1N=C(NC2=O)C3=C(C=CC(=C3)S(=O)(=O)N4CCN(CC4)CC)OCC)C')\n",
      "Processed batch: 3800, Total processed: 10400, First in batch: ('Gambogic acid', 'CC(=CCCC1(C=CC2=C(C3=C(C(=C2O1)CC=C(C)C)OC45C6CC(C=C4C3=O)C(=O)C5(OC6(C)C)CC=C(C)C(=O)O)O)C)C')\n",
      "Processed batch: 3900, Total processed: 10500, First in batch: (\"Adenosine, cyclic 3',5'-[hydrogen [P(S)]-phosphorothioate]\", 'C1C2C(C(C(O2)N3C=NC4=C(N=CN=C43)N)O)OP(=S)(O1)O')\n",
      "Processed batch: 4000, Total processed: 10600, First in batch: ('Rucaparib', 'CNCC1=CC=C(C=C1)C2=C3CCNC(=O)C4=C3C(=CC(=C4)F)N2')\n",
      "Processed batch: 4100, Total processed: 10700, First in batch: ('Benzenesulfonamide, N-(2,2,2-trifluoroethyl)-N-[4-[2,2,2-trifluoro-1-hydroxy-1-(trifluoromethyl)ethyl]phenyl]-', 'C1=CC=C(C=C1)S(=O)(=O)N(CC(F)(F)F)C2=CC=C(C=C2)C(C(F)(F)F)(C(F)(F)F)O')\n",
      "Processed batch: 4200, Total processed: 10800, First in batch: ('Methanone, [1-(4-hydroxypentyl)-1H-indol-3-yl](4-methoxy-1-naphthalenyl)-', 'N/A')\n",
      "Processed batch: 4300, Total processed: 10900, First in batch: ('Methanone, [1-(5-fluorohexyl)-1H-indol-3-yl]-1-naphthalenyl-', 'N/A')\n",
      "Processed batch: 4400, Total processed: 11000, First in batch: (\"Carbamic acid, (6-phenylhexyl)-, 3'-(aminocarbonyl)[1,1'-biphenyl]-3-yl ester\", 'N/A')\n",
      "Processed batch: 4500, Total processed: 11100, First in batch: ('Methanone, [1-(1,1-dimethylethyl)-1H-indol-3-yl]-1-naphthalenyl-', 'N/A')\n",
      "Processed batch: 4600, Total processed: 11200, First in batch: ('Methasterone', 'CC1CC2(C(CCC3C2CCC4(C3CCC4(C)O)C)CC1=O)C')\n",
      "Processed batch: 4700, Total processed: 11300, First in batch: ('Xanthohumol', 'CC(=CCC1=C(C(=C(C=C1O)OC)C(=O)C=CC2=CC=C(C=C2)O)O)C')\n",
      "Processed batch: 4800, Total processed: 11400, First in batch: ('4-Hydroxy-3-chlorobiphenyl', 'C1=CC=C(C=C1)C2=CC(=C(C=C2)O)Cl')\n",
      "Processed batch: 4900, Total processed: 11500, First in batch: ('Methyl 2-octynoate', 'CCCCCC#CC(=O)OC')\n",
      "Processed batch: 5000, Total processed: 11600, First in batch: ('.alpha.-Cyclodextrin', 'C(C1C2C(C(C(O1)OC3C(OC(C(C3O)O)OC4C(OC(C(C4O)O)OC5C(OC(C(C5O)O)OC6C(OC(C(C6O)O)OC7C(OC(O2)C(C7O)O)CO)CO)CO)CO)CO)O)O)O')\n",
      "Processed batch: 5100, Total processed: 11700, First in batch: ('2,4-Dimethoxybenzoic acid', 'COC1=CC(=C(C=C1)C(=O)O)OC')\n",
      "Processed batch: 5200, Total processed: 11800, First in batch: ('Phenol, 5-(1,1-dimethylheptyl)-2-[(1S,3R)-3-hydroxycyclohexyl]-', 'CCCCCCC(C)(C)C1=CC(=C(C=C1)C2CCCC(C2)O)O')\n",
      "Processed batch: 5300, Total processed: 11900, First in batch: ('Ivacaftor', 'CC(C)(C)C1=CC(=C(C=C1NC(=O)C2=CNC3=CC=CC=C3C2=O)O)C(C)(C)C')\n",
      "Processed batch: 5400, Total processed: 12000, First in batch: ('Licochalcone A', 'CC(C)(C=C)C1=C(C=C(C(=C1)C=CC(=O)C2=CC=C(C=C2)O)OC)O')\n",
      "Processed batch: 5500, Total processed: 12100, First in batch: (\"3'-Amino-3'-deoxythymidine\", 'CC1=CN(C(=O)NC1=O)C2CC(C(O2)CO)N')\n",
      "Processed batch: 5600, Total processed: 12200, First in batch: ('4,4-Dimethyl-L-glutamic acid', 'CC(C)(CC(C(=O)O)N)C(=O)O')\n",
      "Processed batch: 5700, Total processed: 12300, First in batch: ('10.beta.-Hydroxy-.DELTA.4-tibolone', 'N/A')\n",
      "Processed batch: 5800, Total processed: 12400, First in batch: ('Cortisol 21-sulfate', 'CC12CCC(=O)C=C1CCC3C2C(CC4(C3CCC4(C(=O)COS(=O)(=O)O)O)C)O')\n",
      "Processed batch: 5900, Total processed: 12500, First in batch: ('Rutinose heptaacetate', 'CC1C(C(C(C(O1)OCC2C(C(C(C(O2)OC(=O)C)OC(=O)C)OC(=O)C)OC(=O)C)OC(=O)C)OC(=O)C)OC(=O)C')\n",
      "Processed batch: 6000, Total processed: 12600, First in batch: ('(-)-Homoeriodictyol', 'COC1=C(C=CC(=C1)C2CC(=O)C3=C(C=C(C=C3O2)O)O)O')\n",
      "Processed batch: 6100, Total processed: 12700, First in batch: ('Prothioconazole desthio', 'C1CC1(C(CC2=CC=CC=C2Cl)(CN3C=NC=N3)O)Cl')\n",
      "Processed batch: 6200, Total processed: 12800, First in batch: ('Tefluthrin', 'CC1=C(C(=C(C(=C1F)F)COC(=O)C2C(C2(C)C)C=C(C(F)(F)F)Cl)F)F')\n",
      "Processed batch: 6300, Total processed: 12900, First in batch: ('Pirenperone', 'CC1=C(C(=O)N2C=CC=CC2=N1)CCN3CCC(CC3)C(=O)C4=CC=C(C=C4)F')\n",
      "Processed batch: 6400, Total processed: 13000, First in batch: ('Cafestol acetate', 'CC(=O)OCC1(CC23CCC4C5=C(CCC4(C2CCC1C3)C)OC=C5)O')\n",
      "Processed batch: 6500, Total processed: 13100, First in batch: ('2-Imidazolidinethione', 'C1CNC(=S)N1')\n",
      "Processed batch: 6600, Total processed: 13200, First in batch: ('Benfluralin', 'CCCCN(CC)C1=C(C=C(C=C1[N+](=O)[O-])C(F)(F)F)[N+](=O)[O-]')\n",
      "Processed batch: 6700, Total processed: 13300, First in batch: ('G0-N[1,3]', 'N/A')\n",
      "Processed batch: 6800, Total processed: 13400, First in batch: ('Ethyl 4-hydroxy-7-(trifluoromethyl)quinoline-3-carboxylate', 'CCOC(=O)C1=CNC2=C(C1=O)C=CC(=C2)C(F)(F)F')\n",
      "Processed batch: 6900, Total processed: 13500, First in batch: ('11-Oxomogroside V', 'N/A')\n",
      "Processed batch: 7000, Total processed: 13600, First in batch: (\"Urea, N-[1-(cyclopropylcarbonyl)-4-piperidinyl]-N'-[4-(trifluoromethoxy)phenyl]-\", 'N/A')\n",
      "Processed batch: 7100, Total processed: 13700, First in batch: ('Di(5-nonyl) phthalate', 'N/A')\n",
      "Processed batch: 7200, Total processed: 13800, First in batch: ('N1,N1,N2-Trimethyl-N2-(4-piperidinyl)-1,2-ethanediamine', 'CN(C)CCN(C)C1CCNCC1')\n",
      "Final batch processed, First in batch: ('Met-Asn', 'CSCCC(C(=O)NC(CC(=O)N)C(=O)O)N')\n"
     ]
    }
   ],
   "execution_count": 40
  },
  {
   "metadata": {
    "ExecuteTime": {
     "end_time": "2024-09-04T08:20:05.437648Z",
     "start_time": "2024-09-04T06:18:10.268016Z"
    }
   },
   "cell_type": "code",
   "source": [
    "# Retrieve SMILES for InChIKeys\n",
    "# inchikey_to_smiles = get_smiles_from_inchikey(unique_inchikeys, output_path_inchikey)"
   ],
   "id": "bf614450b46d16d4",
   "outputs": [
    {
     "name": "stdout",
     "output_type": "stream",
     "text": [
      "Processed batch: 100, Total processed: 1000, First in batch: ('UAEJHGCEFAFLIJ-UHFFFAOYSA-N', 'C1=CC=C(C(=C1)C(=O)CC2(C3=CC=CC=C3NC2=O)O)O')\n",
      "Processed batch: 200, Total processed: 1100, First in batch: ('MYSWGUAQZAJSOK-UHFFFAOYSA-N', 'C1CC1N2C=C(C(=O)C3=CC(=C(C=C32)N4CCNCC4)F)C(=O)O')\n",
      "Processed batch: 300, Total processed: 1200, First in batch: ('XKFPYPQQHFEXRZ-UHFFFAOYSA-N', 'CC1=CC(=NO1)C(=O)NNCC2=CC=CC=C2')\n",
      "Processed batch: 400, Total processed: 1300, First in batch: ('ANJTVLIZGCUXLD-DTWKUNHWSA-N', 'C1C2CNCC1C3=CC=CC(=O)N3C2')\n",
      "Processed batch: 500, Total processed: 1400, First in batch: ('VDNLFJGJEQUWRB-UHFFFAOYSA-N', 'C1=C2C(=C3C=C(C(=O)C(=C3OC2=C(C(=C1I)O)I)I)I)C4=C(C(=C(C(=C4Cl)Cl)Cl)Cl)C(=O)O')\n",
      "Processed batch: 600, Total processed: 1500, First in batch: ('FEOZZKKBHYDPPI-UHFFFAOYSA-N', 'CCCCOC(=O)C(CCSC)N')\n",
      "Processed batch: 700, Total processed: 1600, First in batch: ('BIYXEUAFGLTAEM-WUJLRWPWSA-N', 'CC(C(C(=O)NCC(=O)[O-])[NH3+])O')\n",
      "Processed batch: 800, Total processed: 1700, First in batch: ('PVEVXUMVNWSNIG-UHFFFAOYSA-N', 'CCCCC1C(C(OC(=O)C(C(OC1=O)C)NC(=O)C2=C(C(=CC=C2)NC=O)O)C)OC(=O)CC(C)C')\n",
      "Processed batch: 900, Total processed: 1800, First in batch: ('SNIBJKHIKIIGPR-UHFFFAOYSA-N', 'CCNCC#CCOC(=O)C(C1CCCCC1)(C2=CC=CC=C2)O')\n",
      "Processed batch: 1000, Total processed: 1900, First in batch: ('ZFUKERYTFURFGA-XNRDFNEWSA-N', 'CC1C=CC=C2COC3C2(C(C=C(C3O)C)C(=O)OC4CC(CC=C(C1OC5CC(C(C(O5)C)OC6CC(C(C(O6)C)O)OC)OC)C)OC7(C4)C=CC(C(O7)C(C)C)C)O')\n",
      "Processed batch: 1100, Total processed: 2000, First in batch: ('XWALNWXLMVGSFR-HLXURNFRSA-N', 'CC12CCC3C(C1CCC2(C)O)CCC4=CC(=O)C=CC34C')\n",
      "Processed batch: 1200, Total processed: 2100, First in batch: ('VQKLRVZQQYVIJW-UHFFFAOYSA-N', 'C1=CC=C2C(=C1)C(=NN=C2NN)NN')\n",
      "Processed batch: 1300, Total processed: 2200, First in batch: ('HEMJJKBWTPKOJG-UHFFFAOYSA-N', 'CC1=CC(=C(C=C1)C)OCCCC(C)(C)C(=O)O')\n",
      "Processed batch: 1400, Total processed: 2300, First in batch: ('VBLJFQYCTRKKKF-UHFFFAOYSA-N', 'CCOP(=O)(OCC)OC1=NC(=NC(=C1)C)C(C)C')\n",
      "Processed batch: 1500, Total processed: 2400, First in batch: ('BYXHQQCXAJARLQ-ZLUOBGJFSA-N', 'CC(C(=O)NC(C)C(=O)NC(C)C(=O)O)N')\n",
      "Processed batch: 1600, Total processed: 2500, First in batch: ('JGUNZIWGNMQSBM-ZJHFMPGASA-N', 'CCCCCC=CC=CC(CCCCCCCC(=O)O)OO')\n",
      "Processed batch: 1700, Total processed: 2600, First in batch: ('LSADDRSUZRRBAN-SRMUOKRHSA-N', 'CCCCCCCCC=CCC=CC=CC(CCCC(=O)O)O')\n",
      "Processed batch: 1800, Total processed: 2700, First in batch: ('JJGMGPGKWYLISM-NPBIGWJUSA-N', 'CCCCCCCCCCCCCCCCOCC(COP(=O)(O)OCCN)OC(=O)CCCCCCCC=CCCCCCCCC')\n",
      "Processed batch: 1900, Total processed: 2800, First in batch: ('CZDKQKOAHAICSF-JSAMMMMSSA-N', 'CC(C)CCCC(C)C1CCC2C1(CCC3C2CC=C4C3(CCC(C4O)O)C)C')\n",
      "Processed batch: 2000, Total processed: 2900, First in batch: ('XQVZDADGTFJAFM-UHFFFAOYSA-N', 'C1=CC2=C(C(=C1)C=O)NC=C2')\n",
      "Processed batch: 2100, Total processed: 3000, First in batch: ('LXBIFEVIBLOUGU-DPYQTVNSSA-N', 'C1C(C(C(C(N1)CO)O)O)O')\n",
      "Processed batch: 2200, Total processed: 3100, First in batch: ('KPNSXQNKDQMBAW-UHFFFAOYSA-N', 'CC(C)[Si]1(OCC2C(C(C(O2)N3C=CC(=NC3=O)N)O)O[Si](O1)(C(C)C)C(C)C)C(C)C')\n",
      "Processed batch: 2300, Total processed: 3200, First in batch: ('VRRHHTISESGZFN-RKFFNLMFSA-N', 'CC(=O)C1=CCC2C1(CCC3C2CCC4=CC(=O)CCC34C)C')\n",
      "Processed batch: 2400, Total processed: 3300, First in batch: ('IDGQXGPQOGUGIX-SECBINFHSA-N', 'C1=CC=C(C=C1)COCC(C(=O)O)N')\n",
      "Processed batch: 2500, Total processed: 3400, First in batch: ('CAHKINHBCWCHCF-JTQLQIEISA-N', 'CC(=O)NC(CC1=CC=C(C=C1)O)C(=O)O')\n",
      "Processed batch: 2600, Total processed: 3500, First in batch: ('QJPWUUJVYOJNMH-GSVOUGTGSA-N', 'C1COC(=O)C1N')\n",
      "Processed batch: 2700, Total processed: 3600, First in batch: ('JMSUNAQVHOHLMX-UHFFFAOYSA-N', 'CC(C1CCCCC1)O')\n",
      "Processed batch: 2800, Total processed: 3700, First in batch: ('MQWCXKGKQLNYQG-UHFFFAOYSA-N', 'CC1CCC(CC1)O')\n",
      "Processed batch: 2900, Total processed: 3800, First in batch: ('NCMVOABPESMRCP-BBVRLYRLSA-N', 'C1C(C(OC1N2C=CC(=NC2=O)N)COP(=O)(O)O)O')\n",
      "Processed batch: 3000, Total processed: 3900, First in batch: ('ZQIMMEYPEXIYBB-UHFFFAOYSA-N', 'C(CCN)CC(C(=O)O)NC(=O)C(CCC(=O)O)NC(=O)CN')\n",
      "Processed batch: 3100, Total processed: 4000, First in batch: ('HJOSVGCWOTYJFG-UHFFFAOYSA-N', 'CC(C(C(=O)NC(CCC(=O)O)C(=O)NC(CCCCN)C(=O)O)N)O')\n",
      "Processed batch: 3200, Total processed: 4100, First in batch: ('HQIZDMIGUJOSNI-UHFFFAOYSA-N', 'C(CC(C(=O)NCC(=O)NC(CCCN=C(N)N)C(=O)O)N)CN=C(N)N')\n",
      "Processed batch: 3300, Total processed: 4200, First in batch: ('GLEOIKLQBZNKJZ-WDSKDSINSA-N', 'C1CC(NC1)C(=O)NC(CC(=O)O)C(=O)O')\n",
      "Processed batch: 3400, Total processed: 4300, First in batch: ('ZSRSLWKGWFFVCM-WDSKDSINSA-N', 'C1CC(N(C1)C(=O)C(CS)N)C(=O)O')\n",
      "Processed batch: 3500, Total processed: 4400, First in batch: ('SXJOPONICMGFCR-UHFFFAOYSA-N', 'C1CC(NC1)C(=O)NC(CO)C(=O)NC(CCCCN)C(=O)O')\n",
      "Processed batch: 3600, Total processed: 4500, First in batch: ('IDGZVZJLYFTXSL-UHFFFAOYSA-N', 'CC(C)CC(C(=O)NC(CO)C(=O)NC(CCCN=C(N)N)C(=O)O)N')\n",
      "Processed batch: 3700, Total processed: 4600, First in batch: ('GBSUGIXJAAKZOW-UHFFFAOYSA-N', 'CCC(C)C(C(=O)NC(CCCN=C(N)N)C(=O)O)NC(=O)C(CC(=O)O)N')\n",
      "Processed batch: 3800, Total processed: 4700, First in batch: ('LNLNHXIQPGKRJQ-UHFFFAOYSA-N', 'C1CC(NC1)C(=O)NC(CCCN=C(N)N)C(=O)NC(CCCN=C(N)N)C(=O)O')\n",
      "Processed batch: 3900, Total processed: 4800, First in batch: ('CLBGMWIYPYAZPR-UHFFFAOYSA-N', 'C(CCN)CC(C(=O)NC(CCCN=C(N)N)C(=O)NC(CCCN=C(N)N)C(=O)O)N')\n",
      "Processed batch: 4000, Total processed: 4900, First in batch: ('RJONUNZIMUXUOI-UHFFFAOYSA-N', 'C(CCN)CC(C(=O)O)NC(=O)C(CC(=O)N)NC(=O)C(CCC(=O)O)N')\n",
      "Processed batch: 4100, Total processed: 5000, First in batch: ('NFNVDJGXRFEYTK-YUMQZZPRSA-N', 'CC(C)CC(C(=O)NC(CCC(=O)O)C(=O)O)N')\n",
      "Processed batch: 4200, Total processed: 5100, First in batch: ('LADGBHLMCUINGV-UHFFFAOYSA-N', 'CCCCCCCCCC(=O)OCC(COC(=O)CCCCCCCCC)OC(=O)CCCCCCCCC')\n",
      "Processed batch: 4300, Total processed: 5200, First in batch: ('LDXDSHIEDAPSSA-UHFFFAOYSA-N', 'C1CC2=C(CC1NS(=O)(=O)C3=CC=C(C=C3)F)C4=CC=CC=C4N2CCC(=O)O')\n",
      "Processed batch: 4400, Total processed: 5300, First in batch: ('CUVLMZNMSPJDON-UHFFFAOYSA-N', 'CCCCOCC(C)OCC(C)O')\n",
      "Processed batch: 4500, Total processed: 5400, First in batch: ('RZIAABRFQASVSW-UHFFFAOYSA-N', 'C1=CC=C2C=[N+](C=CC2=C1)[O-]')\n",
      "Processed batch: 4600, Total processed: 5500, First in batch: ('UCHDWCPVSPXUMX-OYLFJNDKSA-N', 'CC(C)(C1=CC=CC=C1CCC(C2=CC=CC(=C2)C=CC3=NC4=C(C=CC(=C4)Cl)C=C3)SCC5(CC5)CC(=O)O)O')\n",
      "Processed batch: 4700, Total processed: 5600, First in batch: ('OTQJVHISAFFLMA-MAPNCKNWSA-N', 'CC(=O)OCC1C(C(C(O1)N2C=NC(=NC2=O)N)OC(=O)C)OC(=O)C')\n",
      "Processed batch: 4800, Total processed: 5700, First in batch: ('ZIXNZOBDFKSQTC-UHFFFAOYSA-N', 'C1COC2(N1CC(=O)NC3=C2C=C(C=C3)Cl)C4=CC=CC=C4Cl')\n",
      "Processed batch: 4900, Total processed: 5800, First in batch: ('ONEYFZXGNFNRJH-UHFFFAOYSA-N', 'CC1=CC=C(C=C1)N2CCNCC2')\n",
      "Processed batch: 5000, Total processed: 5900, First in batch: ('SGXXNSQHWDMGGP-IZZDOVSWSA-N', 'CNC(=C[N+](=O)[O-])NCCSCC1=CSC(=N1)CN(C)C')\n",
      "Processed batch: 5100, Total processed: 6000, First in batch: ('GPJCOQPUQUEBTB-UHFFFAOYSA-N', 'C1CC(=O)OC2=C1C=CC(=C2)O')\n",
      "Processed batch: 5200, Total processed: 6100, First in batch: ('XXHOOMDZSRQLMD-VFCOFNOGSA-N', 'CCCCCCCCC=CCCCCCCCCOCC1COP(=O)(O1)O')\n",
      "Processed batch: 5300, Total processed: 6200, First in batch: ('JNUUNUQHXIOFDA-JGKLHWIESA-N', 'CCCCCC=CCC=CCC=CC=CC(CCCC(=O)O)OO')\n",
      "Processed batch: 5400, Total processed: 6300, First in batch: ('PWMWNFMRSKOCEY-QMMMGPOBSA-N', 'C1=CC=C(C=C1)C(CO)O')\n",
      "Processed batch: 5500, Total processed: 6400, First in batch: ('GYJSAWZGYQXRBS-XTQLREFJSA-N', 'CC(CCCC(C)C(=O)O)C1CCC2C1(CCC3C2C(C=C4C3(CCC(C4)O)C)O)C')\n",
      "Processed batch: 5600, Total processed: 6500, First in batch: ('FTODBIPDTXRIGS-ZDUSSCGKSA-N', 'COC1=C(C=CC(=C1)C2CC(=O)C3=C(C=C(C=C3O2)O)O)O')\n",
      "Processed batch: 5700, Total processed: 6600, First in batch: ('DBMJZOMNXBSRED-OQLLNIDSSA-N', 'CC(=CCCC(=CCOC1=C2C=CC(=O)OC2=CC3=C1C=CO3)C)C')\n",
      "Processed batch: 5800, Total processed: 6700, First in batch: ('OGBUMNBNEWYMNJ-UHFFFAOYSA-N', 'CCCCCCCCCCCCCCCCCCOCC(CO)O')\n",
      "Processed batch: 5900, Total processed: 6800, First in batch: ('LZFZMUMEGBBDTC-QEJZJMRPSA-N', 'CC(C(=O)N1CCCC1C(=O)O)NC(CCC2=CC=CC=C2)C(=O)O')\n",
      "Processed batch: 6000, Total processed: 6900, First in batch: ('CABVTRNMFUVUDM-UHFFFAOYSA-N', 'CC(C)(COP(=O)(O)OP(=O)(O)OCC1C(C(C(O1)N2C=NC3=C(N=CN=C32)N)O)OP(=O)(O)O)C(C(=O)NCCC(=O)NCCSC(=O)CC(C)(CC(=O)O)O)O')\n",
      "Processed batch: 6100, Total processed: 7000, First in batch: ('GXDALQBWZGODGZ-UHFFFAOYSA-N', 'COC1=CC=C(C=C1)CCN2CCC(CC2)NC3=NC4=CC=CC=C4N3CC5=CC=C(C=C5)F')\n",
      "Processed batch: 6200, Total processed: 7100, First in batch: ('CQMYCPZZIPXILQ-UHFFFAOYSA-N', 'CCOC(=O)CCCCCCCC(=O)OCC')\n",
      "Processed batch: 6300, Total processed: 7200, First in batch: ('DCUJJWWUNKIJPH-UHFFFAOYSA-N', 'C1=CC(=NC(=C1)Cl)C(Cl)(Cl)Cl')\n",
      "Processed batch: 6400, Total processed: 7300, First in batch: ('QILNEUAGOJMVCC-VMPITWQZSA-N', 'CC1=CC(=C(C=C1)O)C(=O)C=CC2=C(C=CC(=C2)OC)OC')\n",
      "Processed batch: 6500, Total processed: 7400, First in batch: ('YHLLABKHTFWHSZ-UHFFFAOYSA-N', 'C1=CC(=CC(=C1)O)C2=CC(=O)C3=C(O2)C=CC(=C3)O')\n",
      "Processed batch: 6600, Total processed: 7500, First in batch: ('MLMQPDHYNJCQAO-UHFFFAOYSA-N', 'CC(C)(C)CC(=O)O')\n",
      "Processed batch: 6700, Total processed: 7600, First in batch: ('KHOITXIGCFIULA-UHFFFAOYSA-N', 'CC(=O)OC1=CC=C(C=C1)C(C2=CC=C(C=C2)OC(=O)C)C3=CC=CC=N3')\n",
      "Processed batch: 6800, Total processed: 7700, First in batch: ('AESHPAQQBZWZMS-NWFXIAEYSA-N', 'CCCCCCCCC=CCC=CCC=CCCCC(=O)OC')\n",
      "Processed batch: 6900, Total processed: 7800, First in batch: ('LLLIKVGWTVPYAL-UHFFFAOYSA-N', 'COC1=CC2=C(C=C1)OC(=CC2=O)C3=CC(=CC=C3)OC')\n",
      "Processed batch: 7000, Total processed: 7900, First in batch: ('HVDGDHBAMCBBLR-XPCCGILXSA-N', 'C1C(C(C(=O)O1)CC2=CC(=CC=C2)O)CC3=CC(=CC=C3)O')\n",
      "Processed batch: 7100, Total processed: 8000, First in batch: ('JWFCYWSMNRLXLX-UJJXFSCMSA-N', 'N/A')\n",
      "Processed batch: 7200, Total processed: 8100, First in batch: ('AXGDCWQADWNGMH-UHFFFAOYSA-N', 'COC1=CC2=C(C(=C1)OC)C(=O)C=C(O2)C3=CC=C(C=C3)OCC4=CC=CC=C4')\n",
      "Processed batch: 7300, Total processed: 8200, First in batch: ('RPSBVJXBTXEJJG-RAMSCCQBSA-N', 'CC(=O)NC1C(CC(OC1C(C(CO)O)O)(C(=O)O)OCC2C(C(C(C(O2)OC3C(OC(C(C3O)NC(=O)C)O)CO)O)O)O)O')\n",
      "Processed batch: 7400, Total processed: 8300, First in batch: ('BDCZFOHEQGRTBW-UHFFFAOYSA-N', 'CS(=O)(=O)NC(=O)CCCCCCCCCC=C(Br)Br')\n",
      "Processed batch: 7500, Total processed: 8400, First in batch: ('AOYYFUGUUIRBML-IAGOWNOFSA-N', 'CCCCCC1=CC(=C2C3CC(=C)CCC3C(OC2=C1)(C)C)O')\n",
      "Processed batch: 7600, Total processed: 8500, First in batch: ('ICVFJPSNAUMFCW-UHFFFAOYSA-N', 'C1=CC(=CC=C1C2=CC=C(C=C2)Cl)O')\n",
      "Processed batch: 7700, Total processed: 8600, First in batch: ('CLRLHXKNIYJWAW-YOQZMRDMSA-N', 'C1C(C(C(OC1(C(=O)O)O)C(C(CO)O)O)O)O')\n",
      "Processed batch: 7800, Total processed: 8700, First in batch: ('GCRCSLNXFKCFHB-UHFFFAOYSA-N', 'CCCCCC[N+](CC)(CC)CC')\n",
      "Processed batch: 7900, Total processed: 8800, First in batch: ('UWKQSNNFCGGAFS-XIFFEERXSA-N', 'CCC1=C2CN3C(=CC4=C(C3=O)COC(=O)C4(CC)O)C2=NC5=C1C=C(C=C5)OC(=O)N6CCC(CC6)N7CCCCC7')\n",
      "Processed batch: 8000, Total processed: 8900, First in batch: ('ATDBDSBKYKMRGZ-UHFFFAOYSA-N', 'CC(C)(C1CC2=C(O1)C=C3C(=C2OC)C(=O)C=C(O3)CO)O')\n",
      "Processed batch: 8100, Total processed: 9000, First in batch: ('YCXUCEXEMJPDRZ-PYBCKWFOSA-N', 'N/A')\n",
      "Processed batch: 8200, Total processed: 9100, First in batch: ('XMOCLSLCDHWDHP-IUODEOHRSA-N', 'C1C(C(OC2=CC(=CC(=C21)O)O)C3=CC(=C(C(=C3)O)O)O)O')\n",
      "Processed batch: 8300, Total processed: 9200, First in batch: ('IGUYEXXAGBDLLX-UHFFFAOYSA-N', 'CCOC(=O)C1(C(=O)N(C(=O)O1)C2=CC(=CC(=C2)Cl)Cl)C')\n",
      "Processed batch: 8400, Total processed: 9300, First in batch: ('DKIVMJXJKHHIRO-UHFFFAOYSA-N', 'CCCCN1C=C(C2=C1C=CC=C2O)C(=O)C3=CC=CC4=CC=CC=C43')\n",
      "Processed batch: 8500, Total processed: 9400, First in batch: ('QPRQJOHKNJIMGN-UTBYMYNZSA-N', 'N/A')\n",
      "Processed batch: 8600, Total processed: 9500, First in batch: ('HFNKQEVNSGCOJV-OAHLLOKOSA-N', 'C1CCC(C1)C(CC#N)N2C=C(C=N2)C3=C4C=CNC4=NC=N3')\n",
      "Processed batch: 8700, Total processed: 9600, First in batch: ('OSXFATOLZGZLSK-UHFFFAOYSA-N', 'CN1CCCN(CC1)C2=NC3=CC(=C(C=C3C(=N2)NC4CCN(CC4)CC5=CC=CC=C5)OC)OC')\n",
      "Processed batch: 8800, Total processed: 9700, First in batch: ('XLKSRDFTWSGSGI-KUBAVDMBSA-N', 'CCC=CCC=CCC=CCC=CCC=CCC=CCCCCCCCCCCCCCO')\n",
      "Processed batch: 8900, Total processed: 9800, First in batch: ('UDQMXYJSNNCRAS-UHFFFAOYSA-N', 'C1CN(CCN1)C2=C(C(=CC=C2)Cl)Cl')\n",
      "Processed batch: 9000, Total processed: 9900, First in batch: ('MXWDSZWTBOCWBK-UHFFFAOYSA-N', 'CN(C)C1=CC=C(C=C1)C(=O)NCCCCCCC(=O)NO')\n",
      "Processed batch: 9100, Total processed: 10000, First in batch: ('HUPFGZXOMWLGNK-UHFFFAOYSA-N', 'C1=CC(=C(C=C1C2=C(C=C(C=C2)F)F)C(=O)O)O')\n",
      "Processed batch: 9200, Total processed: 10100, First in batch: ('MPSNEAHFGOEKBI-UHFFFAOYSA-N', 'CN1C2CCC1C(=CC2)C(=O)OC')\n",
      "Processed batch: 9300, Total processed: 10200, First in batch: ('UUTHIAPDCFFQKQ-UHFFFAOYSA-N', 'CC1(C(C1(C)C)C(=O)C2=CN(C3=CC=CC=C32)CCCCC(=O)O)C')\n",
      "Processed batch: 9400, Total processed: 10300, First in batch: ('XZURZCGSKALDLA-JLNKQSITSA-N', 'CCC=CCC=CCC=CCC=CCC=CCCCCCC(=O)NCCO')\n",
      "Processed batch: 9500, Total processed: 10400, First in batch: ('ALUOSHHIHVCMCU-UHFFFAOYSA-N', 'CC(CCCN1C=C(C2=CC=CC=C21)C(=O)CC3=CC=CC=C3Cl)O')\n",
      "Processed batch: 9600, Total processed: 10500, First in batch: ('JLOXTZFYJNCPIS-SQFISAMPSA-N', 'C1=CC=C(C(=C1)C(=C(N)SC2=CC=C(C=C2)N)C#N)C(F)(F)F')\n",
      "Processed batch: 9700, Total processed: 10600, First in batch: ('DKXHSOUZPMHNIZ-UHFFFAOYSA-N', 'C1CNC(=O)C2=C1NC(=C2)C3=CC=NC=C3')\n",
      "Processed batch: 9800, Total processed: 10700, First in batch: ('JLESVLCTIOAHPT-UHFFFAOYSA-N', 'CC1=CC2=C(CC(C2)N)C=C1OC')\n",
      "Processed batch: 9900, Total processed: 10800, First in batch: ('IHLVSLOZUHKNMQ-UHFFFAOYSA-N', 'C1CC2=C(C(=NN2C1)C3=CC=CC=N3)C4=C5C=CC(=CC5=NC=C4)OCCN6CCOCC6')\n",
      "Processed batch: 10000, Total processed: 10900, First in batch: ('MJJALKDDGIKVBE-UHFFFAOYSA-N', 'CC(C)(C)C1=CC=C(C=C1)C(=O)CCCN2CCC(CC2)OC(C3=CC=CC=C3)C4=CC=CC=C4')\n",
      "Processed batch: 10100, Total processed: 11000, First in batch: ('PALJPGHWDUHUPO-UHFFFAOYSA-N', 'CCCCCCN1C=C(C2=CC=CC=C21)C(=O)C3=CC=CC4=CC=CC=C43')\n",
      "Processed batch: 10200, Total processed: 11100, First in batch: ('LJFIFOPYTFFRKD-HIFDQRORSA-N', 'CC(=O)N1CCC23C4C1CC5=C2C(=C(C=C5)OC(=O)C)OC3C(C=C4)OC(=O)C')\n",
      "Processed batch: 10300, Total processed: 11200, First in batch: ('GLACGTLACKLUJX-QNAXTHAFSA-N', 'C1=COC(C2C1C(C=C2COC(=O)C3=CC=C(C=C3)O)O)OC4C(C(C(C(O4)CO)O)O)O')\n",
      "Processed batch: 10400, Total processed: 11300, First in batch: ('UIFAWZBYTTXSOG-UHFFFAOYSA-N', 'CC(=O)C1=CC2=CC=CC=C2C3=CC=CC=C31')\n",
      "Processed batch: 10500, Total processed: 11400, First in batch: ('KGPAYJZAMGEDIQ-UHFFFAOYSA-N', 'CN1CCC2=CC(=C(C=C2C1CC3=CC(=C(C=C3)OC)OC)OC)OC')\n",
      "Processed batch: 10600, Total processed: 11500, First in batch: ('LODGIKWNLDQZBM-LBPRGKRZSA-N', 'CN1CCC2=CC3=C(C4=C2C1CC5=C4C(=C(C=C5)OC)O)OCO3')\n",
      "Processed batch: 10700, Total processed: 11600, First in batch: ('ZKZMDXUDDJYAIB-SUCLLAFCSA-N', 'CC(=O)OC1C(C2C(CCCC2(C3C1(OC(CC3=O)(C)C=C)C)C)(C)C)O')\n",
      "Processed batch: 10800, Total processed: 11700, First in batch: ('BJYLYJCXYAMOFT-RSFVBTMBSA-N', 'CC(C)C(CCC(C)C1CCC2C1(CCCC2=CC=C3CC(CC(C3=C)O)O)C)O')\n",
      "Processed batch: 10900, Total processed: 11800, First in batch: ('ZUHIXXCLLBMBDW-MRXNPFEDSA-N', 'CN1CCCCC1CN2C=C(C3=CC=CC=C32)C(=O)C4=C(C=CC(=C4)[N+](=O)[O-])I')\n",
      "Processed batch: 11000, Total processed: 11900, First in batch: ('JHIXEZNTXMFXEK-UHFFFAOYSA-N', 'CCCCCCCCCCCCCC(=O)NCCO')\n",
      "Processed batch: 11100, Total processed: 12000, First in batch: ('GXPIUNZCALHVBA-UHFFFAOYSA-N', 'CC1=CC(=NO1)NS(=O)(=O)C2=CC=C(C=C2)NC(=O)C')\n",
      "Processed batch: 11200, Total processed: 12100, First in batch: ('GROORMIERUNSSM-ZIKVJHDZSA-N', 'N/A')\n",
      "Processed batch: 11300, Total processed: 12200, First in batch: ('BSRUJCFCZKMFMB-YGHPHNMRSA-N', 'COC1=CC2=C(C=CN=C2C=C1)C(C3CC4CCN3CC4(C=C)O)O')\n",
      "Processed batch: 11400, Total processed: 12300, First in batch: ('RWLBSOOQHDMEGO-UHFFFAOYSA-N', 'C1CN(CCN1CC2=CC(=CC=C2)C3=CC=CC=C3)C4=CC(=CC5=C4OC(=O)N5)Cl')\n",
      "Processed batch: 11500, Total processed: 12400, First in batch: ('LDWAIHWGMRVEFR-VGMNWLOBSA-N', 'CC1(C2CCC(C1C2)CO)C')\n",
      "Processed batch: 11600, Total processed: 12500, First in batch: ('DGGOLFCPSUVVHX-RTHJTPBESA-N', 'C1C(OC2=C(C1=O)C=CC(=C2O)OC3C(C(C(C(O3)CO)O)O)O)C4=CC(=C(C=C4)O)O')\n",
      "Processed batch: 11700, Total processed: 12600, First in batch: ('QGQSRQPXXMTJCM-UHFFFAOYSA-N', 'CCS(=O)(=O)OC1=CC2=C(C=C1)OCC2(C)C')\n",
      "Processed batch: 11800, Total processed: 12700, First in batch: ('YBZBURFOLZLHJU-UHFFFAOYSA-N', 'CCNC1=NC(=NC(=N1)Cl)N(C)CC')\n",
      "Processed batch: 11900, Total processed: 12800, First in batch: ('FTLDJPRFCGDUFH-UHFFFAOYSA-N', 'CC(C)(CC1=CC=CC=C1)N(C)C(=O)CN(CCO)CC(=O)N(C)C(C)(C)CC2=CC=CC=C2')\n",
      "Processed batch: 12000, Total processed: 12900, First in batch: ('BJJQJLOZWBZEGA-UHFFFAOYSA-N', 'COC1=CC=CC(=C1)CCC(=O)O')\n",
      "Processed batch: 12100, Total processed: 13000, First in batch: ('PJHFXLMZRIZDJZ-UHFFFAOYSA-N', 'CCOP(=S)(N)OC1=CC=CC=C1C(=O)OC(C)C')\n",
      "Processed batch: 12200, Total processed: 13100, First in batch: ('ABOOPXYCKNFDNJ-UHFFFAOYSA-N', 'CC(C(=O)O)OC1=CC=C(C=C1)OC2=CN=C3C=C(C=CC3=N2)Cl')\n",
      "Processed batch: 12300, Total processed: 13200, First in batch: ('DJVLMLGPDKKYJW-UHFFFAOYSA-N', 'COC1=CC=CC2=C1NC=CC2=O')\n",
      "Processed batch: 12400, Total processed: 13300, First in batch: ('QRUDEWIWKLJBPS-UHFFFAOYSA-N', 'C1=CC2=NNN=C2C=C1')\n",
      "Processed batch: 12500, Total processed: 13400, First in batch: ('OZDOSQNUJIXEOR-UHFFFAOYSA-N', 'CC(C)C(=O)N(C1CCN(CC1)CCC2=CC=CC=C2)C3=CC=C(C=C3)F')\n",
      "Processed batch: 12600, Total processed: 13500, First in batch: ('JCHNBNRIALLIDT-UHFFFAOYSA-N', 'C1C(=O)NC(=NC1=O)NC#N')\n",
      "Processed batch: 12700, Total processed: 13600, First in batch: ('YMJRDZSVSJUACX-UHFFFAOYSA-N', 'C1CN(CCC1N)C(=O)C2=CC=CC=C2')\n",
      "Final batch processed, First in batch: ('LVNMAAGSAUGNIC-BQBZGAKWSA-N', 'C1=C(NC=N1)CC(C(=O)O)NC(=O)C(CS)N')\n"
     ]
    }
   ],
   "execution_count": 84
  },
  {
   "metadata": {
    "ExecuteTime": {
     "end_time": "2024-09-04T13:48:08.990470Z",
     "start_time": "2024-09-04T12:28:25.369065Z"
    }
   },
   "cell_type": "code",
   "source": [
    "# Retrieve SMILES for CAS numbers\n",
    "# cas_to_smiles = get_smiles_from_cas(unique_casnos, output_path_cas)"
   ],
   "id": "f2fe69f7ca4e0866",
   "outputs": [
    {
     "name": "stdout",
     "output_type": "stream",
     "text": [
      "Processed batch: 100, Total processed: 4500, First in batch: ('85778-45-6', 'N/A')\n",
      "Processed batch: 200, Total processed: 4600, First in batch: ('283594-90-1', 'CC1=CC(=C(C(=C1)C)C2=C(C3(CCCC3)OC2=O)OC(=O)CC(C)(C)C)C')\n",
      "Processed batch: 300, Total processed: 4700, First in batch: ('134-96-3', 'COC1=CC(=CC(=C1O)OC)C=O')\n",
      "Processed batch: 400, Total processed: 4800, First in batch: ('74465-19-3', 'C1(C(C(C(C(C1OP(=O)(O)O)O)O)OP(=O)(O)O)O)O')\n",
      "Processed batch: 500, Total processed: 4900, First in batch: ('42021-86-3', 'CCCCC=CC=CC=CCCCCCCCC(=O)OCC')\n",
      "Processed batch: 600, Total processed: 5000, First in batch: ('2201-40-3', 'C1CCC(CC1)(C2=CC=CC=C2)N3CCOCC3')\n",
      "Processed batch: 700, Total processed: 5100, First in batch: ('19879-30-2', 'CC(=CCC1=CC2=C(C=C1OC)OC(CC2=O)C3=CC=C(C=C3)O)C')\n",
      "Processed batch: 800, Total processed: 5200, First in batch: ('314744-06-4', 'CCOC1=C(C=C2C(=C1)C(=CC(=O)O2)C)OCC')\n",
      "Processed batch: 900, Total processed: 5300, First in batch: ('14756-21-9', 'COC1=CC=CC=C1C2=CC(=O)C3=C(O2)C4=CC=CC=C4C=C3')\n",
      "Processed batch: 1000, Total processed: 5400, First in batch: ('88495-63-0', 'CC1CCC2C(C(OC3C24C1CCC(O3)(OO4)C)OC(=O)CCC(=O)O)C')\n",
      "Processed batch: 1100, Total processed: 5500, First in batch: ('25138-66-3', 'CC(C(=O)SCC(C(=O)NCC(=O)O)NC(=O)CCC(C(=O)O)N)O')\n",
      "Processed batch: 1200, Total processed: 5600, First in batch: ('61-82-5', 'C1=NNC(=N1)N')\n",
      "Processed batch: 1300, Total processed: 5700, First in batch: ('1166-52-5', 'CCCCCCCCCCCCOC(=O)C1=CC(=C(C(=C1)O)O)O')\n",
      "Processed batch: 1400, Total processed: 5800, First in batch: ('2460-77-7', 'CC(C)(C)C1=CC(=O)C(=CC1=O)C(C)(C)C')\n",
      "Processed batch: 1500, Total processed: 5900, First in batch: ('1775-97-9', 'COC1=CC(=C(C(=C1)OC)C(=O)C=CC2=CC=CC=C2)O')\n",
      "Processed batch: 1600, Total processed: 6000, First in batch: ('1017059674', 'N/A')\n",
      "Processed batch: 1700, Total processed: 6100, First in batch: ('64023-32-1', 'CCCCCCCCCCCCCC(=O)OCC(COP(=O)(O)OCC(C(=O)O)N)OC(=O)CCCCCCCCCCCCC')\n",
      "Processed batch: 1800, Total processed: 6200, First in batch: ('1205-30-7', 'C1=CC(=C(C=C1C(=O)O)S(=O)(=O)N)Cl')\n",
      "Processed batch: 1900, Total processed: 6300, First in batch: ('52603-03-9', 'CCCCCCCCCCCCCCCCOCC(COP(=O)(O)O)O')\n",
      "Processed batch: 2000, Total processed: 6400, First in batch: ('710338-78-6', 'N/A')\n",
      "Processed batch: 2100, Total processed: 6500, First in batch: ('75330-75-5', 'CCC(C)C(=O)OC1CC(C=C2C1C(C(C=C2)C)CCC3CC(CC(=O)O3)O)C')\n",
      "Processed batch: 2200, Total processed: 6600, First in batch: ('910228-13-6', 'CCCCCCC=CCCCCCCCC(=O)OCC1CCP(=O)(O1)O')\n",
      "Processed batch: 2300, Total processed: 6700, First in batch: ('931589-61-6', 'N/A')\n",
      "Processed batch: 2400, Total processed: 6800, First in batch: ('80081-06-7', 'CC1C(C(C(C(O1)OC2C(OC(C(C2OC3C(C(C(C(O3)CO)O)O)OC4C(C(C(C(O4)C)O)O)O)NC(=O)C)O)CO)O)O)O')\n",
      "Processed batch: 2500, Total processed: 6900, First in batch: ('314245-33-5', 'CC1=CC(=C(N1C2=CC=C(C=C2)F)C)C(=O)CN3CCCC3')\n",
      "Processed batch: 2600, Total processed: 7000, First in batch: ('51799-32-7', 'CCCNC(C)CC1=CC=CC=C1')\n",
      "Processed batch: 2700, Total processed: 7100, First in batch: ('88-74-4', 'C1=CC=C(C(=C1)N)[N+](=O)[O-]')\n",
      "Processed batch: 2800, Total processed: 7200, First in batch: ('1173-13-3', 'CC1=C(CC(CC1)O)C=CC2=CCCC3(C2CCC3C(C)CCCC(C)C)C')\n",
      "Processed batch: 2900, Total processed: 7300, First in batch: ('53963-43-2', 'CC(=CCCC(C)(C1CCC2(C1C(CC3C2(CC(C4C3(CCC(C4(C)C)O)C)O)C)O)C)OC5C(C(C(C(O5)CO)O)O)O)C')\n",
      "Processed batch: 3000, Total processed: 7400, First in batch: ('5630-11-5', 'CN1CCC2=CC(=C(C3=C2C1CC4=CC(=C(C=C43)OC)OC)OC)OC')\n",
      "Processed batch: 3100, Total processed: 7500, First in batch: ('58543-17-2', 'CC12CCCC(C1CCC34C2CCC(C3)(C(=C)C4)OC5C(C(C(C(O5)CO)O)OC6C(C(C(C(O6)CO)O)O)O)OC7C(C(C(C(O7)CO)O)O)O)(C)C(=O)O')\n",
      "Processed batch: 3200, Total processed: 7600, First in batch: ('2222-07-3', 'CC1(C2=CCC3C4(CC(C(C4(CC(=O)C3(C2C=C(C1=O)O)C)C)C(C)(C(=O)C=CC(C)(C)O)O)O)C)C')\n",
      "Processed batch: 3300, Total processed: 7700, First in batch: ('2883-98-9', 'CC=CC1=CC(=C(C=C1OC)OC)OC')\n",
      "Processed batch: 3400, Total processed: 7800, First in batch: ('83-95-4', 'COC1=C(C2=C(C=C1)C(=C3C=COC3=N2)OC)OC')\n",
      "Processed batch: 3500, Total processed: 7900, First in batch: ('1345973490', 'N/A')\n",
      "Processed batch: 3600, Total processed: 8000, First in batch: ('11050-94-5', 'CCC1CCC2C(C(C(C3(O2)C(=O)CC(C(O3)CC(C)O)C)C)OC(=O)C=CC(C(C(C(=O)C(C(C(C(=O)C(C(C(CC=CC=C1)C)O)(C)O)C)O)C)C)O)C)C')\n",
      "Processed batch: 3700, Total processed: 8100, First in batch: ('7681-93-8', 'CC1CC=CC=CC=CC=CC(CC2C(C(CC(O2)(CC(CC3C(O3)C=CC(=O)O1)O)O)O)C(=O)O)OC4C(C(C(C(O4)C)O)N)O')\n",
      "Processed batch: 3800, Total processed: 8200, First in batch: ('341973-06-6', 'C1C(CN(C1CNC(=O)C2=CC=C(C=C2)C=C3C(=O)NC(=O)S3)C(=O)C4=CC=CC=C4C(=O)C5=C(C=C(C=C5)F)F)SC(C6=CC=CC=C6)(C7=CC=CC=C7)C8=CC=CC=C8')\n",
      "Processed batch: 3900, Total processed: 8300, First in batch: ('1427325914', 'N/A')\n",
      "Processed batch: 4000, Total processed: 8400, First in batch: ('4311-88-0', 'CN1C(=O)C(NC1=S)CC2=CNC3=CC=CC=C32')\n",
      "Processed batch: 4100, Total processed: 8500, First in batch: ('80866-94-0', 'CC1=C(C=C(C=C1[N+](=O)[O-])[N+](=O)[O-])CO')\n",
      "Processed batch: 4200, Total processed: 8600, First in batch: ('2192-55-4', 'C(COC1=C(C(=C(C(=C1F)F)F)F)F)O')\n",
      "Processed batch: 4300, Total processed: 8700, First in batch: ('18259-40-0', 'CCNC(C)C(C1=CC=CC=C1)O')\n",
      "Processed batch: 4400, Total processed: 8800, First in batch: ('1245704408', 'N/A')\n",
      "Processed batch: 4500, Total processed: 8900, First in batch: ('151096-09-2', 'COC1=C2C(=CC(=C1N3CC4CCCNC4C3)F)C(=O)C(=CN2C5CC5)C(=O)O')\n",
      "Processed batch: 4600, Total processed: 9000, First in batch: ('137281-23-3', 'C1=CC(=CC=C1CCC2=CNC3=C2C(=O)NC(=N3)N)C(=O)NC(CCC(=O)O)C(=O)O')\n",
      "Processed batch: 4700, Total processed: 9100, First in batch: ('294675-79-9', 'CCOC1=CC=C(C=C1)C=C2C(=O)N(C(=O)S2)CCN')\n",
      "Processed batch: 4800, Total processed: 9200, First in batch: ('149695-85-2', 'CC(C(=O)NC(=O)C(C)NC(=O)C(C)NC(=O)C(C)NC(=O)OCC1=CC=CC=C1)NC2=CC3=C(C=C2)C4(C5=C(O3)C=C(C=C5)NC(=O)C(C)NC(=O)C(C)NC(=O)C(C)NC(=O)C(C)NC(=O)OCC6=CC=CC=C6)C7=CC=CC=C7C(=O)O4')\n",
      "Processed batch: 4900, Total processed: 9300, First in batch: ('129618-40-2', 'CC1=C2C(=NC=C1)N(C3=C(C=CC=N3)C(=O)N2)C4CC4')\n",
      "Processed batch: 5000, Total processed: 9400, First in batch: ('145231-45-4', 'C1=CC(=CC=C1CN=C(N)SCCCC2=CN=CN2)Cl')\n",
      "Processed batch: 5100, Total processed: 9500, First in batch: ('37318-06-2', 'CCC1C(OC(CC1OC2CC(C(C(O2)C)O)O)(C(C)C(C(C)C3C(C=CC=CC(=O)OC(C(C=CC=CC(=O)O3)C)C(C)C(C(C)C4(CC(C(C(O4)C)CC)OC5CC(C(C(O5)C)O)O)O)O)C)O)O)C')\n",
      "Processed batch: 5200, Total processed: 9600, First in batch: ('131543-22-1', 'CC1=C(C2=C3N1C(COC3=CC=C2)CN4CCOCC4)C(=O)C5=CC=CC6=CC=CC=C65')\n",
      "Processed batch: 5300, Total processed: 9700, First in batch: ('1235-15-0', 'CCC12CCC3C(C1CCC2(CC)O)CCC4=CC(=O)CCC34')\n",
      "Processed batch: 5400, Total processed: 9800, First in batch: ('80546-88-9', 'C1CNCC1(C(=O)O)N')\n",
      "Processed batch: 5500, Total processed: 9900, First in batch: ('139968-49-3', 'C1=CC(=CC(=C1)C(F)(F)F)C(=NNC(=O)NC2=CC=C(C=C2)OC(F)(F)F)CC3=CC=C(C=C3)C#N')\n",
      "Processed batch: 5600, Total processed: 10000, First in batch: ('105-87-3', 'CC(=CCCC(=CCOC(=O)C)C)C')\n",
      "Processed batch: 5700, Total processed: 10100, First in batch: ('103150-32-9', 'C1=CC=C(C=C1)C(C(CO)O)NC(=O)C2=CC=CC=C2')\n",
      "Processed batch: 5800, Total processed: 10200, First in batch: ('851132-91-7', 'CCCCCCCCC=CCCCCCC(CC(=O)OC(CC(=O)[O-])C[N+](C)(C)C)O')\n",
      "Processed batch: 5900, Total processed: 10300, First in batch: ('167869-21-8', 'COC1=CC=CC(=C1N)C2=CC(=O)C3=CC=CC=C3O2')\n",
      "Processed batch: 6000, Total processed: 10400, First in batch: ('501927-29-3', 'CC1=C(C2=C(N1CCN3CCOCC3)C(=CC=C2)OC)C(=O)NC4C(C5CCC4(C5)C)(C)C')\n",
      "Processed batch: 6100, Total processed: 10500, First in batch: ('29984-41-6', 'CC(=O)OCC(=O)C1(CC(C2=C(C1)C(=C3C(=C2O)C(=O)C4=C(C3=O)C=CC=C4OC)O)O)O')\n",
      "Processed batch: 6200, Total processed: 10600, First in batch: ('135308-74-6', 'CNCC(C1=CC=C(C=C1)O)C2(CCCCC2)O')\n",
      "Processed batch: 6300, Total processed: 10700, First in batch: ('15847-24-2', 'CC12CC(C3C(C1CCC2(C(CO)O)O)CCC4=CC(=O)C=CC34C)O')\n",
      "Processed batch: 6400, Total processed: 10800, First in batch: ('1217042040', 'N/A')\n",
      "Processed batch: 6500, Total processed: 10900, First in batch: ('23284-18-6', 'C1C(C(C(C(O1)OCC2C(C(C(C(O2)OC3=C(OC4=CC(=CC(=C4C3=O)O)O)C5=CC(=C(C=C5)O)O)O)O)O)O)O)O')\n",
      "Processed batch: 6600, Total processed: 11000, First in batch: ('25954-44-3', 'C(C1C(C(C(C(O1)OCC2C(C(C(C(O2)OC3(C(C(C(O3)CO)O)O)CO)O)O)O)O)O)O)O')\n",
      "Processed batch: 6700, Total processed: 11100, First in batch: ('60397-77-5', 'CC1=CC(=C(C=C1)NC=O)C')\n",
      "Processed batch: 6800, Total processed: 11200, First in batch: ('67375-30-8', 'CC1(C(C1C(=O)OC(C#N)C2=CC(=CC=C2)OC3=CC=CC=C3)C=C(Cl)Cl)C')\n",
      "Processed batch: 6900, Total processed: 11300, First in batch: ('63612-50-0', 'CC1(C(=O)N(C(=O)N1)C2=CC(=C(C=C2)[N+](=O)[O-])C(F)(F)F)C')\n",
      "Processed batch: 7000, Total processed: 11400, First in batch: ('3739-30-8', 'CCC(C)(C(=O)O)O')\n",
      "Processed batch: 7100, Total processed: 11500, First in batch: ('56070-16-7', 'CCOP(=S)(OCC)SCS(=O)(=O)C(C)(C)C')\n",
      "Processed batch: 7200, Total processed: 11600, First in batch: ('1861-40-1', 'CCCCN(CC)C1=C(C=C(C=C1[N+](=O)[O-])C(F)(F)F)[N+](=O)[O-]')\n",
      "Processed batch: 7300, Total processed: 11700, First in batch: ('74668-72-7', 'COC1=NC2=C(C=CC=C2O)C=C1')\n",
      "Processed batch: 7400, Total processed: 11800, First in batch: ('83066-88-0', 'CC(C(=O)O)OC1=CC=C(C=C1)OC2=NC=C(C=C2)C(F)(F)F')\n",
      "Processed batch: 7500, Total processed: 11900, First in batch: ('204326-43-2', 'C1C2=NOC(=O)N2C3=C(O1)C=CC(=C3)Br')\n",
      "Processed batch: 7600, Total processed: 12000, First in batch: ('16709-30-1', 'CC1(C(=O)C2=C(O1)C(=CC=C2)OC(=O)NC)C')\n",
      "Final batch processed, First in batch: ('6789-94-2', 'CCN1CCCC(C1)N')\n"
     ]
    }
   ],
   "execution_count": 92
  },
  {
   "metadata": {},
   "cell_type": "markdown",
   "source": "## Add smiles to dataframe",
   "id": "76aca0c1abeb95a2"
  },
  {
   "metadata": {
    "ExecuteTime": {
     "end_time": "2024-09-12T06:54:03.927683Z",
     "start_time": "2024-09-12T06:54:03.911056Z"
    }
   },
   "cell_type": "code",
   "source": [
    "# Load dictionaries from json so match canonical smiles \n",
    "with open(output_path_cas, 'r') as f:\n",
    "    cas_to_smiles = json.load(f)\n",
    "\n",
    "with open(output_path_inchikey, 'r') as f:\n",
    "    inchikey_to_smiles = json.load(f)\n",
    "\n",
    "with open(output_path_names, 'r') as f:\n",
    "    name_to_smiles = json.load(f)"
   ],
   "id": "82445d3f64730fd3",
   "outputs": [],
   "execution_count": 25
  },
  {
   "metadata": {
    "ExecuteTime": {
     "end_time": "2024-09-12T06:54:13.954666Z",
     "start_time": "2024-09-12T06:54:13.951651Z"
    }
   },
   "cell_type": "code",
   "source": [
    "# Numbers of uniques molecular identifiers for CAS number, InChiKey, and names \n",
    "len(cas_to_smiles), len(inchikey_to_smiles), len(name_to_smiles)"
   ],
   "id": "b50d507932c40a59",
   "outputs": [
    {
     "data": {
      "text/plain": [
       "(12037, 13635, 13808)"
      ]
     },
     "execution_count": 26,
     "metadata": {},
     "output_type": "execute_result"
    }
   ],
   "execution_count": 26
  },
  {
   "metadata": {
    "ExecuteTime": {
     "end_time": "2024-09-12T07:46:47.166432Z",
     "start_time": "2024-09-12T07:46:47.163660Z"
    }
   },
   "cell_type": "code",
   "source": [
    "def format_cas_number_for_matching(cas_number):\n",
    "    \"\"\"\n",
    "    Format a CAS number by removing hyphens to match plain CAS number strings.\n",
    "\n",
    "    :param cas_number: CAS number in string format with hyphens.\n",
    "    :return: CAS number as a plain string without hyphens.\n",
    "    \"\"\"\n",
    "    return cas_number.replace('-', '')\n",
    "\n",
    "def adjust_cas_to_smiles_keys(cas_to_smiles):\n",
    "    \"\"\"\n",
    "    Adjust the keys of the cas_to_smiles dictionary by removing hyphens to match DataFrame values.\n",
    "\n",
    "    :param cas_to_smiles: Dictionary mapping hyphenated CAS numbers to SMILES strings.\n",
    "    :return: Adjusted dictionary with plain CAS number strings as keys.\n",
    "    \"\"\"\n",
    "    return {format_cas_number_for_matching(cas): smiles for cas, smiles in cas_to_smiles.items()}"
   ],
   "id": "e12d826660753fcc",
   "outputs": [],
   "execution_count": 38
  },
  {
   "metadata": {
    "ExecuteTime": {
     "end_time": "2024-09-12T07:47:45.552389Z",
     "start_time": "2024-09-12T07:47:45.549448Z"
    }
   },
   "cell_type": "code",
   "source": [
    "def add_smiles_columns(df, cas_to_smiles, inchikey_to_smiles, name_to_smiles):\n",
    "    \"\"\"\n",
    "    Adds SMILES columns for CAS and InChIKeys to the DataFrame.\n",
    "\n",
    "    :param df: DataFrame containing CASNO and 28 (InChIKey) columns.\n",
    "    :param cas_to_smiles: Dictionary mapping CAS numbers to SMILES strings.\n",
    "    :param inchikey_to_smiles: Dictionary mapping InChIKeys to SMILES strings.\n",
    "    :return: DataFrame with added 'cas_smiles' and 'inchikey_smiles' columns.\n",
    "    \"\"\"\n",
    "    \n",
    "    # Adjust CAS numbers dictionary to remove hyphens from keys\n",
    "    adjusted_cas_to_smiles = adjust_cas_to_smiles_keys(cas_to_smiles)\n",
    "    \n",
    "    # Add SMILES columns using the dictionaries\n",
    "    df['cas_smiles'] = df['CASNO'].map(adjusted_cas_to_smiles).fillna('N/A')\n",
    "    df['inchikey_smiles'] = df['28'].map(inchikey_to_smiles).fillna('N/A')  # Assuming column '28' is for InChIKeys\n",
    "    df['name_smiles'] = df['Name'].map(name_to_smiles).fillna('N/A')\n",
    "    return df"
   ],
   "id": "6b6146994fc77564",
   "outputs": [],
   "execution_count": 39
  },
  {
   "metadata": {
    "ExecuteTime": {
     "end_time": "2024-09-12T07:50:21.772160Z",
     "start_time": "2024-09-12T07:50:21.511682Z"
    }
   },
   "cell_type": "code",
   "source": [
    "# Add smiles to dataframe from CAS, InChiKey, and name\n",
    "df = add_smiles_columns(df, cas_to_smiles, inchikey_to_smiles, name_to_smiles)"
   ],
   "id": "14c5434e06bc94f7",
   "outputs": [],
   "execution_count": 43
  },
  {
   "metadata": {
    "ExecuteTime": {
     "end_time": "2024-09-12T07:50:23.122644Z",
     "start_time": "2024-09-12T07:50:23.113788Z"
    }
   },
   "cell_type": "code",
   "source": "df.head()",
   "id": "3338208c2cdaaada",
   "outputs": [
    {
     "data": {
      "text/plain": [
       "             CASNO                                               Name   00  \\\n",
       "NISTNO                                                                       \n",
       "1000001   85778456  3-Hydroxy-3-(2-(2-hydroxyphenyl)-2-oxoethyl)-1...  MS2   \n",
       "1000002  298217455  5-(4-Ethoxybenzylidene)-2-(4-morpholinyl)-1,3-...  MS2   \n",
       "1000003  298217466  1-(4-Nitro)-3-((2-(3-methylphenoxy)ethyl)amino...  MS2   \n",
       "1000004  298217488  1-(3-((2-(3,4-Dimethylphenoxy)ethyl)amino)-4-(...  MS2   \n",
       "1000005  298217499  2-(1-Methylhydrazino)-4,6-di(1-pyrrolidinyl)-1...  MS2   \n",
       "\n",
       "             03        04                                 05           06  \\\n",
       "NISTNO                                                                      \n",
       "1000001  [M+H]+  284.0917  resonant relative/normalized 35 %  IT/ion trap   \n",
       "1000002  [M+H]+  319.1111  resonant relative/normalized 35 %  IT/ion trap   \n",
       "1000003  [M+H]+  342.1812  resonant relative/normalized 35 %  IT/ion trap   \n",
       "1000004  [M+H]+  356.1969  resonant relative/normalized 35 %  IT/ion trap   \n",
       "1000005  [M+H]+  264.1931  resonant relative/normalized 50 %  IT/ion trap   \n",
       "\n",
       "                               07        08    09  ...   13   16  \\\n",
       "NISTNO                                             ...             \n",
       "1000001  Thermo Finnigan LCQ Deca  wideband  HPLC  ...  N/A  N/A   \n",
       "1000002  Thermo Finnigan LCQ Deca  wideband  HPLC  ...  N/A  N/A   \n",
       "1000003  Thermo Finnigan LCQ Deca  wideband  HPLC  ...  N/A  N/A   \n",
       "1000004  Thermo Finnigan LCQ Deca  wideband  HPLC  ...  N/A  N/A   \n",
       "1000005  Thermo Finnigan LCQ Deca  wideband  HPLC  ...  N/A  N/A   \n",
       "\n",
       "                          17   18   24                           28   30  \\\n",
       "NISTNO                                                                     \n",
       "1000001  mol_Vial_ID=1000001  N/A  N/A  UAEJHGCEFAFLIJ-UHFFFAOYSA-N  N/A   \n",
       "1000002  mol_Vial_ID=1000002  N/A  N/A  SYKSUKDZLCWNCF-KAMYIIQDSA-N  N/A   \n",
       "1000003  mol_Vial_ID=1000003  N/A  N/A  IYECCJLABJLPSS-UHFFFAOYSA-N  N/A   \n",
       "1000004  mol_Vial_ID=1000004  N/A  N/A  MHNGOEOPQMIYKD-UHFFFAOYSA-N  N/A   \n",
       "1000005  mol_Vial_ID=1000005  N/A  N/A  NAQUCIWMEKCLAU-UHFFFAOYSA-N  N/A   \n",
       "\n",
       "        cas_smiles                                    inchikey_smiles  \\\n",
       "NISTNO                                                                  \n",
       "1000001        N/A        C1=CC=C(C(=C1)C(=O)CC2(C3=CC=CC=C3NC2=O)O)O   \n",
       "1000002        N/A           CCOC1=CC=C(C=C1)C=C2C(=O)N=C(S2)N3CCOCC3   \n",
       "1000003        N/A  CC1=CC(=CC=C1)OCCNC2=C(C=CC(=C2)N3CCCC3)[N+](=...   \n",
       "1000004        N/A  CC1=C(C=C(C=C1)OCCNC2=C(C=CC(=C2)N3CCCC3)[N+](...   \n",
       "1000005        N/A                 CN(C1=NC(=NC(=N1)N2CCCC2)N3CCCC3)N   \n",
       "\n",
       "                                               name_smiles  \n",
       "NISTNO                                                      \n",
       "1000001        C1=CC=C(C(=C1)C(=O)CC2(C3=CC=CC=C3NC2=O)O)O  \n",
       "1000002           CCOC1=CC=C(C=C1)C=C2C(=O)N=C(S2)N3CCOCC3  \n",
       "1000003  CC1=CC(=CC=C1)OCCNC2=C(C=CC(=C2)N3CCCC3)[N+](=...  \n",
       "1000004  CC1=C(C=C(C=C1)OCCNC2=C(C=CC(=C2)N3CCCC3)[N+](...  \n",
       "1000005                 CN(C1=NC(=NC(=N1)N2CCCC2)N3CCCC3)N  \n",
       "\n",
       "[5 rows x 23 columns]"
      ],
      "text/html": [
       "<div>\n",
       "<style scoped>\n",
       "    .dataframe tbody tr th:only-of-type {\n",
       "        vertical-align: middle;\n",
       "    }\n",
       "\n",
       "    .dataframe tbody tr th {\n",
       "        vertical-align: top;\n",
       "    }\n",
       "\n",
       "    .dataframe thead th {\n",
       "        text-align: right;\n",
       "    }\n",
       "</style>\n",
       "<table border=\"1\" class=\"dataframe\">\n",
       "  <thead>\n",
       "    <tr style=\"text-align: right;\">\n",
       "      <th></th>\n",
       "      <th>CASNO</th>\n",
       "      <th>Name</th>\n",
       "      <th>00</th>\n",
       "      <th>03</th>\n",
       "      <th>04</th>\n",
       "      <th>05</th>\n",
       "      <th>06</th>\n",
       "      <th>07</th>\n",
       "      <th>08</th>\n",
       "      <th>09</th>\n",
       "      <th>...</th>\n",
       "      <th>13</th>\n",
       "      <th>16</th>\n",
       "      <th>17</th>\n",
       "      <th>18</th>\n",
       "      <th>24</th>\n",
       "      <th>28</th>\n",
       "      <th>30</th>\n",
       "      <th>cas_smiles</th>\n",
       "      <th>inchikey_smiles</th>\n",
       "      <th>name_smiles</th>\n",
       "    </tr>\n",
       "    <tr>\n",
       "      <th>NISTNO</th>\n",
       "      <th></th>\n",
       "      <th></th>\n",
       "      <th></th>\n",
       "      <th></th>\n",
       "      <th></th>\n",
       "      <th></th>\n",
       "      <th></th>\n",
       "      <th></th>\n",
       "      <th></th>\n",
       "      <th></th>\n",
       "      <th></th>\n",
       "      <th></th>\n",
       "      <th></th>\n",
       "      <th></th>\n",
       "      <th></th>\n",
       "      <th></th>\n",
       "      <th></th>\n",
       "      <th></th>\n",
       "      <th></th>\n",
       "      <th></th>\n",
       "      <th></th>\n",
       "    </tr>\n",
       "  </thead>\n",
       "  <tbody>\n",
       "    <tr>\n",
       "      <th>1000001</th>\n",
       "      <td>85778456</td>\n",
       "      <td>3-Hydroxy-3-(2-(2-hydroxyphenyl)-2-oxoethyl)-1...</td>\n",
       "      <td>MS2</td>\n",
       "      <td>[M+H]+</td>\n",
       "      <td>284.0917</td>\n",
       "      <td>resonant relative/normalized 35 %</td>\n",
       "      <td>IT/ion trap</td>\n",
       "      <td>Thermo Finnigan LCQ Deca</td>\n",
       "      <td>wideband</td>\n",
       "      <td>HPLC</td>\n",
       "      <td>...</td>\n",
       "      <td>N/A</td>\n",
       "      <td>N/A</td>\n",
       "      <td>mol_Vial_ID=1000001</td>\n",
       "      <td>N/A</td>\n",
       "      <td>N/A</td>\n",
       "      <td>UAEJHGCEFAFLIJ-UHFFFAOYSA-N</td>\n",
       "      <td>N/A</td>\n",
       "      <td>N/A</td>\n",
       "      <td>C1=CC=C(C(=C1)C(=O)CC2(C3=CC=CC=C3NC2=O)O)O</td>\n",
       "      <td>C1=CC=C(C(=C1)C(=O)CC2(C3=CC=CC=C3NC2=O)O)O</td>\n",
       "    </tr>\n",
       "    <tr>\n",
       "      <th>1000002</th>\n",
       "      <td>298217455</td>\n",
       "      <td>5-(4-Ethoxybenzylidene)-2-(4-morpholinyl)-1,3-...</td>\n",
       "      <td>MS2</td>\n",
       "      <td>[M+H]+</td>\n",
       "      <td>319.1111</td>\n",
       "      <td>resonant relative/normalized 35 %</td>\n",
       "      <td>IT/ion trap</td>\n",
       "      <td>Thermo Finnigan LCQ Deca</td>\n",
       "      <td>wideband</td>\n",
       "      <td>HPLC</td>\n",
       "      <td>...</td>\n",
       "      <td>N/A</td>\n",
       "      <td>N/A</td>\n",
       "      <td>mol_Vial_ID=1000002</td>\n",
       "      <td>N/A</td>\n",
       "      <td>N/A</td>\n",
       "      <td>SYKSUKDZLCWNCF-KAMYIIQDSA-N</td>\n",
       "      <td>N/A</td>\n",
       "      <td>N/A</td>\n",
       "      <td>CCOC1=CC=C(C=C1)C=C2C(=O)N=C(S2)N3CCOCC3</td>\n",
       "      <td>CCOC1=CC=C(C=C1)C=C2C(=O)N=C(S2)N3CCOCC3</td>\n",
       "    </tr>\n",
       "    <tr>\n",
       "      <th>1000003</th>\n",
       "      <td>298217466</td>\n",
       "      <td>1-(4-Nitro)-3-((2-(3-methylphenoxy)ethyl)amino...</td>\n",
       "      <td>MS2</td>\n",
       "      <td>[M+H]+</td>\n",
       "      <td>342.1812</td>\n",
       "      <td>resonant relative/normalized 35 %</td>\n",
       "      <td>IT/ion trap</td>\n",
       "      <td>Thermo Finnigan LCQ Deca</td>\n",
       "      <td>wideband</td>\n",
       "      <td>HPLC</td>\n",
       "      <td>...</td>\n",
       "      <td>N/A</td>\n",
       "      <td>N/A</td>\n",
       "      <td>mol_Vial_ID=1000003</td>\n",
       "      <td>N/A</td>\n",
       "      <td>N/A</td>\n",
       "      <td>IYECCJLABJLPSS-UHFFFAOYSA-N</td>\n",
       "      <td>N/A</td>\n",
       "      <td>N/A</td>\n",
       "      <td>CC1=CC(=CC=C1)OCCNC2=C(C=CC(=C2)N3CCCC3)[N+](=...</td>\n",
       "      <td>CC1=CC(=CC=C1)OCCNC2=C(C=CC(=C2)N3CCCC3)[N+](=...</td>\n",
       "    </tr>\n",
       "    <tr>\n",
       "      <th>1000004</th>\n",
       "      <td>298217488</td>\n",
       "      <td>1-(3-((2-(3,4-Dimethylphenoxy)ethyl)amino)-4-(...</td>\n",
       "      <td>MS2</td>\n",
       "      <td>[M+H]+</td>\n",
       "      <td>356.1969</td>\n",
       "      <td>resonant relative/normalized 35 %</td>\n",
       "      <td>IT/ion trap</td>\n",
       "      <td>Thermo Finnigan LCQ Deca</td>\n",
       "      <td>wideband</td>\n",
       "      <td>HPLC</td>\n",
       "      <td>...</td>\n",
       "      <td>N/A</td>\n",
       "      <td>N/A</td>\n",
       "      <td>mol_Vial_ID=1000004</td>\n",
       "      <td>N/A</td>\n",
       "      <td>N/A</td>\n",
       "      <td>MHNGOEOPQMIYKD-UHFFFAOYSA-N</td>\n",
       "      <td>N/A</td>\n",
       "      <td>N/A</td>\n",
       "      <td>CC1=C(C=C(C=C1)OCCNC2=C(C=CC(=C2)N3CCCC3)[N+](...</td>\n",
       "      <td>CC1=C(C=C(C=C1)OCCNC2=C(C=CC(=C2)N3CCCC3)[N+](...</td>\n",
       "    </tr>\n",
       "    <tr>\n",
       "      <th>1000005</th>\n",
       "      <td>298217499</td>\n",
       "      <td>2-(1-Methylhydrazino)-4,6-di(1-pyrrolidinyl)-1...</td>\n",
       "      <td>MS2</td>\n",
       "      <td>[M+H]+</td>\n",
       "      <td>264.1931</td>\n",
       "      <td>resonant relative/normalized 50 %</td>\n",
       "      <td>IT/ion trap</td>\n",
       "      <td>Thermo Finnigan LCQ Deca</td>\n",
       "      <td>wideband</td>\n",
       "      <td>HPLC</td>\n",
       "      <td>...</td>\n",
       "      <td>N/A</td>\n",
       "      <td>N/A</td>\n",
       "      <td>mol_Vial_ID=1000005</td>\n",
       "      <td>N/A</td>\n",
       "      <td>N/A</td>\n",
       "      <td>NAQUCIWMEKCLAU-UHFFFAOYSA-N</td>\n",
       "      <td>N/A</td>\n",
       "      <td>N/A</td>\n",
       "      <td>CN(C1=NC(=NC(=N1)N2CCCC2)N3CCCC3)N</td>\n",
       "      <td>CN(C1=NC(=NC(=N1)N2CCCC2)N3CCCC3)N</td>\n",
       "    </tr>\n",
       "  </tbody>\n",
       "</table>\n",
       "<p>5 rows × 23 columns</p>\n",
       "</div>"
      ]
     },
     "execution_count": 44,
     "metadata": {},
     "output_type": "execute_result"
    }
   ],
   "execution_count": 44
  },
  {
   "metadata": {
    "ExecuteTime": {
     "end_time": "2024-09-12T08:17:18.400540Z",
     "start_time": "2024-09-12T08:17:18.394580Z"
    }
   },
   "cell_type": "code",
   "source": [
    "def calculate_smiles_statistics(df):\n",
    "    \"\"\"\n",
    "    Calculate statistics on SMILES matches across 'cas_smiles', 'inchikey_smiles', and 'name_smiles'.\n",
    "    \n",
    "    :param df: DataFrame containing 'cas_smiles', 'inchikey_smiles', and 'name_smiles' columns.\n",
    "    :return: None\n",
    "    \"\"\"\n",
    "    # Add a column to check if all three SMILES columns are the same\n",
    "    df['all_match'] = (df['cas_smiles'] == df['inchikey_smiles']) & (df['cas_smiles'] == df['name_smiles'])\n",
    "\n",
    "    # Calculate matching statistics\n",
    "    total_rows = df.shape[0]\n",
    "    all_three_match = df['all_match'].sum()\n",
    "\n",
    "    # Matching statistics for pairs\n",
    "    cas_inchikey_match = (df['cas_smiles'] == df['inchikey_smiles']) & (df['cas_smiles'] != 'N/A')\n",
    "    cas_name_match = (df['cas_smiles'] == df['name_smiles']) & (df['cas_smiles'] != 'N/A')\n",
    "    inchikey_name_match = (df['inchikey_smiles'] == df['name_smiles']) & (df['inchikey_smiles'] != 'N/A')\n",
    "\n",
    "    # Counts for matches\n",
    "    cas_inchikey_match_count = cas_inchikey_match.sum()\n",
    "    cas_name_match_count = cas_name_match.sum()\n",
    "    inchikey_name_match_count = inchikey_name_match.sum()\n",
    "\n",
    "    # Count rows where only one SMILES exists and the others are N/A\n",
    "    cas_only = (df['cas_smiles'] != 'N/A') & (df['inchikey_smiles'] == 'N/A') & (df['name_smiles'] == 'N/A')\n",
    "    inchikey_only = (df['inchikey_smiles'] != 'N/A') & (df['cas_smiles'] == 'N/A') & (df['name_smiles'] == 'N/A')\n",
    "    name_only = (df['name_smiles'] != 'N/A') & (df['cas_smiles'] == 'N/A') & (df['inchikey_smiles'] == 'N/A')\n",
    "\n",
    "    # Counts for SMILES only in one column\n",
    "    cas_only_count = cas_only.sum()\n",
    "    inchikey_only_count = inchikey_only.sum()\n",
    "    name_only_count = name_only.sum()\n",
    "\n",
    "    # Count rows where all three SMILES are N/A\n",
    "    all_na = (df['cas_smiles'] == 'N/A') & (df['inchikey_smiles'] == 'N/A') & (df['name_smiles'] == 'N/A')\n",
    "    all_na_count = all_na.sum()\n",
    "    \n",
    "    # Counts where each SMILES covers the dataset (i.e., not 'N/A')\n",
    "    cas_coverage = (df['cas_smiles'] != 'N/A').sum()\n",
    "    inchikey_coverage = (df['inchikey_smiles'] != 'N/A').sum()\n",
    "    name_coverage = (df['name_smiles'] != 'N/A').sum()\n",
    "    \n",
    "    # Print statistics\n",
    "    print(f\"Total rows: {total_rows}\")\n",
    "    print(f\"Rows where all three SMILES match: {all_three_match} ({(all_three_match / total_rows) * 100:.2f}%)\")\n",
    "    print(f\"Rows where CAS and InChIKey SMILES match: {cas_inchikey_match_count} ({(cas_inchikey_match_count / total_rows) * 100:.2f}%)\")\n",
    "    print(f\"Rows where CAS and Name SMILES match: {cas_name_match_count} ({(cas_name_match_count / total_rows) * 100:.2f}%)\")\n",
    "    print(f\"Rows where InChIKey and Name SMILES match: {inchikey_name_match_count} ({(inchikey_name_match_count / total_rows) * 100:.2f}%)\")\n",
    "    print(f\"Rows where only CAS SMILES exists: {cas_only_count} ({(cas_only_count / total_rows) * 100:.2f}%)\")\n",
    "    print(f\"Rows where only InChIKey SMILES exists: {inchikey_only_count} ({(inchikey_only_count / total_rows) * 100:.2f}%)\")\n",
    "    print(f\"Rows where only Name SMILES exists: {name_only_count} ({(name_only_count / total_rows) * 100:.2f}%)\")\n",
    "    print(f\"Rows where all three SMILES are N/A: {all_na_count} ({(all_na_count / total_rows) * 100:.2f}%)\")\n",
    "    print(f\"Rows with CAS SMILES coverage: {cas_coverage} ({(cas_coverage / total_rows) * 100:.2f}%)\")\n",
    "    print(f\"Rows with InChIKey SMILES coverage: {inchikey_coverage} ({(inchikey_coverage / total_rows) * 100:.2f}%)\")\n",
    "    print(f\"Rows with Name SMILES coverage: {name_coverage} ({(name_coverage / total_rows) * 100:.2f}%)\")\n",
    "\n",
    "\n"
   ],
   "id": "968d97bc0895d032",
   "outputs": [],
   "execution_count": 51
  },
  {
   "metadata": {
    "ExecuteTime": {
     "end_time": "2024-09-12T08:17:22.237355Z",
     "start_time": "2024-09-12T08:17:21.731552Z"
    }
   },
   "cell_type": "code",
   "source": "calculate_smiles_statistics(df)\n",
   "id": "bfa29149a38e0c15",
   "outputs": [
    {
     "name": "stdout",
     "output_type": "stream",
     "text": [
      "Total rows: 574826\n",
      "Rows where all three SMILES match: 387787 (67.46%)\n",
      "Rows where CAS and InChIKey SMILES match: 439382 (76.44%)\n",
      "Rows where CAS and Name SMILES match: 403666 (70.22%)\n",
      "Rows where InChIKey and Name SMILES match: 430724 (74.93%)\n",
      "Rows where only CAS SMILES exists: 2739 (0.48%)\n",
      "Rows where only InChIKey SMILES exists: 28290 (4.92%)\n",
      "Rows where only Name SMILES exists: 1603 (0.28%)\n",
      "Rows where all three SMILES are N/A: 11365 (1.98%)\n",
      "Rows with CAS SMILES coverage: 478692 (83.28%)\n",
      "Rows with InChIKey SMILES coverage: 543205 (94.50%)\n",
      "Rows with Name SMILES coverage: 470959 (81.93%)\n"
     ]
    }
   ],
   "execution_count": 52
  },
  {
   "metadata": {},
   "cell_type": "markdown",
   "source": "We can see even though, name has highest coverage, but many of them were invalid ",
   "id": "27fa2218b11f3993"
  },
  {
   "metadata": {
    "ExecuteTime": {
     "end_time": "2024-09-12T09:48:55.832320Z",
     "start_time": "2024-09-12T09:48:55.827813Z"
    }
   },
   "cell_type": "code",
   "source": [
    "def determine_general_smiles(row):\n",
    "    \"\"\"\n",
    "    Determine the general SMILES for a row based on specific conditions:\n",
    "    1. If all three SMILES agree and are not 'N/A', use that SMILES.\n",
    "    2. If two SMILES agree and the third is 'N/A', use the matching SMILES.\n",
    "    3. If only one SMILES exists and the others are 'N/A', use the existing SMILES.\n",
    "    4. Otherwise, return 'N/A'.\n",
    "    \n",
    "    :param row: A row of the DataFrame containing 'cas_smiles', 'inchikey_smiles', and 'name_smiles'.\n",
    "    :return: The general SMILES string or 'N/A' if conditions are not met.\n",
    "    \"\"\"\n",
    "    cas = row['cas_smiles']\n",
    "    inchikey = row['inchikey_smiles']\n",
    "    name = row['name_smiles']\n",
    "\n",
    "    # Case 1: All three SMILES are the same and not 'N/A'\n",
    "    if cas == inchikey == name and cas != 'N/A':\n",
    "        return cas\n",
    "\n",
    "    # Case 2: Two SMILES agree and the third is 'N/A'\n",
    "    if cas == inchikey and cas != 'N/A' and name == 'N/A':\n",
    "        return cas\n",
    "    if cas == name and cas != 'N/A' and inchikey == 'N/A':\n",
    "        return cas\n",
    "    if inchikey == name and inchikey != 'N/A' and cas == 'N/A':\n",
    "        return inchikey\n",
    "\n",
    "    # Case 3: Only one SMILES exists and the others are 'N/A'\n",
    "    if cas != 'N/A' and inchikey == 'N/A' and name == 'N/A':\n",
    "        return cas\n",
    "    if inchikey != 'N/A' and cas == 'N/A' and name == 'N/A':\n",
    "        return inchikey\n",
    "    if name != 'N/A' and cas == 'N/A' and inchikey == 'N/A':\n",
    "        return name\n",
    "\n",
    "    # Case 4: No agreement or multiple differing values\n",
    "    return 'N/A'\n",
    "\n",
    "def add_general_smiles_column(df):\n",
    "    \"\"\"\n",
    "    Add a 'general_smiles' column to the DataFrame based on the SMILES agreement rules.\n",
    "    \n",
    "    :param df: DataFrame containing 'cas_smiles', 'inchikey_smiles', and 'name_smiles' columns.\n",
    "    :return: DataFrame with an added 'general_smiles' column.\n",
    "    \"\"\"\n",
    "    df['general_smiles'] = df.apply(determine_general_smiles, axis=1)\n",
    "    return df"
   ],
   "id": "c33a4b2fa45446fc",
   "outputs": [],
   "execution_count": 61
  },
  {
   "metadata": {
    "ExecuteTime": {
     "end_time": "2024-09-12T09:49:02.455627Z",
     "start_time": "2024-09-12T09:48:58.587926Z"
    }
   },
   "cell_type": "code",
   "source": [
    "# Generalize smiles assignment from all three cas, InChiKey, and name on condition\n",
    "df = add_general_smiles_column(df)"
   ],
   "id": "e70d2e88d4c78395",
   "outputs": [],
   "execution_count": 62
  },
  {
   "metadata": {
    "ExecuteTime": {
     "end_time": "2024-09-12T09:36:21.610066Z",
     "start_time": "2024-09-12T09:36:21.600970Z"
    }
   },
   "cell_type": "code",
   "source": "df.head()",
   "id": "d2aba0fbd541de77",
   "outputs": [
    {
     "data": {
      "text/plain": [
       "             CASNO                                               Name   00  \\\n",
       "NISTNO                                                                       \n",
       "1000001   85778456  3-Hydroxy-3-(2-(2-hydroxyphenyl)-2-oxoethyl)-1...  MS2   \n",
       "1000002  298217455  5-(4-Ethoxybenzylidene)-2-(4-morpholinyl)-1,3-...  MS2   \n",
       "1000003  298217466  1-(4-Nitro)-3-((2-(3-methylphenoxy)ethyl)amino...  MS2   \n",
       "1000004  298217488  1-(3-((2-(3,4-Dimethylphenoxy)ethyl)amino)-4-(...  MS2   \n",
       "1000005  298217499  2-(1-Methylhydrazino)-4,6-di(1-pyrrolidinyl)-1...  MS2   \n",
       "\n",
       "             03        04                                 05           06  \\\n",
       "NISTNO                                                                      \n",
       "1000001  [M+H]+  284.0917  resonant relative/normalized 35 %  IT/ion trap   \n",
       "1000002  [M+H]+  319.1111  resonant relative/normalized 35 %  IT/ion trap   \n",
       "1000003  [M+H]+  342.1812  resonant relative/normalized 35 %  IT/ion trap   \n",
       "1000004  [M+H]+  356.1969  resonant relative/normalized 35 %  IT/ion trap   \n",
       "1000005  [M+H]+  264.1931  resonant relative/normalized 50 %  IT/ion trap   \n",
       "\n",
       "                               07        08    09  ...                   17  \\\n",
       "NISTNO                                             ...                        \n",
       "1000001  Thermo Finnigan LCQ Deca  wideband  HPLC  ...  mol_Vial_ID=1000001   \n",
       "1000002  Thermo Finnigan LCQ Deca  wideband  HPLC  ...  mol_Vial_ID=1000002   \n",
       "1000003  Thermo Finnigan LCQ Deca  wideband  HPLC  ...  mol_Vial_ID=1000003   \n",
       "1000004  Thermo Finnigan LCQ Deca  wideband  HPLC  ...  mol_Vial_ID=1000004   \n",
       "1000005  Thermo Finnigan LCQ Deca  wideband  HPLC  ...  mol_Vial_ID=1000005   \n",
       "\n",
       "          18   24                           28   30 cas_smiles  \\\n",
       "NISTNO                                                           \n",
       "1000001  N/A  N/A  UAEJHGCEFAFLIJ-UHFFFAOYSA-N  N/A        N/A   \n",
       "1000002  N/A  N/A  SYKSUKDZLCWNCF-KAMYIIQDSA-N  N/A        N/A   \n",
       "1000003  N/A  N/A  IYECCJLABJLPSS-UHFFFAOYSA-N  N/A        N/A   \n",
       "1000004  N/A  N/A  MHNGOEOPQMIYKD-UHFFFAOYSA-N  N/A        N/A   \n",
       "1000005  N/A  N/A  NAQUCIWMEKCLAU-UHFFFAOYSA-N  N/A        N/A   \n",
       "\n",
       "                                           inchikey_smiles  \\\n",
       "NISTNO                                                       \n",
       "1000001        C1=CC=C(C(=C1)C(=O)CC2(C3=CC=CC=C3NC2=O)O)O   \n",
       "1000002           CCOC1=CC=C(C=C1)C=C2C(=O)N=C(S2)N3CCOCC3   \n",
       "1000003  CC1=CC(=CC=C1)OCCNC2=C(C=CC(=C2)N3CCCC3)[N+](=...   \n",
       "1000004  CC1=C(C=C(C=C1)OCCNC2=C(C=CC(=C2)N3CCCC3)[N+](...   \n",
       "1000005                 CN(C1=NC(=NC(=N1)N2CCCC2)N3CCCC3)N   \n",
       "\n",
       "                                               name_smiles all_match  \\\n",
       "NISTNO                                                                 \n",
       "1000001        C1=CC=C(C(=C1)C(=O)CC2(C3=CC=CC=C3NC2=O)O)O     False   \n",
       "1000002           CCOC1=CC=C(C=C1)C=C2C(=O)N=C(S2)N3CCOCC3     False   \n",
       "1000003  CC1=CC(=CC=C1)OCCNC2=C(C=CC(=C2)N3CCCC3)[N+](=...     False   \n",
       "1000004  CC1=C(C=C(C=C1)OCCNC2=C(C=CC(=C2)N3CCCC3)[N+](...     False   \n",
       "1000005                 CN(C1=NC(=NC(=N1)N2CCCC2)N3CCCC3)N     False   \n",
       "\n",
       "                                            general_smiles  \n",
       "NISTNO                                                      \n",
       "1000001        C1=CC=C(C(=C1)C(=O)CC2(C3=CC=CC=C3NC2=O)O)O  \n",
       "1000002           CCOC1=CC=C(C=C1)C=C2C(=O)N=C(S2)N3CCOCC3  \n",
       "1000003  CC1=CC(=CC=C1)OCCNC2=C(C=CC(=C2)N3CCCC3)[N+](=...  \n",
       "1000004  CC1=C(C=C(C=C1)OCCNC2=C(C=CC(=C2)N3CCCC3)[N+](...  \n",
       "1000005                 CN(C1=NC(=NC(=N1)N2CCCC2)N3CCCC3)N  \n",
       "\n",
       "[5 rows x 25 columns]"
      ],
      "text/html": [
       "<div>\n",
       "<style scoped>\n",
       "    .dataframe tbody tr th:only-of-type {\n",
       "        vertical-align: middle;\n",
       "    }\n",
       "\n",
       "    .dataframe tbody tr th {\n",
       "        vertical-align: top;\n",
       "    }\n",
       "\n",
       "    .dataframe thead th {\n",
       "        text-align: right;\n",
       "    }\n",
       "</style>\n",
       "<table border=\"1\" class=\"dataframe\">\n",
       "  <thead>\n",
       "    <tr style=\"text-align: right;\">\n",
       "      <th></th>\n",
       "      <th>CASNO</th>\n",
       "      <th>Name</th>\n",
       "      <th>00</th>\n",
       "      <th>03</th>\n",
       "      <th>04</th>\n",
       "      <th>05</th>\n",
       "      <th>06</th>\n",
       "      <th>07</th>\n",
       "      <th>08</th>\n",
       "      <th>09</th>\n",
       "      <th>...</th>\n",
       "      <th>17</th>\n",
       "      <th>18</th>\n",
       "      <th>24</th>\n",
       "      <th>28</th>\n",
       "      <th>30</th>\n",
       "      <th>cas_smiles</th>\n",
       "      <th>inchikey_smiles</th>\n",
       "      <th>name_smiles</th>\n",
       "      <th>all_match</th>\n",
       "      <th>general_smiles</th>\n",
       "    </tr>\n",
       "    <tr>\n",
       "      <th>NISTNO</th>\n",
       "      <th></th>\n",
       "      <th></th>\n",
       "      <th></th>\n",
       "      <th></th>\n",
       "      <th></th>\n",
       "      <th></th>\n",
       "      <th></th>\n",
       "      <th></th>\n",
       "      <th></th>\n",
       "      <th></th>\n",
       "      <th></th>\n",
       "      <th></th>\n",
       "      <th></th>\n",
       "      <th></th>\n",
       "      <th></th>\n",
       "      <th></th>\n",
       "      <th></th>\n",
       "      <th></th>\n",
       "      <th></th>\n",
       "      <th></th>\n",
       "      <th></th>\n",
       "    </tr>\n",
       "  </thead>\n",
       "  <tbody>\n",
       "    <tr>\n",
       "      <th>1000001</th>\n",
       "      <td>85778456</td>\n",
       "      <td>3-Hydroxy-3-(2-(2-hydroxyphenyl)-2-oxoethyl)-1...</td>\n",
       "      <td>MS2</td>\n",
       "      <td>[M+H]+</td>\n",
       "      <td>284.0917</td>\n",
       "      <td>resonant relative/normalized 35 %</td>\n",
       "      <td>IT/ion trap</td>\n",
       "      <td>Thermo Finnigan LCQ Deca</td>\n",
       "      <td>wideband</td>\n",
       "      <td>HPLC</td>\n",
       "      <td>...</td>\n",
       "      <td>mol_Vial_ID=1000001</td>\n",
       "      <td>N/A</td>\n",
       "      <td>N/A</td>\n",
       "      <td>UAEJHGCEFAFLIJ-UHFFFAOYSA-N</td>\n",
       "      <td>N/A</td>\n",
       "      <td>N/A</td>\n",
       "      <td>C1=CC=C(C(=C1)C(=O)CC2(C3=CC=CC=C3NC2=O)O)O</td>\n",
       "      <td>C1=CC=C(C(=C1)C(=O)CC2(C3=CC=CC=C3NC2=O)O)O</td>\n",
       "      <td>False</td>\n",
       "      <td>C1=CC=C(C(=C1)C(=O)CC2(C3=CC=CC=C3NC2=O)O)O</td>\n",
       "    </tr>\n",
       "    <tr>\n",
       "      <th>1000002</th>\n",
       "      <td>298217455</td>\n",
       "      <td>5-(4-Ethoxybenzylidene)-2-(4-morpholinyl)-1,3-...</td>\n",
       "      <td>MS2</td>\n",
       "      <td>[M+H]+</td>\n",
       "      <td>319.1111</td>\n",
       "      <td>resonant relative/normalized 35 %</td>\n",
       "      <td>IT/ion trap</td>\n",
       "      <td>Thermo Finnigan LCQ Deca</td>\n",
       "      <td>wideband</td>\n",
       "      <td>HPLC</td>\n",
       "      <td>...</td>\n",
       "      <td>mol_Vial_ID=1000002</td>\n",
       "      <td>N/A</td>\n",
       "      <td>N/A</td>\n",
       "      <td>SYKSUKDZLCWNCF-KAMYIIQDSA-N</td>\n",
       "      <td>N/A</td>\n",
       "      <td>N/A</td>\n",
       "      <td>CCOC1=CC=C(C=C1)C=C2C(=O)N=C(S2)N3CCOCC3</td>\n",
       "      <td>CCOC1=CC=C(C=C1)C=C2C(=O)N=C(S2)N3CCOCC3</td>\n",
       "      <td>False</td>\n",
       "      <td>CCOC1=CC=C(C=C1)C=C2C(=O)N=C(S2)N3CCOCC3</td>\n",
       "    </tr>\n",
       "    <tr>\n",
       "      <th>1000003</th>\n",
       "      <td>298217466</td>\n",
       "      <td>1-(4-Nitro)-3-((2-(3-methylphenoxy)ethyl)amino...</td>\n",
       "      <td>MS2</td>\n",
       "      <td>[M+H]+</td>\n",
       "      <td>342.1812</td>\n",
       "      <td>resonant relative/normalized 35 %</td>\n",
       "      <td>IT/ion trap</td>\n",
       "      <td>Thermo Finnigan LCQ Deca</td>\n",
       "      <td>wideband</td>\n",
       "      <td>HPLC</td>\n",
       "      <td>...</td>\n",
       "      <td>mol_Vial_ID=1000003</td>\n",
       "      <td>N/A</td>\n",
       "      <td>N/A</td>\n",
       "      <td>IYECCJLABJLPSS-UHFFFAOYSA-N</td>\n",
       "      <td>N/A</td>\n",
       "      <td>N/A</td>\n",
       "      <td>CC1=CC(=CC=C1)OCCNC2=C(C=CC(=C2)N3CCCC3)[N+](=...</td>\n",
       "      <td>CC1=CC(=CC=C1)OCCNC2=C(C=CC(=C2)N3CCCC3)[N+](=...</td>\n",
       "      <td>False</td>\n",
       "      <td>CC1=CC(=CC=C1)OCCNC2=C(C=CC(=C2)N3CCCC3)[N+](=...</td>\n",
       "    </tr>\n",
       "    <tr>\n",
       "      <th>1000004</th>\n",
       "      <td>298217488</td>\n",
       "      <td>1-(3-((2-(3,4-Dimethylphenoxy)ethyl)amino)-4-(...</td>\n",
       "      <td>MS2</td>\n",
       "      <td>[M+H]+</td>\n",
       "      <td>356.1969</td>\n",
       "      <td>resonant relative/normalized 35 %</td>\n",
       "      <td>IT/ion trap</td>\n",
       "      <td>Thermo Finnigan LCQ Deca</td>\n",
       "      <td>wideband</td>\n",
       "      <td>HPLC</td>\n",
       "      <td>...</td>\n",
       "      <td>mol_Vial_ID=1000004</td>\n",
       "      <td>N/A</td>\n",
       "      <td>N/A</td>\n",
       "      <td>MHNGOEOPQMIYKD-UHFFFAOYSA-N</td>\n",
       "      <td>N/A</td>\n",
       "      <td>N/A</td>\n",
       "      <td>CC1=C(C=C(C=C1)OCCNC2=C(C=CC(=C2)N3CCCC3)[N+](...</td>\n",
       "      <td>CC1=C(C=C(C=C1)OCCNC2=C(C=CC(=C2)N3CCCC3)[N+](...</td>\n",
       "      <td>False</td>\n",
       "      <td>CC1=C(C=C(C=C1)OCCNC2=C(C=CC(=C2)N3CCCC3)[N+](...</td>\n",
       "    </tr>\n",
       "    <tr>\n",
       "      <th>1000005</th>\n",
       "      <td>298217499</td>\n",
       "      <td>2-(1-Methylhydrazino)-4,6-di(1-pyrrolidinyl)-1...</td>\n",
       "      <td>MS2</td>\n",
       "      <td>[M+H]+</td>\n",
       "      <td>264.1931</td>\n",
       "      <td>resonant relative/normalized 50 %</td>\n",
       "      <td>IT/ion trap</td>\n",
       "      <td>Thermo Finnigan LCQ Deca</td>\n",
       "      <td>wideband</td>\n",
       "      <td>HPLC</td>\n",
       "      <td>...</td>\n",
       "      <td>mol_Vial_ID=1000005</td>\n",
       "      <td>N/A</td>\n",
       "      <td>N/A</td>\n",
       "      <td>NAQUCIWMEKCLAU-UHFFFAOYSA-N</td>\n",
       "      <td>N/A</td>\n",
       "      <td>N/A</td>\n",
       "      <td>CN(C1=NC(=NC(=N1)N2CCCC2)N3CCCC3)N</td>\n",
       "      <td>CN(C1=NC(=NC(=N1)N2CCCC2)N3CCCC3)N</td>\n",
       "      <td>False</td>\n",
       "      <td>CN(C1=NC(=NC(=N1)N2CCCC2)N3CCCC3)N</td>\n",
       "    </tr>\n",
       "  </tbody>\n",
       "</table>\n",
       "<p>5 rows × 25 columns</p>\n",
       "</div>"
      ]
     },
     "execution_count": 56,
     "metadata": {},
     "output_type": "execute_result"
    }
   ],
   "execution_count": 56
  },
  {
   "metadata": {
    "ExecuteTime": {
     "end_time": "2024-09-12T09:49:06.533984Z",
     "start_time": "2024-09-12T09:49:06.506482Z"
    }
   },
   "cell_type": "code",
   "source": [
    "# We can see all spectras were annotated\n",
    "len(df['general_smiles'] != 'N/A')"
   ],
   "id": "7bb2d8bc0a3ae24f",
   "outputs": [
    {
     "data": {
      "text/plain": [
       "574826"
      ]
     },
     "execution_count": 63,
     "metadata": {},
     "output_type": "execute_result"
    }
   ],
   "execution_count": 63
  },
  {
   "metadata": {},
   "cell_type": "markdown",
   "source": "# SAVE TO MSP",
   "id": "684b250492ed4436"
  },
  {
   "metadata": {
    "ExecuteTime": {
     "end_time": "2024-09-12T10:01:01.042836Z",
     "start_time": "2024-09-12T10:01:01.039807Z"
    }
   },
   "cell_type": "code",
   "source": "df.columns",
   "id": "326c283afc2fe623",
   "outputs": [
    {
     "data": {
      "text/plain": [
       "Index(['CASNO', 'Name', '00', '03', '04', '05', '06', '07', '08', '09', '10',\n",
       "       '11', '12', '13', '16', '17', '18', '24', '28', '30', 'cas_smiles',\n",
       "       'inchikey_smiles', 'name_smiles', 'all_match', 'general_smiles'],\n",
       "      dtype='object')"
      ]
     },
     "execution_count": 71,
     "metadata": {},
     "output_type": "execute_result"
    }
   ],
   "execution_count": 71
  },
  {
   "metadata": {
    "ExecuteTime": {
     "end_time": "2024-09-12T11:50:46.721603Z",
     "start_time": "2024-09-12T11:50:46.719083Z"
    }
   },
   "cell_type": "code",
   "source": "nist_dataset_ms = load_from_msp(FILE_PATH_MS, metadata_harmonization=True)",
   "id": "d06832e3b90414b8",
   "outputs": [],
   "execution_count": 108
  },
  {
   "metadata": {
    "ExecuteTime": {
     "end_time": "2024-09-12T11:56:05.002836Z",
     "start_time": "2024-09-12T11:50:48.371829Z"
    }
   },
   "cell_type": "code",
   "source": [
    "nist_dataset_ms_list = []\n",
    "for obj in nist_dataset_ms:\n",
    "    nist_dataset_ms_list.append(obj)"
   ],
   "id": "e67b9cfc394fe83b",
   "outputs": [],
   "execution_count": 109
  },
  {
   "metadata": {
    "ExecuteTime": {
     "end_time": "2024-09-12T11:56:29.355537Z",
     "start_time": "2024-09-12T11:56:29.352617Z"
    }
   },
   "cell_type": "code",
   "source": [
    "synon_mapping = {\n",
    "    '00': 'fragmentation_level',\n",
    "    '03': 'adduct',\n",
    "    '04': 'mass',  # Unclear, keep name as 'mass'\n",
    "    '05': 'collision_energy',\n",
    "    '06': 'instrument_type',\n",
    "    '07': 'instrument_model',\n",
    "    '08': 'ion_acquisition_mode',\n",
    "    '09': 'chromatography_setup',\n",
    "    '10': 'ionization_mode',\n",
    "    '11': 'polarity',\n",
    "    '12': 'collision_gas',\n",
    "    '13': 'collision_cell_pressure',\n",
    "    '16': 'unknown_16',\n",
    "    '17': 'additional_info',\n",
    "    '18': 'unknown_18',\n",
    "    '24': 'unknown_24',\n",
    "    '28': 'inchikey',\n",
    "    '30': 'transition_monitoring',\n",
    "    'general_smiles': 'smiles',\n",
    "}\n"
   ],
   "id": "ba5445616642880d",
   "outputs": [],
   "execution_count": 111
  },
  {
   "metadata": {
    "ExecuteTime": {
     "end_time": "2024-09-12T11:38:42.288844Z",
     "start_time": "2024-09-12T11:38:42.286942Z"
    }
   },
   "cell_type": "code",
   "source": "# test_spectra = nist_dataset_ms_list[10:20]",
   "id": "66233e5cff9b19cb",
   "outputs": [],
   "execution_count": 99
  },
  {
   "metadata": {
    "ExecuteTime": {
     "end_time": "2024-09-12T11:56:36.675207Z",
     "start_time": "2024-09-12T11:56:36.548999Z"
    }
   },
   "cell_type": "code",
   "source": [
    "# Rename DataFrame columns using the provided mapping\n",
    "df = df.rename(columns=synon_mapping)"
   ],
   "id": "68b215d1b73d74c5",
   "outputs": [],
   "execution_count": 112
  },
  {
   "metadata": {
    "ExecuteTime": {
     "end_time": "2024-09-12T11:56:41.645054Z",
     "start_time": "2024-09-12T11:56:41.643089Z"
    }
   },
   "cell_type": "code",
   "source": "DATAFRAME_SYNON_PATH = \"../data/NIST/dataframe_synon.csv\"",
   "id": "bc237cfd6214316",
   "outputs": [],
   "execution_count": 113
  },
  {
   "metadata": {
    "ExecuteTime": {
     "end_time": "2024-09-12T11:57:14.656554Z",
     "start_time": "2024-09-12T11:57:09.347697Z"
    }
   },
   "cell_type": "code",
   "source": "# df.to_csv(DATAFRAME_SYNON_PATH, index=False)",
   "id": "92bc48f97c637ff9",
   "outputs": [],
   "execution_count": 114
  },
  {
   "metadata": {
    "ExecuteTime": {
     "end_time": "2024-09-12T14:55:00.997380Z",
     "start_time": "2024-09-12T14:54:57.858200Z"
    }
   },
   "cell_type": "code",
   "source": "df = pd.read_csv(DATAFRAME_SYNON_PATH, low_memory=False)",
   "id": "9da114bfe28d1400",
   "outputs": [],
   "execution_count": 129
  },
  {
   "metadata": {
    "ExecuteTime": {
     "end_time": "2024-09-12T14:55:03.737047Z",
     "start_time": "2024-09-12T14:55:03.731635Z"
    }
   },
   "cell_type": "code",
   "outputs": [
    {
     "name": "stdout",
     "output_type": "stream",
     "text": [
      "       CASNO                                               Name  \\\n",
      "0   85778456  3-Hydroxy-3-(2-(2-hydroxyphenyl)-2-oxoethyl)-1...   \n",
      "1  298217455  5-(4-Ethoxybenzylidene)-2-(4-morpholinyl)-1,3-...   \n",
      "2  298217466  1-(4-Nitro)-3-((2-(3-methylphenoxy)ethyl)amino...   \n",
      "3  298217488  1-(3-((2-(3,4-Dimethylphenoxy)ethyl)amino)-4-(...   \n",
      "4  298217499  2-(1-Methylhydrazino)-4,6-di(1-pyrrolidinyl)-1...   \n",
      "\n",
      "  fragmentation_level  adduct      mass                   collision_energy  \\\n",
      "0                 MS2  [M+H]+  284.0917  resonant relative/normalized 35 %   \n",
      "1                 MS2  [M+H]+  319.1111  resonant relative/normalized 35 %   \n",
      "2                 MS2  [M+H]+  342.1812  resonant relative/normalized 35 %   \n",
      "3                 MS2  [M+H]+  356.1969  resonant relative/normalized 35 %   \n",
      "4                 MS2  [M+H]+  264.1931  resonant relative/normalized 50 %   \n",
      "\n",
      "  instrument_type          instrument_model ion_acquisition_mode  \\\n",
      "0     IT/ion trap  Thermo Finnigan LCQ Deca             wideband   \n",
      "1     IT/ion trap  Thermo Finnigan LCQ Deca             wideband   \n",
      "2     IT/ion trap  Thermo Finnigan LCQ Deca             wideband   \n",
      "3     IT/ion trap  Thermo Finnigan LCQ Deca             wideband   \n",
      "4     IT/ion trap  Thermo Finnigan LCQ Deca             wideband   \n",
      "\n",
      "  chromatography_setup  ...      additional_info unknown_18 unknown_24  \\\n",
      "0                 HPLC  ...  mol_Vial_ID=1000001        NaN        NaN   \n",
      "1                 HPLC  ...  mol_Vial_ID=1000002        NaN        NaN   \n",
      "2                 HPLC  ...  mol_Vial_ID=1000003        NaN        NaN   \n",
      "3                 HPLC  ...  mol_Vial_ID=1000004        NaN        NaN   \n",
      "4                 HPLC  ...  mol_Vial_ID=1000005        NaN        NaN   \n",
      "\n",
      "                      inchikey transition_monitoring cas_smiles  \\\n",
      "0  UAEJHGCEFAFLIJ-UHFFFAOYSA-N                   NaN        NaN   \n",
      "1  SYKSUKDZLCWNCF-KAMYIIQDSA-N                   NaN        NaN   \n",
      "2  IYECCJLABJLPSS-UHFFFAOYSA-N                   NaN        NaN   \n",
      "3  MHNGOEOPQMIYKD-UHFFFAOYSA-N                   NaN        NaN   \n",
      "4  NAQUCIWMEKCLAU-UHFFFAOYSA-N                   NaN        NaN   \n",
      "\n",
      "                                     inchikey_smiles  \\\n",
      "0        C1=CC=C(C(=C1)C(=O)CC2(C3=CC=CC=C3NC2=O)O)O   \n",
      "1           CCOC1=CC=C(C=C1)C=C2C(=O)N=C(S2)N3CCOCC3   \n",
      "2  CC1=CC(=CC=C1)OCCNC2=C(C=CC(=C2)N3CCCC3)[N+](=...   \n",
      "3  CC1=C(C=C(C=C1)OCCNC2=C(C=CC(=C2)N3CCCC3)[N+](...   \n",
      "4                 CN(C1=NC(=NC(=N1)N2CCCC2)N3CCCC3)N   \n",
      "\n",
      "                                         name_smiles all_match  \\\n",
      "0        C1=CC=C(C(=C1)C(=O)CC2(C3=CC=CC=C3NC2=O)O)O     False   \n",
      "1           CCOC1=CC=C(C=C1)C=C2C(=O)N=C(S2)N3CCOCC3     False   \n",
      "2  CC1=CC(=CC=C1)OCCNC2=C(C=CC(=C2)N3CCCC3)[N+](=...     False   \n",
      "3  CC1=C(C=C(C=C1)OCCNC2=C(C=CC(=C2)N3CCCC3)[N+](...     False   \n",
      "4                 CN(C1=NC(=NC(=N1)N2CCCC2)N3CCCC3)N     False   \n",
      "\n",
      "                                              smiles  \n",
      "0        C1=CC=C(C(=C1)C(=O)CC2(C3=CC=CC=C3NC2=O)O)O  \n",
      "1           CCOC1=CC=C(C=C1)C=C2C(=O)N=C(S2)N3CCOCC3  \n",
      "2  CC1=CC(=CC=C1)OCCNC2=C(C=CC(=C2)N3CCCC3)[N+](=...  \n",
      "3  CC1=C(C=C(C=C1)OCCNC2=C(C=CC(=C2)N3CCCC3)[N+](...  \n",
      "4                 CN(C1=NC(=NC(=N1)N2CCCC2)N3CCCC3)N  \n",
      "\n",
      "[5 rows x 25 columns]\n"
     ]
    }
   ],
   "execution_count": 130,
   "source": "print(df.head())",
   "id": "7b23e072159cfb46"
  },
  {
   "metadata": {
    "ExecuteTime": {
     "end_time": "2024-09-12T11:57:41.150803Z",
     "start_time": "2024-09-12T11:57:41.147171Z"
    }
   },
   "cell_type": "code",
   "source": [
    "def update_spectra_with_dataframe(spectra_list, df, synon_mapping):\n",
    "    \"\"\"\n",
    "    Update each spectrum in the spectra list with new attributes from the DataFrame.\n",
    "    \n",
    "    :param spectra_list: List of spectra objects to update.\n",
    "    :param df: DataFrame containing processed Synon attributes with descriptive names.\n",
    "    :param synon_mapping: Dictionary mapping Synon attribute codes to descriptive names.\n",
    "    \"\"\"\n",
    "    for spectrum in spectra_list:\n",
    "        nistno = spectrum.get('nistno')  # Use the spectrum's method to access metadata\n",
    "        if nistno and nistno in df.index:\n",
    "            # Get the corresponding row from the DataFrame\n",
    "            row = df.loc[nistno]\n",
    "\n",
    "            # Remove the existing 'synon' attribute\n",
    "            spectrum.metadata.pop('synon', None)\n",
    "\n",
    "            # Add only the attributes specified in synon_mapping\n",
    "            for synon_key, descriptive_name in synon_mapping.items():\n",
    "                if descriptive_name in row and pd.notna(row[descriptive_name]):\n",
    "                    # Use the set method of the spectrum to add new attributes\n",
    "                    spectrum.set(descriptive_name.lower(), row[descriptive_name])\n"
   ],
   "id": "408191ad3bb252bf",
   "outputs": [],
   "execution_count": 115
  },
  {
   "metadata": {
    "ExecuteTime": {
     "end_time": "2024-09-12T12:13:55.046034Z",
     "start_time": "2024-09-12T12:13:55.043906Z"
    }
   },
   "cell_type": "code",
   "source": [
    "# Update all spectra in the list\n",
    "# update_spectra_with_dataframe(nist_dataset_ms_list, df, synon_mapping)\n",
    "\n",
    "# Save the updated spectra to an MSP file\n",
    "SAVE_PATH_MS = '../data/NIST/parsed_nist_msms.msp'\n",
    "# save_as_msp(nist_dataset_ms_list, SAVE_PATH_MS)"
   ],
   "id": "4b2244fbfbbe3152",
   "outputs": [],
   "execution_count": 118
  },
  {
   "metadata": {
    "ExecuteTime": {
     "end_time": "2024-09-12T12:21:05.975734Z",
     "start_time": "2024-09-12T12:13:57.904799Z"
    }
   },
   "cell_type": "code",
   "source": [
    "# Reload the saved MSP file to validate\n",
    "reloaded_spectra = load_from_msp(SAVE_PATH_MS, metadata_harmonization=True)\n",
    "\n",
    "# Convert reloaded spectra to a list for validation\n",
    "reloaded_spectra_list = [spectrum for spectrum in reloaded_spectra]\n",
    "\n",
    "# Validate by printing the metadata of some reloaded spectra\n",
    "print(\"Validated Reloaded Spectra Metadata (First 5):\")\n",
    "for spectrum in reloaded_spectra_list[:5]:\n",
    "    print(spectrum.metadata_dict())"
   ],
   "id": "69618a0f7565b8bb",
   "outputs": [
    {
     "name": "stdout",
     "output_type": "stream",
     "text": [
      "Validated Reloaded Spectra Metadata (First 5):\n",
      "{'synon': '$:28UAEJHGCEFAFLIJ-UHFFFAOYSA-N', 'formula': 'C16H13NO4', 'casno': '85778456', 'nistno': '1000001', 'comment': 'Provided by Thermo Finnigan, measured by John Halket, Centre for Chemical Sciences, University of London', 'compound_name': '3-Hydroxy-3-(2-(2-hydroxyphenyl)-2-oxoethyl)-1,3-dihydro-2H-indol-2-one', 'nominal_mass': '283.084457', 'precursor_mz': 284.0917, 'fragmentation_level': 'MS2', 'adduct': '[M+H]+', 'mass': '284.0917', 'collision_energy': 'resonant relative/normalized 35 %', 'instrument_type': 'IT/ion trap', 'instrument_model': 'Thermo Finnigan LCQ Deca', 'ion_acquisition_mode': 'wideband', 'chromatography_setup': 'HPLC', 'ionization_mode': 'ESI', 'polarity': 'P', 'additional_info': 'mol_Vial_ID=1000001', 'inchikey': 'UAEJHGCEFAFLIJ-UHFFFAOYSA-N', 'smiles': 'C1=CC=C(C(=C1)C(=O)CC2(C3=CC=CC=C3NC2=O)O)O', 'num_peaks': '86'}\n",
      "{'synon': '$:28SYKSUKDZLCWNCF-KAMYIIQDSA-N', 'formula': 'C16H18N2O3S', 'casno': '298217455', 'nistno': '1000002', 'comment': 'Provided by Thermo Finnigan, measured by John Halket, Centre for Chemical Sciences, University of London', 'compound_name': '5-(4-Ethoxybenzylidene)-2-(4-morpholinyl)-1,3-thiazol-4(5H)-one', 'nominal_mass': '318.103813', 'precursor_mz': 319.1111, 'fragmentation_level': 'MS2', 'adduct': '[M+H]+', 'mass': '319.1111', 'collision_energy': 'resonant relative/normalized 35 %', 'instrument_type': 'IT/ion trap', 'instrument_model': 'Thermo Finnigan LCQ Deca', 'ion_acquisition_mode': 'wideband', 'chromatography_setup': 'HPLC', 'ionization_mode': 'ESI', 'polarity': 'P', 'additional_info': 'mol_Vial_ID=1000002', 'inchikey': 'SYKSUKDZLCWNCF-KAMYIIQDSA-N', 'smiles': 'CCOC1=CC=C(C=C1)C=C2C(=O)N=C(S2)N3CCOCC3', 'num_peaks': '25'}\n",
      "{'synon': '$:28IYECCJLABJLPSS-UHFFFAOYSA-N', 'formula': 'C19H23N3O3', 'casno': '298217466', 'nistno': '1000003', 'comment': 'Provided by Thermo Finnigan, measured by John Halket, Centre for Chemical Sciences, University of London', 'compound_name': '1-(4-Nitro)-3-((2-(3-methylphenoxy)ethyl)amino)phenyl)pyrrolidine', 'nominal_mass': '341.17394', 'precursor_mz': 342.1812, 'fragmentation_level': 'MS2', 'adduct': '[M+H]+', 'mass': '342.1812', 'collision_energy': 'resonant relative/normalized 35 %', 'instrument_type': 'IT/ion trap', 'instrument_model': 'Thermo Finnigan LCQ Deca', 'ion_acquisition_mode': 'wideband', 'chromatography_setup': 'HPLC', 'ionization_mode': 'ESI', 'polarity': 'P', 'additional_info': 'mol_Vial_ID=1000003', 'inchikey': 'IYECCJLABJLPSS-UHFFFAOYSA-N', 'smiles': 'CC1=CC(=CC=C1)OCCNC2=C(C=CC(=C2)N3CCCC3)[N+](=O)[O-]', 'num_peaks': '7'}\n",
      "{'synon': '$:28MHNGOEOPQMIYKD-UHFFFAOYSA-N', 'formula': 'C20H25N3O3', 'casno': '298217488', 'nistno': '1000004', 'comment': 'Provided by Thermo Finnigan, measured by John Halket, Centre for Chemical Sciences, University of London', 'compound_name': '1-(3-((2-(3,4-Dimethylphenoxy)ethyl)amino)-4-(nitro)phenyl)pyrrolidine', 'nominal_mass': '355.189592', 'precursor_mz': 356.1969, 'fragmentation_level': 'MS2', 'adduct': '[M+H]+', 'mass': '356.1969', 'collision_energy': 'resonant relative/normalized 35 %', 'instrument_type': 'IT/ion trap', 'instrument_model': 'Thermo Finnigan LCQ Deca', 'ion_acquisition_mode': 'wideband', 'chromatography_setup': 'HPLC', 'ionization_mode': 'ESI', 'polarity': 'P', 'additional_info': 'mol_Vial_ID=1000004', 'inchikey': 'MHNGOEOPQMIYKD-UHFFFAOYSA-N', 'smiles': 'CC1=C(C=C(C=C1)OCCNC2=C(C=CC(=C2)N3CCCC3)[N+](=O)[O-])C', 'num_peaks': '5'}\n",
      "{'synon': '$:28NAQUCIWMEKCLAU-UHFFFAOYSA-N', 'formula': 'C12H21N7', 'casno': '298217499', 'nistno': '1000005', 'comment': 'Provided by Thermo Finnigan, measured by John Halket, Centre for Chemical Sciences, University of London', 'compound_name': '2-(1-Methylhydrazino)-4,6-di(1-pyrrolidinyl)-1,3,5-triazine', 'nominal_mass': '263.185844', 'precursor_mz': 264.1931, 'fragmentation_level': 'MS2', 'adduct': '[M+H]+', 'mass': '264.1931', 'collision_energy': 'resonant relative/normalized 50 %', 'instrument_type': 'IT/ion trap', 'instrument_model': 'Thermo Finnigan LCQ Deca', 'ion_acquisition_mode': 'wideband', 'chromatography_setup': 'HPLC', 'ionization_mode': 'ESI', 'polarity': 'P', 'additional_info': 'mol_Vial_ID=1000005', 'inchikey': 'NAQUCIWMEKCLAU-UHFFFAOYSA-N', 'smiles': 'CN(C1=NC(=NC(=N1)N2CCCC2)N3CCCC3)N', 'num_peaks': '43'}\n"
     ]
    }
   ],
   "execution_count": 119
  },
  {
   "metadata": {
    "ExecuteTime": {
     "end_time": "2024-09-12T11:44:20.360725Z",
     "start_time": "2024-09-12T11:44:20.067342Z"
    }
   },
   "cell_type": "code",
   "source": "reloaded_spectra_list[0].plot()",
   "id": "dba4ae72fde451c7",
   "outputs": [
    {
     "data": {
      "text/plain": [
       "(<Figure size 1600x1200 with 1 Axes>,\n",
       " <Axes: title={'center': '3-Hydroxy-3-(2-(2-hydroxyphenyl)-2-oxoethyl)-1,3-dihydro-2H-indol-2-one'}, xlabel='m/z', ylabel='Intensity'>)"
      ]
     },
     "execution_count": 107,
     "metadata": {},
     "output_type": "execute_result"
    },
    {
     "data": {
      "text/plain": [
       "<Figure size 1600x1200 with 1 Axes>"
      ],
      "image/png": "[encoded data removed]"
     },
     "metadata": {},
     "output_type": "display_data"
    }
   ],
   "execution_count": 107
  },
  {
   "metadata": {},
   "cell_type": "code",
   "outputs": [],
   "execution_count": null,
   "source": "",
   "id": "33130c6133984ec6"
  },
  {
   "metadata": {},
   "cell_type": "code",
   "outputs": [],
   "execution_count": null,
   "source": "",
   "id": "9b5bbd4b926b73a0"
  },
  {
   "metadata": {},
   "cell_type": "code",
   "outputs": [],
   "execution_count": null,
   "source": "",
   "id": "fa67ec885d44786"
  },
  {
   "metadata": {},
   "cell_type": "code",
   "outputs": [],
   "execution_count": null,
   "source": "",
   "id": "1b76cbf5279dbf50"
  },
  {
   "metadata": {},
   "cell_type": "code",
   "outputs": [],
   "execution_count": null,
   "source": "",
   "id": "80ad94a498aee81f"
  },
  {
   "metadata": {},
   "cell_type": "code",
   "outputs": [],
   "execution_count": null,
   "source": "",
   "id": "d8fd7800417d4d21"
  },
  {
   "metadata": {},
   "cell_type": "code",
   "outputs": [],
   "execution_count": null,
   "source": "",
   "id": "41c4374339fc2beb"
  },
  {
   "metadata": {},
   "cell_type": "code",
   "outputs": [],
   "execution_count": null,
   "source": "",
   "id": "4f5e59a8fbea459f"
  },
  {
   "metadata": {},
   "cell_type": "code",
   "outputs": [],
   "execution_count": null,
   "source": "",
   "id": "8c1016ad69d0e622"
  },
  {
   "metadata": {},
   "cell_type": "code",
   "outputs": [],
   "execution_count": null,
   "source": "",
   "id": "164846d5e68289fc"
  },
  {
   "metadata": {},
   "cell_type": "code",
   "outputs": [],
   "execution_count": null,
   "source": "",
   "id": "be4f8bbe754c0e38"
  },
  {
   "metadata": {},
   "cell_type": "markdown",
   "source": "# Load MSP file and set attributes, utils examples",
   "id": "8142d7b13ed19293"
  },
  {
   "metadata": {
    "ExecuteTime": {
     "end_time": "2024-09-03T14:01:03.424812Z",
     "start_time": "2024-09-03T14:01:03.417875Z"
    }
   },
   "cell_type": "code",
   "source": [
    "np.random.seed(42)\n",
    "random.seed(42)"
   ],
   "id": "a21b7352e256298c",
   "outputs": [],
   "execution_count": 25
  },
  {
   "metadata": {
    "ExecuteTime": {
     "end_time": "2024-09-03T14:01:05.976082Z",
     "start_time": "2024-09-03T14:01:05.971517Z"
    }
   },
   "cell_type": "code",
   "source": "nist_dataset_ms = load_from_msp(FILE_PATH_MS, metadata_harmonization=True)",
   "id": "70fda4402140322e",
   "outputs": [],
   "execution_count": 26
  },
  {
   "metadata": {
    "ExecuteTime": {
     "end_time": "2024-09-03T14:12:17.383287Z",
     "start_time": "2024-09-03T14:01:08.314386Z"
    }
   },
   "cell_type": "code",
   "source": [
    "nist_dataset_ms_list = []\n",
    "for obj in nist_dataset_ms:\n",
    "    nist_dataset_ms_list.append(obj)"
   ],
   "id": "23301d1c470c9dcb",
   "outputs": [],
   "execution_count": 27
  },
  {
   "metadata": {
    "ExecuteTime": {
     "end_time": "2024-09-03T05:14:39.161695Z",
     "start_time": "2024-09-03T05:14:39.152445Z"
    }
   },
   "cell_type": "code",
   "source": "nist_dataset_ms_list[0]",
   "id": "97a45561c64ead1c",
   "outputs": [
    {
     "data": {
      "text/plain": [
       "Spectrum(precursor m/z=284.09, 86 fragments between 81.0 and 284.0)"
      ]
     },
     "execution_count": 54,
     "metadata": {},
     "output_type": "execute_result"
    }
   ],
   "execution_count": 54
  },
  {
   "metadata": {
    "ExecuteTime": {
     "end_time": "2024-09-03T14:12:17.406539Z",
     "start_time": "2024-09-03T14:12:17.396018Z"
    }
   },
   "cell_type": "code",
   "source": "len(nist_dataset_ms_list)",
   "id": "65f199822a2d8beb",
   "outputs": [
    {
     "data": {
      "text/plain": [
       "574826"
      ]
     },
     "execution_count": 28,
     "metadata": {},
     "output_type": "execute_result"
    }
   ],
   "execution_count": 28
  },
  {
   "metadata": {
    "ExecuteTime": {
     "end_time": "2024-09-02T10:27:04.260374Z",
     "start_time": "2024-09-02T10:27:03.650986Z"
    }
   },
   "cell_type": "code",
   "source": "nist_dataset_ms_list[3].plot()",
   "id": "d2944fe889270e71",
   "outputs": [
    {
     "data": {
      "text/plain": [
       "(<Figure size 1600x1200 with 1 Axes>,\n",
       " <Axes: title={'center': '1-(3-((2-(3,4-Dimethylphenoxy)ethyl)amino)-4-(nitro)phenyl)pyrrolidine'}, xlabel='m/z', ylabel='Intensity'>)"
      ]
     },
     "execution_count": 32,
     "metadata": {},
     "output_type": "execute_result"
    },
    {
     "data": {
      "text/plain": [
       "<Figure size 1600x1200 with 1 Axes>"
      ],
      "image/png": "[encoded data removed]"
     },
     "metadata": {},
     "output_type": "display_data"
    }
   ],
   "execution_count": 32
  },
  {
   "metadata": {
    "ExecuteTime": {
     "end_time": "2024-09-02T14:32:00.992398Z",
     "start_time": "2024-09-02T14:32:00.983070Z"
    }
   },
   "cell_type": "code",
   "source": "nist_dataset_ms_list[99].metadata_dict()",
   "id": "a9e4c66ee8e866c2",
   "outputs": [
    {
     "data": {
      "text/plain": [
       "{'synon': '$:28ZFOUAZBWQSIIIA-UHFFFAOYSA-N',\n",
       " 'formula': 'C10H6N2S2',\n",
       " 'casno': '190579921',\n",
       " 'nistno': '1000128',\n",
       " 'comment': 'Provided by Thermo Finnigan, measured by John Halket, Centre for Chemical Sciences, University of London',\n",
       " 'num_peaks': '33',\n",
       " 'compound_name': '6-(2-Thienyl)-2-thioxo-1,2-dihydro-3-pyridinecarbonitrile',\n",
       " 'nominal_mass': '217.99724',\n",
       " 'precursor_mz': 219.0045}"
      ]
     },
     "execution_count": 44,
     "metadata": {},
     "output_type": "execute_result"
    }
   ],
   "execution_count": 44
  },
  {
   "metadata": {},
   "cell_type": "code",
   "outputs": [],
   "execution_count": null,
   "source": "",
   "id": "4c252714fa6419b8"
  },
  {
   "metadata": {
    "ExecuteTime": {
     "end_time": "2024-09-02T14:48:16.825653Z",
     "start_time": "2024-09-02T14:48:16.817538Z"
    }
   },
   "cell_type": "code",
   "source": "type(nist_dataset_ms_list[99].metadata_dict())",
   "id": "9e2d9bab5e05f46e",
   "outputs": [
    {
     "data": {
      "text/plain": [
       "dict"
      ]
     },
     "execution_count": 46,
     "metadata": {},
     "output_type": "execute_result"
    }
   ],
   "execution_count": 46
  },
  {
   "metadata": {
    "ExecuteTime": {
     "end_time": "2024-09-02T14:55:08.664351Z",
     "start_time": "2024-09-02T14:55:08.655950Z"
    }
   },
   "cell_type": "code",
   "source": "nist_dataset_ms_list[99].set(\"precursor_mz\", 1.0)",
   "id": "9fb34a0c5dac73ef",
   "outputs": [
    {
     "data": {
      "text/plain": [
       "Spectrum(precursor m/z=1.00, 33 fragments between 145.0 and 219.0)"
      ]
     },
     "execution_count": 50,
     "metadata": {},
     "output_type": "execute_result"
    }
   ],
   "execution_count": 50
  },
  {
   "metadata": {
    "ExecuteTime": {
     "end_time": "2024-09-02T14:55:10.493969Z",
     "start_time": "2024-09-02T14:55:10.486406Z"
    }
   },
   "cell_type": "code",
   "source": "nist_dataset_ms_list[99].metadata_dict()",
   "id": "f2c4accea5871698",
   "outputs": [
    {
     "data": {
      "text/plain": [
       "{'synon': '$:28ZFOUAZBWQSIIIA-UHFFFAOYSA-N',\n",
       " 'formula': 'C10H6N2S2',\n",
       " 'casno': '190579921',\n",
       " 'nistno': '1000128',\n",
       " 'comment': 'Provided by Thermo Finnigan, measured by John Halket, Centre for Chemical Sciences, University of London',\n",
       " 'num_peaks': '33',\n",
       " 'compound_name': '6-(2-Thienyl)-2-thioxo-1,2-dihydro-3-pyridinecarbonitrile',\n",
       " 'nominal_mass': '217.99724',\n",
       " 'precursor_mz': 1.0}"
      ]
     },
     "execution_count": 51,
     "metadata": {},
     "output_type": "execute_result"
    }
   ],
   "execution_count": 51
  },
  {
   "metadata": {},
   "cell_type": "code",
   "outputs": [],
   "execution_count": null,
   "source": "",
   "id": "494cb367c23c3b8f"
  },
  {
   "metadata": {
    "ExecuteTime": {
     "end_time": "2024-09-03T07:52:18.775432Z",
     "start_time": "2024-09-03T07:52:18.767323Z"
    }
   },
   "cell_type": "code",
   "source": [
    "spectrum = nist_dataset_ms_list[1234]\n",
    "\n",
    "# Adding a new attribute, e.g., InChI key, to the spectrum's metadata\n",
    "inchi_key = \"InChIKey=ARAIBEBZBOPLMB-TZMJUOFKSA-N\"  # Example InChI key\n",
    "spectrum.set('inchi', inchi_key)\n",
    "\n",
    "# Verify that the InChI key has been added\n",
    "print(spectrum.metadata_dict())"
   ],
   "id": "88275c5c132476f0",
   "outputs": [
    {
     "name": "stdout",
     "output_type": "stream",
     "text": [
      "{'synon': '$:28ARAIBEBZBOPLMB-TZMJUOFKSA-N', 'formula': 'C12H20N4O7', 'casno': '139110808', 'nistno': '1005299', 'comment': 'Allen GD. J CHROMATOGR B 732 (2) 383-393 1999', 'num_peaks': '13', 'compound_name': 'Zanamivir', 'nominal_mass': '332.1332', 'precursor_mz': 333.1405, 'inchi': 'InChIKey=ARAIBEBZBOPLMB-TZMJUOFKSA-N'}\n"
     ]
    }
   ],
   "execution_count": 70
  },
  {
   "metadata": {
    "ExecuteTime": {
     "end_time": "2024-09-03T07:52:28.529795Z",
     "start_time": "2024-09-03T07:52:28.519689Z"
    }
   },
   "cell_type": "code",
   "source": "nist_dataset_ms_list[1234].metadata_dict()",
   "id": "5fce50b1fdc4c65",
   "outputs": [
    {
     "data": {
      "text/plain": [
       "{'synon': '$:28ARAIBEBZBOPLMB-TZMJUOFKSA-N',\n",
       " 'formula': 'C12H20N4O7',\n",
       " 'casno': '139110808',\n",
       " 'nistno': '1005299',\n",
       " 'comment': 'Allen GD. J CHROMATOGR B 732 (2) 383-393 1999',\n",
       " 'num_peaks': '13',\n",
       " 'compound_name': 'Zanamivir',\n",
       " 'nominal_mass': '332.1332',\n",
       " 'precursor_mz': 333.1405,\n",
       " 'inchi': 'InChIKey=ARAIBEBZBOPLMB-TZMJUOFKSA-N'}"
      ]
     },
     "execution_count": 71,
     "metadata": {},
     "output_type": "execute_result"
    }
   ],
   "execution_count": 71
  },
  {
   "metadata": {
    "ExecuteTime": {
     "end_time": "2024-09-02T10:17:01.931693Z",
     "start_time": "2024-09-02T10:17:01.925787Z"
    }
   },
   "cell_type": "code",
   "source": [
    "# Print all available metadata keys for a specific spectrum\n",
    "print(nist_dataset_ms_list[3].metadata.keys())"
   ],
   "id": "a179a104cc422912",
   "outputs": [
    {
     "name": "stdout",
     "output_type": "stream",
     "text": [
      "dict_keys(['synon', 'formula', 'casno', 'nistno', 'comment', 'num_peaks', 'compound_name', 'nominal_mass', 'precursor_mz'])\n"
     ]
    }
   ],
   "execution_count": 30
  },
  {
   "metadata": {
    "ExecuteTime": {
     "end_time": "2024-09-02T11:30:55.022846Z",
     "start_time": "2024-09-02T11:28:25.742971Z"
    }
   },
   "cell_type": "code",
   "source": [
    "# Initialize sets to store unique values\n",
    "unique_casno = set()\n",
    "unique_formula = set()\n",
    "unique_nistno = set()\n",
    "\n",
    "# Iterate over each spectrum in the list\n",
    "for spectrum in nist_dataset_ms_list:\n",
    "    # Extract values from the metadata, use .get() to avoid KeyError if key is missing\n",
    "    casno = spectrum.metadata.get('casno')\n",
    "    formula = spectrum.metadata.get('formula')\n",
    "    nistno = spectrum.metadata.get('nistno')\n",
    "    \n",
    "    # Add values to the sets (sets automatically handle uniqueness)\n",
    "    if casno:\n",
    "        unique_casno.add(casno)\n",
    "    if formula:\n",
    "        unique_formula.add(formula)\n",
    "    if nistno:\n",
    "        unique_nistno.add(nistno)\n",
    "\n",
    "# Calculate counts of unique values\n",
    "num_unique_casno = len(unique_casno)\n",
    "num_unique_formula = len(unique_formula)\n",
    "num_unique_nistno = len(unique_nistno)\n",
    "\n",
    "# Print the counts\n",
    "print(f\"Number of unique CAS numbers (casno): {num_unique_casno}\")\n",
    "print(f\"Number of unique formulas: {num_unique_formula}\")\n",
    "print(f\"Number of unique NIST numbers (nistno): {num_unique_nistno}\")"
   ],
   "id": "f12575b25c41659f",
   "outputs": [
    {
     "name": "stdout",
     "output_type": "stream",
     "text": [
      "Number of unique CAS numbers (casno): 12037\n",
      "Number of unique formulas: 8157\n",
      "Number of unique NIST numbers (nistno): 574826\n"
     ]
    }
   ],
   "execution_count": 33
  },
  {
   "metadata": {
    "ExecuteTime": {
     "end_time": "2024-09-03T05:17:59.012694Z",
     "start_time": "2024-09-03T05:17:58.996104Z"
    }
   },
   "cell_type": "code",
   "source": [
    "def parse_msp(file_path):\n",
    "    spectra = []\n",
    "    with open(file_path, 'r') as file:\n",
    "        spectrum = {}\n",
    "        synons = []\n",
    "        for line in file:\n",
    "            line = line.strip()\n",
    "            if line.startswith(\"Name:\"):\n",
    "                if spectrum:\n",
    "                    # If there is an existing spectrum, add it to the list\n",
    "                    if synons:\n",
    "                        spectrum['synon'] = synons\n",
    "                    spectra.append(spectrum)\n",
    "                    spectrum = {}\n",
    "                    synons = []\n",
    "                spectrum['compound_name'] = line.split(\": \", 1)[1]\n",
    "            elif line.startswith(\"Synon:\"):\n",
    "                synons.append(line.split(\": \", 1)[1])\n",
    "            elif line.startswith(\"Formula:\"):\n",
    "                spectrum['formula'] = line.split(\": \", 1)[1]\n",
    "            elif line.startswith(\"MW:\"):\n",
    "                spectrum['nominal_mass'] = line.split(\": \", 1)[1]\n",
    "            elif line.startswith(\"PrecursorMZ:\"):\n",
    "                spectrum['precursor_mz'] = line.split(\": \", 1)[1]\n",
    "            elif line.startswith(\"CASNO:\"):\n",
    "                spectrum['casno'] = line.split(\": \", 1)[1]\n",
    "            elif line.startswith(\"NISTNO:\"):\n",
    "                spectrum['nistno'] = line.split(\": \", 1)[1]\n",
    "            elif line.startswith(\"Comment:\"):\n",
    "                spectrum['comment'] = line.split(\": \", 1)[1]\n",
    "            elif line.startswith(\"Num peaks:\"):\n",
    "                spectrum['num_peaks'] = line.split(\": \", 1)[1]\n",
    "        \n",
    "        # Add the last spectrum if the file does not end with a blank line\n",
    "        if spectrum:\n",
    "            if synons:\n",
    "                spectrum['synon'] = synons\n",
    "            spectra.append(spectrum)\n",
    "\n",
    "    return spectra"
   ],
   "id": "b5876153dd8c9283",
   "outputs": [],
   "execution_count": 57
  },
  {
   "metadata": {
    "ExecuteTime": {
     "end_time": "2024-09-03T05:18:57.349063Z",
     "start_time": "2024-09-03T05:18:02.010088Z"
    }
   },
   "cell_type": "code",
   "source": [
    "\n",
    "# Use the custom parser to read your MSP file\n",
    "file_path = '../data/NIST/nist_msms.MSP'\n",
    "parsed_spectra = parse_msp(file_path)\n",
    "\n",
    "# Example: Print out metadata of the first parsed spectrum\n",
    "print(parsed_spectra[3])  # Adjust the index as needed"
   ],
   "id": "586dbdec9f87d695",
   "outputs": [
    {
     "name": "stdout",
     "output_type": "stream",
     "text": [
      "{'compound_name': '1-(3-((2-(3,4-Dimethylphenoxy)ethyl)amino)-4-(nitro)phenyl)pyrrolidine', 'formula': 'C20H25N3O3', 'nominal_mass': '355.189592', 'precursor_mz': '356.1969', 'casno': '298217488', 'nistno': '1000004', 'comment': 'Provided by Thermo Finnigan, measured by John Halket, Centre for Chemical Sciences, University of London', 'num_peaks': '5', 'synon': ['Benzenamine, N-[2-(3,4-dimethylphenoxy)ethyl]-2-nitro-5-(1-pyrrolidinyl)-', '$:17mol_Vial_ID=1000004', '$:03[M+H]+', '$:00MS2', '$:04356.1969', '$:06IT/ion trap', '$:07Thermo Finnigan LCQ Deca', '$:09HPLC', '$:10ESI', '$:05resonant relative/normalized 35 %', '$:11P', '$:08wideband', '$:28MHNGOEOPQMIYKD-UHFFFAOYSA-N']}\n"
     ]
    }
   ],
   "execution_count": 58
  },
  {
   "metadata": {},
   "cell_type": "code",
   "outputs": [],
   "execution_count": null,
   "source": "",
   "id": "22d38e53f6989324"
  },
  {
   "metadata": {},
   "cell_type": "markdown",
   "source": "",
   "id": "95f2d33b78dbcc74"
  },
  {
   "metadata": {},
   "cell_type": "markdown",
   "source": "## MSMS2 ",
   "id": "b561765bc363085f"
  },
  {
   "metadata": {},
   "cell_type": "markdown",
   "source": "#### TODO, to many unidenfiable examples, needed another research",
   "id": "783d36c514085be4"
  },
  {
   "metadata": {},
   "cell_type": "markdown",
   "source": "### function work same, however names are corrupted and also others information for identification are missing",
   "id": "defb2f7feb51b098"
  },
  {
   "metadata": {
    "ExecuteTime": {
     "end_time": "2024-09-12T15:10:10.525194Z",
     "start_time": "2024-09-12T15:10:10.523029Z"
    }
   },
   "cell_type": "code",
   "source": "nist_dataset_ms2 = load_from_msp(FILE_PATH_MS2, metadata_harmonization=True)",
   "id": "ac2fd07ef07e0e49",
   "outputs": [],
   "execution_count": 133
  },
  {
   "metadata": {
    "ExecuteTime": {
     "end_time": "2024-09-12T13:05:05.908900Z",
     "start_time": "2024-09-12T13:04:22.383413Z"
    }
   },
   "cell_type": "code",
   "source": [
    "nist_dataset_ms2_list = []\n",
    "for obj in nist_dataset_ms2:\n",
    "    nist_dataset_ms2_list.append(obj)"
   ],
   "id": "bc8484b5b85e3200",
   "outputs": [],
   "execution_count": 121
  },
  {
   "metadata": {
    "ExecuteTime": {
     "end_time": "2024-09-02T09:50:58.239960Z",
     "start_time": "2024-09-02T09:50:58.229050Z"
    }
   },
   "cell_type": "code",
   "source": "nist_dataset_ms2_list[0]",
   "id": "96e98789f81125d1",
   "outputs": [
    {
     "data": {
      "text/plain": [
       "Spectrum(precursor m/z=1122.64, 169 fragments between 342.0 and 1107.0)"
      ]
     },
     "execution_count": 21,
     "metadata": {},
     "output_type": "execute_result"
    }
   ],
   "execution_count": 21
  },
  {
   "metadata": {
    "ExecuteTime": {
     "end_time": "2024-09-02T09:51:08.035914Z",
     "start_time": "2024-09-02T09:51:08.028122Z"
    }
   },
   "cell_type": "code",
   "source": "len(nist_dataset_ms2_list)",
   "id": "36011b421dc0c93",
   "outputs": [
    {
     "data": {
      "text/plain": [
       "90244"
      ]
     },
     "execution_count": 22,
     "metadata": {},
     "output_type": "execute_result"
    }
   ],
   "execution_count": 22
  },
  {
   "metadata": {
    "ExecuteTime": {
     "end_time": "2024-09-02T12:06:32.448458Z",
     "start_time": "2024-09-02T12:06:32.429268Z"
    }
   },
   "cell_type": "code",
   "source": "nist_dataset_ms2_list[27].metadata_dict()",
   "id": "10702582cf0fda4f",
   "outputs": [
    {
     "data": {
      "text/plain": [
       "{'synon': '$:11P',\n",
       " 'formula': 'C114H180N30O29S',\n",
       " 'casno': '0',\n",
       " 'comment': 'Mods=0 NIST Mass Spectrometry Data Center',\n",
       " 'num_peaks': '120',\n",
       " 'compound_name': 'GIGKFLHSAKKFGKAFVGEIMNS/5',\n",
       " 'nominal_mass': '2465.32532',\n",
       " 'precursor_mz': 494.0723}"
      ]
     },
     "execution_count": 38,
     "metadata": {},
     "output_type": "execute_result"
    }
   ],
   "execution_count": 38
  },
  {
   "metadata": {
    "ExecuteTime": {
     "end_time": "2024-09-12T13:06:30.858685Z",
     "start_time": "2024-09-12T13:06:21.540537Z"
    }
   },
   "cell_type": "code",
   "source": [
    "# Initialize sets to store unique values\n",
    "unique_casno = set()\n",
    "unique_formula = set()\n",
    "unique_nistno = set()\n",
    "unique_name = set()\n",
    "\n",
    "# Iterate over each spectrum in the list\n",
    "for spectrum in nist_dataset_ms2_list:\n",
    "    # Extract values from the metadata, use .get() to avoid KeyError if key is missing\n",
    "    casno = spectrum.metadata.get('casno')\n",
    "    formula = spectrum.metadata.get('formula')\n",
    "    nistno = spectrum.metadata.get('nistno')\n",
    "    name = spectrum.metadata.get('compound_name')\n",
    "    \n",
    "    # Add values to the sets (sets automatically handle uniqueness)\n",
    "    if casno:\n",
    "        unique_casno.add(casno)\n",
    "    if formula:\n",
    "        unique_formula.add(formula)\n",
    "    if nistno:\n",
    "        unique_nistno.add(nistno)\n",
    "    if name:\n",
    "        unique_name.add(name)\n",
    "\n",
    "# Calculate counts of unique values\n",
    "num_unique_casno = len(unique_casno)\n",
    "num_unique_formula = len(unique_formula)\n",
    "num_unique_nistno = len(unique_nistno)\n",
    "num_unique_name = len(unique_name)\n",
    "\n",
    "# Print the counts\n",
    "print(f\"Number of unique CAS numbers (casno): {num_unique_casno}\")\n",
    "print(f\"Number of unique formulas: {num_unique_formula}\")\n",
    "print(f\"Number of unique NIST numbers (nistno): {num_unique_nistno}\")\n",
    "print(f\"Number of unique names: {num_unique_name}\")"
   ],
   "id": "af85baf3374aad3e",
   "outputs": [
    {
     "name": "stdout",
     "output_type": "stream",
     "text": [
      "Number of unique CAS numbers (casno): 799\n",
      "Number of unique formulas: 1552\n",
      "Number of unique NIST numbers (nistno): 154\n",
      "Number of unique names: 6143\n"
     ]
    }
   ],
   "execution_count": 123
  },
  {
   "metadata": {},
   "cell_type": "code",
   "outputs": [],
   "execution_count": null,
   "source": "",
   "id": "1766060b731d57a2"
  }
 ],
 "metadata": {
  "kernelspec": {
   "display_name": "Python 3",
   "language": "python",
   "name": "python3"
  },
  "language_info": {
   "codemirror_mode": {
    "name": "ipython",
    "version": 2
   },
   "file_extension": ".py",
   "mimetype": "text/x-python",
   "name": "python",
   "nbconvert_exporter": "python",
   "pygments_lexer": "ipython2",
   "version": "2.7.6"
  }
 },
 "nbformat": 4,
 "nbformat_minor": 5
}
