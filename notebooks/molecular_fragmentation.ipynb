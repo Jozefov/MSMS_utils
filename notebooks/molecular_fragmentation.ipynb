{
 "cells": [
  {
   "cell_type": "code",
   "id": "initial_id",
   "metadata": {
    "collapsed": true,
    "ExecuteTime": {
     "end_time": "2024-09-08T10:04:21.370604Z",
     "start_time": "2024-09-08T10:04:20.714891Z"
    }
   },
   "source": [
    "from rdkit import Chem\n",
    "from rdkit.Chem import AllChem\n",
    "\n",
    "def fragment_molecule(smiles):\n",
    "    # Load the molecule\n",
    "    mol = Chem.MolFromSmiles(smiles)\n",
    "    if mol is None:\n",
    "        raise ValueError(f\"Invalid SMILES string: {smiles}\")\n",
    "    \n",
    "    # Find all bonds in the molecule\n",
    "    bonds = [(bond.GetBeginAtomIdx(), bond.GetEndAtomIdx()) for bond in mol.GetBonds()]\n",
    "    \n",
    "    # Store results\n",
    "    fragments = []\n",
    "\n",
    "    # Iterate over each bond\n",
    "    for bond in bonds:\n",
    "        a1, a2 = bond\n",
    "        \n",
    "        # Check if bond is part of a ring\n",
    "        if mol.GetBondBetweenAtoms(a1, a2).IsInRing():\n",
    "            # Find another bond in the ring to break\n",
    "            ring_bonds = [b.GetIdx() for b in mol.GetBondBetweenAtoms(a1, a2).GetOwningMol().GetRingInfo().BondRings()]\n",
    "            if len(ring_bonds) < 2:\n",
    "                continue  # Skip if we cannot find two bonds in a ring\n",
    "            \n",
    "            # Fragment on two bonds to break the ring\n",
    "            frag_mol = Chem.FragmentOnBonds(mol, [ring_bonds[0], ring_bonds[1]], addDummies=True, dummyLabels=[(0, 0)])\n",
    "        else:\n",
    "            # Fragment on a single bond\n",
    "            bond_idx = mol.GetBondBetweenAtoms(a1, a2).GetIdx()\n",
    "            frag_mol = Chem.FragmentOnBonds(mol, [bond_idx], addDummies=True, dummyLabels=[(0, 0)])\n",
    "        \n",
    "        # Split the fragmented molecule into individual fragments\n",
    "        frags = Chem.GetMolFrags(frag_mol, asMols=True)\n",
    "        \n",
    "        # Convert fragments to SMILES\n",
    "        frag_smiles = [Chem.MolToSmiles(frag, isomericSmiles=True) for frag in frags]\n",
    "        \n",
    "        # Only add pairs of fragments (skip if more than two fragments are generated)\n",
    "        if len(frag_smiles) == 2:\n",
    "            fragments.append(frag_smiles)\n",
    "    \n",
    "    return fragments\n",
    "\n",
    "# Example usage\n",
    "smiles = 'CCOC(c5nn(Cc6cnc(N7CCN(CC7)C8CC8)cc6)c(C)c5)=O'\n",
    "result = fragment_molecule(smiles)\n",
    "for frag_pair in result:\n",
    "    print(f\"Fragment pair: {frag_pair}\")"
   ],
   "outputs": [
    {
     "ename": "AttributeError",
     "evalue": "'tuple' object has no attribute 'GetIdx'",
     "output_type": "error",
     "traceback": [
      "\u001B[0;31m---------------------------------------------------------------------------\u001B[0m",
      "\u001B[0;31mAttributeError\u001B[0m                            Traceback (most recent call last)",
      "Cell \u001B[0;32mIn[1], line 48\u001B[0m\n\u001B[1;32m     46\u001B[0m \u001B[38;5;66;03m# Example usage\u001B[39;00m\n\u001B[1;32m     47\u001B[0m smiles \u001B[38;5;241m=\u001B[39m \u001B[38;5;124m'\u001B[39m\u001B[38;5;124mCCOC(c5nn(Cc6cnc(N7CCN(CC7)C8CC8)cc6)c(C)c5)=O\u001B[39m\u001B[38;5;124m'\u001B[39m\n\u001B[0;32m---> 48\u001B[0m result \u001B[38;5;241m=\u001B[39m \u001B[43mfragment_molecule\u001B[49m\u001B[43m(\u001B[49m\u001B[43msmiles\u001B[49m\u001B[43m)\u001B[49m\n\u001B[1;32m     49\u001B[0m \u001B[38;5;28;01mfor\u001B[39;00m frag_pair \u001B[38;5;129;01min\u001B[39;00m result:\n\u001B[1;32m     50\u001B[0m     \u001B[38;5;28mprint\u001B[39m(\u001B[38;5;124mf\u001B[39m\u001B[38;5;124m\"\u001B[39m\u001B[38;5;124mFragment pair: \u001B[39m\u001B[38;5;132;01m{\u001B[39;00mfrag_pair\u001B[38;5;132;01m}\u001B[39;00m\u001B[38;5;124m\"\u001B[39m)\n",
      "Cell \u001B[0;32mIn[1], line 23\u001B[0m, in \u001B[0;36mfragment_molecule\u001B[0;34m(smiles)\u001B[0m\n\u001B[1;32m     20\u001B[0m \u001B[38;5;66;03m# Check if bond is part of a ring\u001B[39;00m\n\u001B[1;32m     21\u001B[0m \u001B[38;5;28;01mif\u001B[39;00m mol\u001B[38;5;241m.\u001B[39mGetBondBetweenAtoms(a1, a2)\u001B[38;5;241m.\u001B[39mIsInRing():\n\u001B[1;32m     22\u001B[0m     \u001B[38;5;66;03m# Find another bond in the ring to break\u001B[39;00m\n\u001B[0;32m---> 23\u001B[0m     ring_bonds \u001B[38;5;241m=\u001B[39m [b\u001B[38;5;241m.\u001B[39mGetIdx() \u001B[38;5;28;01mfor\u001B[39;00m b \u001B[38;5;129;01min\u001B[39;00m mol\u001B[38;5;241m.\u001B[39mGetBondBetweenAtoms(a1, a2)\u001B[38;5;241m.\u001B[39mGetOwningMol()\u001B[38;5;241m.\u001B[39mGetRingInfo()\u001B[38;5;241m.\u001B[39mBondRings()]\n\u001B[1;32m     24\u001B[0m     \u001B[38;5;28;01mif\u001B[39;00m \u001B[38;5;28mlen\u001B[39m(ring_bonds) \u001B[38;5;241m<\u001B[39m \u001B[38;5;241m2\u001B[39m:\n\u001B[1;32m     25\u001B[0m         \u001B[38;5;28;01mcontinue\u001B[39;00m  \u001B[38;5;66;03m# Skip if we cannot find two bonds in a ring\u001B[39;00m\n",
      "Cell \u001B[0;32mIn[1], line 23\u001B[0m, in \u001B[0;36m<listcomp>\u001B[0;34m(.0)\u001B[0m\n\u001B[1;32m     20\u001B[0m \u001B[38;5;66;03m# Check if bond is part of a ring\u001B[39;00m\n\u001B[1;32m     21\u001B[0m \u001B[38;5;28;01mif\u001B[39;00m mol\u001B[38;5;241m.\u001B[39mGetBondBetweenAtoms(a1, a2)\u001B[38;5;241m.\u001B[39mIsInRing():\n\u001B[1;32m     22\u001B[0m     \u001B[38;5;66;03m# Find another bond in the ring to break\u001B[39;00m\n\u001B[0;32m---> 23\u001B[0m     ring_bonds \u001B[38;5;241m=\u001B[39m [\u001B[43mb\u001B[49m\u001B[38;5;241;43m.\u001B[39;49m\u001B[43mGetIdx\u001B[49m() \u001B[38;5;28;01mfor\u001B[39;00m b \u001B[38;5;129;01min\u001B[39;00m mol\u001B[38;5;241m.\u001B[39mGetBondBetweenAtoms(a1, a2)\u001B[38;5;241m.\u001B[39mGetOwningMol()\u001B[38;5;241m.\u001B[39mGetRingInfo()\u001B[38;5;241m.\u001B[39mBondRings()]\n\u001B[1;32m     24\u001B[0m     \u001B[38;5;28;01mif\u001B[39;00m \u001B[38;5;28mlen\u001B[39m(ring_bonds) \u001B[38;5;241m<\u001B[39m \u001B[38;5;241m2\u001B[39m:\n\u001B[1;32m     25\u001B[0m         \u001B[38;5;28;01mcontinue\u001B[39;00m  \u001B[38;5;66;03m# Skip if we cannot find two bonds in a ring\u001B[39;00m\n",
      "\u001B[0;31mAttributeError\u001B[0m: 'tuple' object has no attribute 'GetIdx'"
     ]
    }
   ],
   "execution_count": 1
  }
 ],
 "metadata": {
  "kernelspec": {
   "display_name": "Python 3",
   "language": "python",
   "name": "python3"
  },
  "language_info": {
   "codemirror_mode": {
    "name": "ipython",
    "version": 2
   },
   "file_extension": ".py",
   "mimetype": "text/x-python",
   "name": "python",
   "nbconvert_exporter": "python",
   "pygments_lexer": "ipython2",
   "version": "2.7.6"
  }
 },
 "nbformat": 4,
 "nbformat_minor": 5
}
