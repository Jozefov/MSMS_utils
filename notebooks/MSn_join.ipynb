{
 "cells": [
  {
   "cell_type": "code",
   "id": "initial_id",
   "metadata": {
    "collapsed": true,
    "ExecuteTime": {
     "end_time": "2024-09-14T11:42:51.884349Z",
     "start_time": "2024-09-14T11:42:51.882168Z"
    }
   },
   "source": [
    "import os\n",
    "import numpy as np\n",
    "from datetime import datetime\n",
    "from matchms import Spectrum\n",
    "from matchms.importing import load_from_mgf\n",
    "from matchms.exporting import save_as_mgf\n",
    "from collections import Counter"
   ],
   "outputs": [],
   "execution_count": 10
  },
  {
   "metadata": {
    "ExecuteTime": {
     "end_time": "2024-09-14T11:24:11.171431Z",
     "start_time": "2024-09-14T11:24:11.169298Z"
    }
   },
   "cell_type": "code",
   "source": [
    "FILE_1 = \"20231031_nihnp_library_pos_all_lib_MSn.mgf\"\n",
    "FILE_2 = \"20231130_mcescaf_library_pos_all_lib_MSn.mgf\"\n",
    "FILE_3 = \"20231130_otavapep_library_pos_all_lib_MSn.mgf\"\n",
    "FILE_4 = \"20240411_mcebio_library_pos_all_lib_MSn.mgf\""
   ],
   "id": "e0099319e9d3393b",
   "outputs": [],
   "execution_count": 2
  },
  {
   "metadata": {
    "ExecuteTime": {
     "end_time": "2024-09-14T11:24:11.178466Z",
     "start_time": "2024-09-14T11:24:11.176399Z"
    }
   },
   "cell_type": "code",
   "source": [
    "BASE_PATH = \"../data/MSn/ALL\"\n",
    "SAVE_PATH = \"../data/MSn/MSn\""
   ],
   "id": "9a520d250646c174",
   "outputs": [],
   "execution_count": 3
  },
  {
   "metadata": {
    "ExecuteTime": {
     "end_time": "2024-09-14T11:24:11.520759Z",
     "start_time": "2024-09-14T11:24:11.518384Z"
    }
   },
   "cell_type": "code",
   "source": [
    "file_paths = [os.path.join(BASE_PATH, FILE_1),\n",
    "              os.path.join(BASE_PATH, FILE_2),\n",
    "              os.path.join(BASE_PATH, FILE_3),\n",
    "              os.path.join(BASE_PATH, FILE_4)]"
   ],
   "id": "3abd5ff2f3f1882c",
   "outputs": [],
   "execution_count": 4
  },
  {
   "metadata": {},
   "cell_type": "code",
   "outputs": [],
   "execution_count": null,
   "source": "",
   "id": "4d029c55c4a15f42"
  },
  {
   "metadata": {
    "ExecuteTime": {
     "end_time": "2024-09-14T11:34:05.337916Z",
     "start_time": "2024-09-14T11:27:06.114015Z"
    }
   },
   "cell_type": "code",
   "source": [
    "all_spectra = []\n",
    "spectra_counts = {}\n",
    "\n",
    "for file_path in file_paths:\n",
    "    spectra = list(load_from_mgf(file_path))\n",
    "    spectra_counts[file_path] = len(spectra)\n",
    "    all_spectra.extend(spectra)\n",
    "\n",
    "for file, count in spectra_counts.items():\n",
    "    print(f\"{file}: {count} spectra\")\n",
    "\n",
    "combined_count = len(all_spectra)\n",
    "print(f\"Total combined spectra: {combined_count}\")"
   ],
   "id": "b46cb11b6b2e2b37",
   "outputs": [
    {
     "name": "stdout",
     "output_type": "stream",
     "text": [
      "../data/MSn/ALL/20231031_nihnp_library_pos_all_lib_MSn.mgf: 122837 spectra\n",
      "../data/MSn/ALL/20231130_mcescaf_library_pos_all_lib_MSn.mgf: 243033 spectra\n",
      "../data/MSn/ALL/20231130_otavapep_library_pos_all_lib_MSn.mgf: 63123 spectra\n",
      "../data/MSn/ALL/20240411_mcebio_library_pos_all_lib_MSn.mgf: 374412 spectra\n",
      "Total combined spectra: 803405\n"
     ]
    }
   ],
   "execution_count": 6
  },
  {
   "metadata": {
    "ExecuteTime": {
     "end_time": "2024-09-14T11:36:05.669499Z",
     "start_time": "2024-09-14T11:34:05.406287Z"
    }
   },
   "cell_type": "code",
   "source": [
    "# Define the output file name with the current date\n",
    "current_date = datetime.now().strftime(\"%Y%m%d\")\n",
    "output_file_name = f\"{current_date}_msn_library_pos_all_lib_MSn.mgf\"\n",
    "output_file_path = os.path.join(SAVE_PATH, output_file_name)\n",
    "\n",
    "# save_as_mgf(all_spectra, output_file_path)"
   ],
   "id": "3dabdadeae082b73",
   "outputs": [
    {
     "name": "stdout",
     "output_type": "stream",
     "text": [
      "dict_keys(['spectra'])\n"
     ]
    }
   ],
   "execution_count": 7
  },
  {
   "metadata": {
    "ExecuteTime": {
     "end_time": "2024-09-14T11:42:51.793983Z",
     "start_time": "2024-09-14T11:36:05.679289Z"
    }
   },
   "cell_type": "code",
   "source": [
    "# Load the saved file to verify the number of spectra\n",
    "loaded_spectra = list(load_from_mgf(output_file_path))\n",
    "loaded_count = len(loaded_spectra)\n",
    "\n",
    "# Compare counts\n",
    "print(f\"Loaded spectra from saved file: {loaded_count}\")\n",
    "\n",
    "if combined_count == loaded_count:\n",
    "    print(\"Validation successful: Combined and loaded spectra counts match.\")\n",
    "else:\n",
    "    print(\"Validation failed: Counts do not match!\")\n",
    "    print(f\"Combined count: {combined_count}, Loaded count: {loaded_count}\")"
   ],
   "id": "694b91199923cb6f",
   "outputs": [
    {
     "name": "stdout",
     "output_type": "stream",
     "text": [
      "Loaded spectra from saved file: 803405\n",
      "Validation successful: Combined and loaded spectra counts match.\n"
     ]
    }
   ],
   "execution_count": 8
  },
  {
   "metadata": {},
   "cell_type": "markdown",
   "source": "# Exploration",
   "id": "e5d4c739b0e30edc"
  },
  {
   "metadata": {
    "ExecuteTime": {
     "end_time": "2024-09-14T11:50:29.360615Z",
     "start_time": "2024-09-14T11:50:29.249122Z"
    }
   },
   "cell_type": "code",
   "source": "spectra = loaded_spectra",
   "id": "5a22422e6f298cbd",
   "outputs": [],
   "execution_count": 11
  },
  {
   "metadata": {
    "jupyter": {
     "is_executing": true
    },
    "ExecuteTime": {
     "start_time": "2024-09-14T11:50:31.934021Z"
    }
   },
   "cell_type": "code",
   "source": [
    "spectype_counter = Counter()\n",
    "\n",
    "for spectrum in spectra:\n",
    "        spectype = spectrum.get(\"spectype\", \"UNKNOWN\")  # default to \"UNKNOWN\" if spectype is missing\n",
    "        spectype_counter[spectype] += 1"
   ],
   "id": "61d33b8fae96e3f6",
   "outputs": [],
   "execution_count": null
  },
  {
   "metadata": {},
   "cell_type": "code",
   "outputs": [],
   "execution_count": null,
   "source": [
    "# Print the count of spectra with spectype == \"ALL_ENERGIES\" and other types\n",
    "print(f\"Number of spectra with spectype == 'ALL_ENERGIES': {spectype_counter['ALL_ENERGIES']}\")\n",
    "print(\"Other spectypes and their counts:\")\n",
    "for spectype, count in spectype_counter.items():\n",
    "    if spectype != \"ALL_ENERGIES\":\n",
    "        print(f\"{spectype}: {count}\")"
   ],
   "id": "c34e760212783138"
  }
 ],
 "metadata": {
  "kernelspec": {
   "display_name": "Python 3",
   "language": "python",
   "name": "python3"
  },
  "language_info": {
   "codemirror_mode": {
    "name": "ipython",
    "version": 2
   },
   "file_extension": ".py",
   "mimetype": "text/x-python",
   "name": "python",
   "nbconvert_exporter": "python",
   "pygments_lexer": "ipython2",
   "version": "2.7.6"
  }
 },
 "nbformat": 4,
 "nbformat_minor": 5
}
