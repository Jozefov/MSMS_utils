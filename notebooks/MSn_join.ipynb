{
 "cells": [
  {
   "cell_type": "code",
   "id": "initial_id",
   "metadata": {
    "collapsed": true,
    "ExecuteTime": {
     "end_time": "2024-09-15T07:25:31.772125Z",
     "start_time": "2024-09-15T07:25:29.698174Z"
    }
   },
   "source": [
    "import os\n",
    "import numpy as np\n",
    "from datetime import datetime\n",
    "from matchms import Spectrum\n",
    "from matchms.importing import load_from_mgf\n",
    "from matchms.exporting import save_as_mgf\n",
    "from collections import Counter\n",
    "\n",
    "from torch_geometric.graphgym.register import dataset_dict"
   ],
   "outputs": [
    {
     "name": "stderr",
     "output_type": "stream",
     "text": [
      "/Users/macbook/CODE/MS/venv/lib/python3.9/site-packages/urllib3/__init__.py:35: NotOpenSSLWarning: urllib3 v2 only supports OpenSSL 1.1.1+, currently the 'ssl' module is compiled with 'LibreSSL 2.8.3'. See: https://github.com/urllib3/urllib3/issues/3020\n",
      "  warnings.warn(\n"
     ]
    }
   ],
   "execution_count": 1
  },
  {
   "metadata": {
    "ExecuteTime": {
     "end_time": "2024-09-15T07:25:31.778353Z",
     "start_time": "2024-09-15T07:25:31.776242Z"
    }
   },
   "cell_type": "code",
   "source": [
    "FILE_1 = \"20231031_nihnp_library_pos_all_lib_MSn.mgf\"\n",
    "FILE_2 = \"20231130_mcescaf_library_pos_all_lib_MSn.mgf\"\n",
    "FILE_3 = \"20231130_otavapep_library_pos_all_lib_MSn.mgf\"\n",
    "FILE_4 = \"20240411_mcebio_library_pos_all_lib_MSn.mgf\""
   ],
   "id": "e0099319e9d3393b",
   "outputs": [],
   "execution_count": 2
  },
  {
   "metadata": {
    "ExecuteTime": {
     "end_time": "2024-09-15T07:25:31.873332Z",
     "start_time": "2024-09-15T07:25:31.871356Z"
    }
   },
   "cell_type": "code",
   "source": [
    "BASE_PATH = \"../data/MSn/ALL\"\n",
    "SAVE_PATH = \"../data/MSn/MSn\""
   ],
   "id": "9a520d250646c174",
   "outputs": [],
   "execution_count": 3
  },
  {
   "metadata": {
    "ExecuteTime": {
     "end_time": "2024-09-15T07:39:06.458943Z",
     "start_time": "2024-09-15T07:39:06.455828Z"
    }
   },
   "cell_type": "code",
   "source": [
    "file_paths = [os.path.join(BASE_PATH, FILE_1),\n",
    "              os.path.join(BASE_PATH, FILE_2),\n",
    "              os.path.join(BASE_PATH, FILE_3),\n",
    "              os.path.join(BASE_PATH, FILE_4)]"
   ],
   "id": "3abd5ff2f3f1882c",
   "outputs": [],
   "execution_count": 18
  },
  {
   "metadata": {},
   "cell_type": "code",
   "outputs": [],
   "execution_count": null,
   "source": "",
   "id": "4d029c55c4a15f42"
  },
  {
   "metadata": {
    "ExecuteTime": {
     "end_time": "2024-09-14T11:34:05.337916Z",
     "start_time": "2024-09-14T11:27:06.114015Z"
    }
   },
   "cell_type": "code",
   "source": [
    "all_spectra = []\n",
    "spectra_counts = {}\n",
    "\n",
    "for file_path in file_paths:\n",
    "    spectra = list(load_from_mgf(file_path))\n",
    "    spectra_counts[file_path] = len(spectra)\n",
    "    all_spectra.extend(spectra)\n",
    "\n",
    "for file, count in spectra_counts.items():\n",
    "    print(f\"{file}: {count} spectra\")\n",
    "\n",
    "combined_count = len(all_spectra)\n",
    "print(f\"Total combined spectra: {combined_count}\")"
   ],
   "id": "b46cb11b6b2e2b37",
   "outputs": [
    {
     "name": "stdout",
     "output_type": "stream",
     "text": [
      "../data/MSn/ALL/20231031_nihnp_library_pos_all_lib_MSn.mgf: 122837 spectra\n",
      "../data/MSn/ALL/20231130_mcescaf_library_pos_all_lib_MSn.mgf: 243033 spectra\n",
      "../data/MSn/ALL/20231130_otavapep_library_pos_all_lib_MSn.mgf: 63123 spectra\n",
      "../data/MSn/ALL/20240411_mcebio_library_pos_all_lib_MSn.mgf: 374412 spectra\n",
      "Total combined spectra: 803405\n"
     ]
    }
   ],
   "execution_count": 6
  },
  {
   "metadata": {
    "ExecuteTime": {
     "end_time": "2024-09-14T11:36:05.669499Z",
     "start_time": "2024-09-14T11:34:05.406287Z"
    }
   },
   "cell_type": "code",
   "source": [
    "# Define the output file name with the current date\n",
    "current_date = datetime.now().strftime(\"%Y%m%d\")\n",
    "output_file_name = f\"{current_date}_msn_library_pos_all_lib_MSn.mgf\"\n",
    "output_file_path = os.path.join(SAVE_PATH, output_file_name)\n",
    "\n",
    "# save_as_mgf(all_spectra, output_file_path)"
   ],
   "id": "3dabdadeae082b73",
   "outputs": [
    {
     "name": "stdout",
     "output_type": "stream",
     "text": [
      "dict_keys(['spectra'])\n"
     ]
    }
   ],
   "execution_count": 7
  },
  {
   "metadata": {
    "ExecuteTime": {
     "end_time": "2024-09-15T07:26:57.401757Z",
     "start_time": "2024-09-15T07:26:57.399452Z"
    }
   },
   "cell_type": "code",
   "source": "output_file_path = \"../data/MSn/MSn/20240914_msn_library_pos_all_lib_MSn.mgf\"",
   "id": "f68816f3b87489e8",
   "outputs": [],
   "execution_count": 5
  },
  {
   "metadata": {
    "ExecuteTime": {
     "end_time": "2024-09-15T07:32:31.036189Z",
     "start_time": "2024-09-15T07:26:58.621235Z"
    }
   },
   "cell_type": "code",
   "source": [
    "# Load the saved file to verify the number of spectra\n",
    "loaded_spectra = list(load_from_mgf(output_file_path))\n",
    "loaded_count = len(loaded_spectra)\n",
    "\n",
    "# Compare counts\n",
    "print(f\"Loaded spectra from saved file: {loaded_count}\")\n",
    "\n",
    "if combined_count == loaded_count:\n",
    "    print(\"Validation successful: Combined and loaded spectra counts match.\")\n",
    "else:\n",
    "    print(\"Validation failed: Counts do not match!\")\n",
    "    print(f\"Combined count: {combined_count}, Loaded count: {loaded_count}\")"
   ],
   "id": "694b91199923cb6f",
   "outputs": [
    {
     "name": "stdout",
     "output_type": "stream",
     "text": [
      "Loaded spectra from saved file: 803405\n"
     ]
    },
    {
     "ename": "NameError",
     "evalue": "name 'combined_count' is not defined",
     "output_type": "error",
     "traceback": [
      "\u001B[0;31m---------------------------------------------------------------------------\u001B[0m",
      "\u001B[0;31mNameError\u001B[0m                                 Traceback (most recent call last)",
      "Cell \u001B[0;32mIn[6], line 8\u001B[0m\n\u001B[1;32m      5\u001B[0m \u001B[38;5;66;03m# Compare counts\u001B[39;00m\n\u001B[1;32m      6\u001B[0m \u001B[38;5;28mprint\u001B[39m(\u001B[38;5;124mf\u001B[39m\u001B[38;5;124m\"\u001B[39m\u001B[38;5;124mLoaded spectra from saved file: \u001B[39m\u001B[38;5;132;01m{\u001B[39;00mloaded_count\u001B[38;5;132;01m}\u001B[39;00m\u001B[38;5;124m\"\u001B[39m)\n\u001B[0;32m----> 8\u001B[0m \u001B[38;5;28;01mif\u001B[39;00m \u001B[43mcombined_count\u001B[49m \u001B[38;5;241m==\u001B[39m loaded_count:\n\u001B[1;32m      9\u001B[0m     \u001B[38;5;28mprint\u001B[39m(\u001B[38;5;124m\"\u001B[39m\u001B[38;5;124mValidation successful: Combined and loaded spectra counts match.\u001B[39m\u001B[38;5;124m\"\u001B[39m)\n\u001B[1;32m     10\u001B[0m \u001B[38;5;28;01melse\u001B[39;00m:\n",
      "\u001B[0;31mNameError\u001B[0m: name 'combined_count' is not defined"
     ]
    }
   ],
   "execution_count": 6
  },
  {
   "metadata": {},
   "cell_type": "markdown",
   "source": "# test by copying line by line",
   "id": "41082813102d72da"
  },
  {
   "metadata": {
    "ExecuteTime": {
     "end_time": "2024-09-15T07:39:17.867290Z",
     "start_time": "2024-09-15T07:39:17.864892Z"
    }
   },
   "cell_type": "code",
   "source": "datasets_paths = file_paths",
   "id": "fb4e36591dc08c90",
   "outputs": [],
   "execution_count": 19
  },
  {
   "metadata": {
    "ExecuteTime": {
     "end_time": "2024-09-15T07:39:32.040230Z",
     "start_time": "2024-09-15T07:39:24.504035Z"
    }
   },
   "cell_type": "code",
   "source": [
    "# merge datasets into a single mgf file\n",
    "if os.path.exists(\"../data/MSn/MSn/all_MSn_spectra.mgf\"):\n",
    "    print(\"merged mgf file already exists in data/MSn/all_MSn_spectra.mgf\")\n",
    "else:\n",
    "    with open(\"../data/MSn/MSn/all_MSn_spectra.mgf\", \"w\") as outfile:\n",
    "        for dataset_path in datasets_paths:\n",
    "            print(dataset_path)\n",
    "            with open(dataset_path, \"r\") as infile:\n",
    "                for line in infile:\n",
    "                    outfile.write(line)\n",
    "                infile.close()\n",
    "    print(\"merged mgf file was successfully created in data/MSn/all_MSn_spectra.mgf\")"
   ],
   "id": "c628468f2f3605c8",
   "outputs": [
    {
     "name": "stdout",
     "output_type": "stream",
     "text": [
      "../data/MSn/ALL/20231031_nihnp_library_pos_all_lib_MSn.mgf\n",
      "../data/MSn/ALL/20231130_mcescaf_library_pos_all_lib_MSn.mgf\n",
      "../data/MSn/ALL/20231130_otavapep_library_pos_all_lib_MSn.mgf\n",
      "../data/MSn/ALL/20240411_mcebio_library_pos_all_lib_MSn.mgf\n",
      "merged mgf file was successfully created in data/MSn/all_MSn_spectra.mgf\n"
     ]
    }
   ],
   "execution_count": 20
  },
  {
   "metadata": {},
   "cell_type": "markdown",
   "source": "### compare",
   "id": "9e517429d2d7407d"
  },
  {
   "metadata": {
    "ExecuteTime": {
     "end_time": "2024-09-15T08:26:02.071081Z",
     "start_time": "2024-09-15T08:07:53.540505Z"
    }
   },
   "cell_type": "code",
   "source": [
    "# Define paths to the MGF files\n",
    "file_1 = \"../data/MSn/MSn/all_MSn_spectra.mgf\"\n",
    "file_2 = \"../data/MSn/MSn/20240914_msn_library_pos_all_lib_MSn.mgf\"\n",
    "\n",
    "# Load spectra from both files\n",
    "spectra_1 = list(load_from_mgf(file_1))\n",
    "spectra_2 = list(load_from_mgf(file_2))\n",
    "\n",
    "# Compare the number of spectra in each file\n",
    "num_spectra_1 = len(spectra_1)\n",
    "num_spectra_2 = len(spectra_2)\n",
    "\n",
    "print(f\"Number of spectra in {file_1}: {num_spectra_1}\")\n",
    "print(f\"Number of spectra in {file_2}: {num_spectra_2}\")\n",
    "\n",
    "# Check if the number of spectra is the same\n",
    "if num_spectra_1 != num_spectra_2:\n",
    "    print(\"The files have a different number of spectra.\")\n",
    "else:\n",
    "    print(\"The files have the same number of spectra.\")\n",
    "\n",
    "# Function to compare two spectra based on mz, intensities, and metadata\n",
    "def compare_spectra(spectrum1, spectrum2):\n",
    "    if spectrum1.get(\"mz\") != spectrum2.get(\"mz\"):\n",
    "        return False\n",
    "    if spectrum1.get(\"intensities\") != spectrum2.get(\"intensities\"):\n",
    "        return False\n",
    "    if spectrum1.metadata != spectrum2.metadata:\n",
    "        return False\n",
    "    return True\n",
    "\n",
    "# Compare each spectrum pair\n",
    "differences = []\n",
    "for i, (spec1, spec2) in enumerate(zip(spectra_1, spectra_2)):\n",
    "    if not compare_spectra(spec1, spec2):\n",
    "        differences.append(i)\n",
    "\n",
    "# Output the results of the comparison\n",
    "if differences:\n",
    "    print(f\"Differences found in {len(differences)} spectra:\")\n",
    "    for idx in differences:\n",
    "        print(f\"  - Spectrum index {idx} differs.\")\n",
    "else:\n",
    "    print(\"All spectra are identical between the two files.\")"
   ],
   "id": "6f68e81cfddef630",
   "outputs": [
    {
     "name": "stdout",
     "output_type": "stream",
     "text": [
      "Number of spectra in ../data/MSn/MSn/all_MSn_spectra.mgf: 803405\n",
      "Number of spectra in ../data/MSn/MSn/20240914_msn_library_pos_all_lib_MSn.mgf: 803405\n",
      "The files have the same number of spectra.\n",
      "All spectra are identical between the two files.\n"
     ]
    }
   ],
   "execution_count": 35
  },
  {
   "metadata": {
    "ExecuteTime": {
     "end_time": "2024-09-15T08:32:29.597936Z",
     "start_time": "2024-09-15T08:32:29.593306Z"
    }
   },
   "cell_type": "code",
   "source": "spectra_1[773446].metadata_dict()",
   "id": "16ab76d010cef5a7",
   "outputs": [
    {
     "data": {
      "text/plain": [
       "{'comment': '37052-78-1;5-Methoxy-2-mercaptobenzimidazole;2-Mercapto-5-methoxybenzimidazole;5-methoxy-1H-benzo[d]imidazole-2-thiol;5-Methoxy-2-benzimidazolethiol;5-methoxy-1H-benzimidazole-2-thiol;5-methoxy-1,3-dihydrobenzimidazole-2-thione;1,3-Dihydro-5-methoxy-2H-benzimidazole-2-thione;5-methoxy-1H-1,3-benzodiazole-2-thiol;2H-Benzimidazole-2-thione, 1,3-dihydro-5-methoxy-;2-MERCAPTO-5-METHOXY-1H-BENZIMIDAZOLE;MFCD00134581;5-Methoxy-1H-benzoimidazole-2-thiol;143562LXX0;5-methoxy-1H-benzo[d]imidazole-2(3H)-thione;2H-Benzimidazole-2-thione, 1,3-dihydro-5-(methoxy-d3)-;\"5-Methoxy-1H-benzo[d]imidazole-2-thiol;5-Methoxy-2-mercaptobenzimidazole\";5-METHOXY-1H-BENZO(D)IMIDAZOLE-2(3H)-THIONE;UNII-143562LXX0;EINECS 253-326-2;Omeprazole Impurity A;1219804-80-4;Maybridge1_006266;EC 253-326-2;5-methoxy-1,3-dihydro-2H-benzimidazole-2-thione;5-methoxy-2benzimidazolethiol;MLS000083176;5-Methoxy-2-benzimidazolthiol;SCHEMBL916531;CHEMBL1509639;SCHEMBL16198394;HMS559E18;2-Mercapto-5-methoxy-1H-benzim;6-methoxy-2-mercaptobenzimidazole;DTXSID20190558;2-mercpato-5-methoxy benzimdazole;2-mercapto-5-methoxybenzoimidazole;HMS2298P11;2-mercapto-5-methoxy benzimidazole;ACT07817;ALBB-004065;BCP04509;5 -methoxy-2 -mercaptobenzimidazole;CCG-42938;STK506487;STK802141;6-Methoxy-1H-benzoimidazole-2-thiol;5-Methoxy-2-benzimidazolethiol, 99%;AKOS000120845;AKOS002657565;AKOS023552903;5-methoxy-(1H)-benzimidazole-2-thiol;5-methoxy-2-mercapto-1H-benzimidazole;AB03750;AC-6273;CCG-339969;CS-W008378;HY-W008378;PS-6231;SMR000046769;SY018610;5-METHOXY-2-THIO-1H-BENZIMIDAZOLE;5-METHOXYBENZO[D]IMIDAZOLE-2-THIOL;DB-013211;OMEPRAZOLE IMPURITY A [EP IMPURITY];5-methoxy-1H-benzimidazol-2-yl hydrosulfide;5-METHOXY-2-THIOHYDROXY BENZIMIDAZOLE;A6375;AM20040306;BB 0240770;FT-0612746;M1256;EN300-18300;AN-829/05700007;SR-01000534899;SR-01000534899-1;SR-01000534899-3;W-202531;OMEPRAZOLE MAGNESIUM IMPURITY A [EP IMPURITY];Q27251572;Z221604426;ETHYL3-[(1H-PYRROLE-2-CARBONYL)-AMINO]PROPIONATE',\n",
       " 'description': 'MCE bioactive compounds',\n",
       " 'formula': 'C8H8N2OS',\n",
       " 'inchi': 'InChI=1S/C8H8N2OS/c1-11-5-2-3-6-7(4-5)10-8(12)9-6/h2-4H,1H3,(H2,9,10,12)',\n",
       " 'smiles': 'COc1cc2c(cc1)[nH]c(=S)[nH]2',\n",
       " 'feature_id': '286',\n",
       " 'adduct': '[M+H]+',\n",
       " 'acquisition': 'Crude',\n",
       " 'msn_collision_energies': '[45.0, 40.0, 20.0]',\n",
       " 'msn_precursor_mzs': '[181.043228149414, 123.067962646484, 108.044403076172]',\n",
       " 'msn_fragmentation_methods': '[HCD, HCD, HCD]',\n",
       " 'msn_isolation_windows': '[1.200000047684, 2.0, 2.200000047684]',\n",
       " 'instrument_type': 'Orbitrap',\n",
       " 'ims_type': 'none',\n",
       " 'ion_source': 'ESI',\n",
       " 'ionmode': 'positive',\n",
       " 'dataset_id': 'MSVPLACEHOLDERID',\n",
       " 'usi': 'mzspec:MSVPLACEHOLDERID:20220613_100AGC_60000Res_pluskal_mce_1D3_G16_id.mzML:286',\n",
       " 'scans': '286',\n",
       " 'precursor_purity': '0.9809694920643596',\n",
       " 'quality_chimeric': 'PASSED',\n",
       " 'quality_explained_intensity': '1.0',\n",
       " 'quality_explained_signals': '1.0',\n",
       " 'num_peaks': '2',\n",
       " 'compound_name': '37052-78-1',\n",
       " 'parent_mass': '180.035734',\n",
       " 'inchi_aux': 'KOFBRZWVWJCLGM-UHFFFAOYSA-N',\n",
       " 'ms_level': '4',\n",
       " 'retention_time': 68.91,\n",
       " 'principal_investigator': 'Tomas Pluskal',\n",
       " 'data_collector': 'Corinna Brungs',\n",
       " 'precursor_mz': 181.04301}"
      ]
     },
     "execution_count": 37,
     "metadata": {},
     "output_type": "execute_result"
    }
   ],
   "execution_count": 37
  },
  {
   "metadata": {
    "ExecuteTime": {
     "end_time": "2024-09-15T08:33:14.476575Z",
     "start_time": "2024-09-15T08:33:14.472924Z"
    }
   },
   "cell_type": "code",
   "source": "spectra_2[773446].metadata_dict()",
   "id": "7ebf6dd3b5eab3f1",
   "outputs": [
    {
     "data": {
      "text/plain": [
       "{'comment': '37052-78-1;5-Methoxy-2-mercaptobenzimidazole;2-Mercapto-5-methoxybenzimidazole;5-methoxy-1H-benzo[d]imidazole-2-thiol;5-Methoxy-2-benzimidazolethiol;5-methoxy-1H-benzimidazole-2-thiol;5-methoxy-1,3-dihydrobenzimidazole-2-thione;1,3-Dihydro-5-methoxy-2H-benzimidazole-2-thione;5-methoxy-1H-1,3-benzodiazole-2-thiol;2H-Benzimidazole-2-thione, 1,3-dihydro-5-methoxy-;2-MERCAPTO-5-METHOXY-1H-BENZIMIDAZOLE;MFCD00134581;5-Methoxy-1H-benzoimidazole-2-thiol;143562LXX0;5-methoxy-1H-benzo[d]imidazole-2(3H)-thione;2H-Benzimidazole-2-thione, 1,3-dihydro-5-(methoxy-d3)-;\"5-Methoxy-1H-benzo[d]imidazole-2-thiol;5-Methoxy-2-mercaptobenzimidazole\";5-METHOXY-1H-BENZO(D)IMIDAZOLE-2(3H)-THIONE;UNII-143562LXX0;EINECS 253-326-2;Omeprazole Impurity A;1219804-80-4;Maybridge1_006266;EC 253-326-2;5-methoxy-1,3-dihydro-2H-benzimidazole-2-thione;5-methoxy-2benzimidazolethiol;MLS000083176;5-Methoxy-2-benzimidazolthiol;SCHEMBL916531;CHEMBL1509639;SCHEMBL16198394;HMS559E18;2-Mercapto-5-methoxy-1H-benzim;6-methoxy-2-mercaptobenzimidazole;DTXSID20190558;2-mercpato-5-methoxy benzimdazole;2-mercapto-5-methoxybenzoimidazole;HMS2298P11;2-mercapto-5-methoxy benzimidazole;ACT07817;ALBB-004065;BCP04509;5 -methoxy-2 -mercaptobenzimidazole;CCG-42938;STK506487;STK802141;6-Methoxy-1H-benzoimidazole-2-thiol;5-Methoxy-2-benzimidazolethiol, 99%;AKOS000120845;AKOS002657565;AKOS023552903;5-methoxy-(1H)-benzimidazole-2-thiol;5-methoxy-2-mercapto-1H-benzimidazole;AB03750;AC-6273;CCG-339969;CS-W008378;HY-W008378;PS-6231;SMR000046769;SY018610;5-METHOXY-2-THIO-1H-BENZIMIDAZOLE;5-METHOXYBENZO[D]IMIDAZOLE-2-THIOL;DB-013211;OMEPRAZOLE IMPURITY A [EP IMPURITY];5-methoxy-1H-benzimidazol-2-yl hydrosulfide;5-METHOXY-2-THIOHYDROXY BENZIMIDAZOLE;A6375;AM20040306;BB 0240770;FT-0612746;M1256;EN300-18300;AN-829/05700007;SR-01000534899;SR-01000534899-1;SR-01000534899-3;W-202531;OMEPRAZOLE MAGNESIUM IMPURITY A [EP IMPURITY];Q27251572;Z221604426;ETHYL3-[(1H-PYRROLE-2-CARBONYL)-AMINO]PROPIONATE',\n",
       " 'description': 'MCE bioactive compounds',\n",
       " 'formula': 'C8H8N2OS',\n",
       " 'inchi': 'InChI=1S/C8H8N2OS/c1-11-5-2-3-6-7(4-5)10-8(12)9-6/h2-4H,1H3,(H2,9,10,12)',\n",
       " 'smiles': 'COc1cc2c(cc1)[nH]c(=S)[nH]2',\n",
       " 'feature_id': '286',\n",
       " 'adduct': '[M+H]+',\n",
       " 'acquisition': 'Crude',\n",
       " 'msn_collision_energies': '[45.0, 40.0, 20.0]',\n",
       " 'msn_precursor_mzs': '[181.043228149414, 123.067962646484, 108.044403076172]',\n",
       " 'msn_fragmentation_methods': '[HCD, HCD, HCD]',\n",
       " 'msn_isolation_windows': '[1.200000047684, 2.0, 2.200000047684]',\n",
       " 'instrument_type': 'Orbitrap',\n",
       " 'ims_type': 'none',\n",
       " 'ion_source': 'ESI',\n",
       " 'ionmode': 'positive',\n",
       " 'dataset_id': 'MSVPLACEHOLDERID',\n",
       " 'usi': 'mzspec:MSVPLACEHOLDERID:20220613_100AGC_60000Res_pluskal_mce_1D3_G16_id.mzML:286',\n",
       " 'scans': '286',\n",
       " 'precursor_purity': '0.9809694920643596',\n",
       " 'quality_chimeric': 'PASSED',\n",
       " 'quality_explained_intensity': '1.0',\n",
       " 'quality_explained_signals': '1.0',\n",
       " 'num_peaks': '2',\n",
       " 'compound_name': '37052-78-1',\n",
       " 'parent_mass': '180.035734',\n",
       " 'inchi_aux': 'KOFBRZWVWJCLGM-UHFFFAOYSA-N',\n",
       " 'ms_level': '4',\n",
       " 'retention_time': 68.91,\n",
       " 'principal_investigator': 'Tomas Pluskal',\n",
       " 'data_collector': 'Corinna Brungs',\n",
       " 'precursor_mz': 181.04301}"
      ]
     },
     "execution_count": 38,
     "metadata": {},
     "output_type": "execute_result"
    }
   ],
   "execution_count": 38
  },
  {
   "metadata": {},
   "cell_type": "markdown",
   "source": "# Exploration",
   "id": "e5d4c739b0e30edc"
  },
  {
   "metadata": {
    "ExecuteTime": {
     "end_time": "2024-09-14T11:50:29.360615Z",
     "start_time": "2024-09-14T11:50:29.249122Z"
    }
   },
   "cell_type": "code",
   "source": "spectra = loaded_spectra",
   "id": "5a22422e6f298cbd",
   "outputs": [],
   "execution_count": 11
  },
  {
   "metadata": {
    "ExecuteTime": {
     "end_time": "2024-09-14T11:51:11.613390Z",
     "start_time": "2024-09-14T11:50:31.934021Z"
    }
   },
   "cell_type": "code",
   "source": [
    "spectype_counter = Counter()\n",
    "\n",
    "for spectrum in spectra:\n",
    "        spectype = spectrum.get(\"spectype\", \"UNKNOWN\")  # default to \"UNKNOWN\" if spectype is missing\n",
    "        spectype_counter[spectype] += 1"
   ],
   "id": "61d33b8fae96e3f6",
   "outputs": [],
   "execution_count": 12
  },
  {
   "metadata": {
    "ExecuteTime": {
     "end_time": "2024-09-14T11:51:11.620529Z",
     "start_time": "2024-09-14T11:51:11.617808Z"
    }
   },
   "cell_type": "code",
   "source": [
    "# Print the count of spectra with spectype == \"ALL_ENERGIES\" and other types\n",
    "print(f\"Number of spectra with spectype == 'ALL_ENERGIES': {spectype_counter['ALL_ENERGIES']}\")\n",
    "print(\"Other spectypes and their counts:\")\n",
    "for spectype, count in spectype_counter.items():\n",
    "    if spectype != \"ALL_ENERGIES\":\n",
    "        print(f\"{spectype}: {count}\")"
   ],
   "id": "c34e760212783138",
   "outputs": [
    {
     "name": "stdout",
     "output_type": "stream",
     "text": [
      "Number of spectra with spectype == 'ALL_ENERGIES': 183365\n",
      "Other spectypes and their counts:\n",
      "ALL_MSN_TO_PSEUDO_MS2: 16158\n",
      "SAME_ENERGY: 121032\n",
      "UNKNOWN: 482850\n"
     ]
    }
   ],
   "execution_count": 13
  }
 ],
 "metadata": {
  "kernelspec": {
   "display_name": "Python 3",
   "language": "python",
   "name": "python3"
  },
  "language_info": {
   "codemirror_mode": {
    "name": "ipython",
    "version": 2
   },
   "file_extension": ".py",
   "mimetype": "text/x-python",
   "name": "python",
   "nbconvert_exporter": "python",
   "pygments_lexer": "ipython2",
   "version": "2.7.6"
  }
 },
 "nbformat": 4,
 "nbformat_minor": 5
}
